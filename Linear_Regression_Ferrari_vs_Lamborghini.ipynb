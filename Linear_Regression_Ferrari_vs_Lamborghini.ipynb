{
  "nbformat": 4,
  "nbformat_minor": 0,
  "metadata": {
    "colab": {
      "name": "Linear_Regression: Ferrari vs Lamborghini",
      "provenance": [],
      "collapsed_sections": [],
      "authorship_tag": "ABX9TyPF8Mo2ZtdGw2x+KblYRGtk",
      "include_colab_link": true
    },
    "kernelspec": {
      "name": "python3",
      "display_name": "Python 3"
    },
    "language_info": {
      "name": "python"
    }
  },
  "cells": [
    {
      "cell_type": "markdown",
      "metadata": {
        "id": "view-in-github",
        "colab_type": "text"
      },
      "source": [
        "<a href=\"https://colab.research.google.com/github/bcury/Python-s-Projects/blob/main/Linear_Regression_Ferrari_vs_Lamborghini.ipynb\" target=\"_parent\"><img src=\"https://colab.research.google.com/assets/colab-badge.svg\" alt=\"Open In Colab\"/></a>"
      ]
    },
    {
      "cell_type": "markdown",
      "metadata": {
        "id": "4R-HkWeIdp1q"
      },
      "source": [
        "Code By Odemir Jr. Channel on Youtube Data Viking"
      ]
    },
    {
      "cell_type": "code",
      "metadata": {
        "id": "_i2_H-vnWlCl"
      },
      "source": [
        "import pandas as pd\n",
        "import numpy as np"
      ],
      "execution_count": null,
      "outputs": []
    },
    {
      "cell_type": "code",
      "metadata": {
        "id": "eoum5oMcWvXR"
      },
      "source": [
        "#criar lista com valores\n",
        "Metragem = [40,45,50,55,60,62,65,70,80,90,\n",
        "92,100,110,120,150]\n",
        "Valor = [200,280,310,350,390,410,450,490,\n",
        "550,620,670,700,750,810,989]"
      ],
      "execution_count": null,
      "outputs": []
    },
    {
      "cell_type": "code",
      "metadata": {
        "id": "TPjbvZmfX4Zl"
      },
      "source": [
        "Dicionario = {'Metragem': Metragem,\n",
        "  'Valor Imovel': Valor}"
      ],
      "execution_count": null,
      "outputs": []
    },
    {
      "cell_type": "code",
      "metadata": {
        "id": "UedqL4Ujadmv"
      },
      "source": [
        "Data_Frame = pd.DataFrame(data=Dicionario)"
      ],
      "execution_count": null,
      "outputs": []
    },
    {
      "cell_type": "code",
      "metadata": {
        "id": "hXxjUJOBakP4"
      },
      "source": [
        "Eixo_x = Data_Frame.iloc[:,0]\n",
        "Eixo_y = Data_Frame.iloc[:,1]"
      ],
      "execution_count": null,
      "outputs": []
    },
    {
      "cell_type": "code",
      "metadata": {
        "colab": {
          "base_uri": "https://localhost:8080/"
        },
        "id": "hPUALrt1azLZ",
        "outputId": "d1350f98-53ce-4855-bfb6-9cfbb769ccfd"
      },
      "source": [
        "#correlação\n",
        "correlacao = np.corrcoef( Eixo_x, Eixo_y )\n",
        "correlacao"
      ],
      "execution_count": null,
      "outputs": [
        {
          "output_type": "execute_result",
          "data": {
            "text/plain": [
              "array([[1.        , 0.99320395],\n",
              "       [0.99320395, 1.        ]])"
            ]
          },
          "metadata": {},
          "execution_count": 19
        }
      ]
    },
    {
      "cell_type": "code",
      "metadata": {
        "id": "m4X3ZMnGbA4h"
      },
      "source": [
        "#conversao eixo x para forma de matriz\n",
        "Eixo_x = Eixo_x.values.reshape(-1,1)"
      ],
      "execution_count": null,
      "outputs": []
    },
    {
      "cell_type": "code",
      "metadata": {
        "id": "CHt0v3F0cCPs"
      },
      "source": [
        "from sklearn.linear_model import LinearRegression  # treinar o modelo"
      ],
      "execution_count": null,
      "outputs": []
    },
    {
      "cell_type": "code",
      "metadata": {
        "colab": {
          "base_uri": "https://localhost:8080/"
        },
        "id": "gBDwBvdjcMHS",
        "outputId": "15e4cf31-b94c-4c03-e345-59b4b8c1f7d3"
      },
      "source": [
        "Regressor = LinearRegression()\n",
        "Regressor.fit( Eixo_x, Eixo_y)\n"
      ],
      "execution_count": null,
      "outputs": [
        {
          "output_type": "execute_result",
          "data": {
            "text/plain": [
              "LinearRegression(copy_X=True, fit_intercept=True, n_jobs=None, normalize=False)"
            ]
          },
          "metadata": {},
          "execution_count": 24
        }
      ]
    },
    {
      "cell_type": "code",
      "metadata": {
        "id": "CUZfTHsWcmBk"
      },
      "source": [
        "#indentificando B0 e B1\n",
        "B1 = Regressor.coef_\n",
        "B0 = Regressor.intercept_"
      ],
      "execution_count": null,
      "outputs": []
    },
    {
      "cell_type": "code",
      "metadata": {
        "colab": {
          "base_uri": "https://localhost:8080/"
        },
        "id": "fpJCXcxMcxeI",
        "outputId": "9e1c04c5-1bbf-4250-b923-35f715fa9cd0"
      },
      "source": [
        "print('B0=',B0,'\\n','B1=',B1[0])"
      ],
      "execution_count": null,
      "outputs": [
        {
          "output_type": "stream",
          "name": "stdout",
          "text": [
            "B0= -32.38752208173719 \n",
            " B1= 7.110860244933606\n"
          ]
        }
      ]
    },
    {
      "cell_type": "code",
      "metadata": {
        "colab": {
          "base_uri": "https://localhost:8080/"
        },
        "id": "3DEjI-xWdUzi",
        "outputId": "73629d7b-6721-4e5c-9cd1-af30fdee6216"
      },
      "source": [
        "#score\n",
        "score = Regressor.score( Eixo_x, Eixo_y)\n",
        "score"
      ],
      "execution_count": null,
      "outputs": [
        {
          "output_type": "execute_result",
          "data": {
            "text/plain": [
              "0.9864540901286758"
            ]
          },
          "metadata": {},
          "execution_count": 29
        }
      ]
    },
    {
      "cell_type": "markdown",
      "metadata": {
        "id": "6mykw32GdiCg"
      },
      "source": [
        "Acuracia de 98,6%  Excelente"
      ]
    }
  ]
}