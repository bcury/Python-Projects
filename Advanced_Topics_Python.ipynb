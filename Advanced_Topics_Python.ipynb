{
  "nbformat": 4,
  "nbformat_minor": 0,
  "metadata": {
    "colab": {
      "name": "Advanced_Topics_Python",
      "provenance": [],
      "collapsed_sections": [],
      "authorship_tag": "ABX9TyO2PbnB2Z3VFThNZimfJktw",
      "include_colab_link": true
    },
    "kernelspec": {
      "name": "python3",
      "display_name": "Python 3"
    },
    "language_info": {
      "name": "python"
    }
  },
  "cells": [
    {
      "cell_type": "markdown",
      "metadata": {
        "id": "view-in-github",
        "colab_type": "text"
      },
      "source": [
        "<a href=\"https://colab.research.google.com/github/bcury/Python-Projects/blob/main/Advanced_Topics_Python.ipynb\" target=\"_parent\"><img src=\"https://colab.research.google.com/assets/colab-badge.svg\" alt=\"Open In Colab\"/></a>"
      ]
    },
    {
      "cell_type": "markdown",
      "source": [
        "**List Comprehension**"
      ],
      "metadata": {
        "id": "cvZU8qtv5IBI"
      }
    },
    {
      "cell_type": "markdown",
      "source": [
        "Forma normal de se fazer:"
      ],
      "metadata": {
        "id": "_M72XHtR5_oO"
      }
    },
    {
      "cell_type": "code",
      "execution_count": 3,
      "metadata": {
        "colab": {
          "base_uri": "https://localhost:8080/"
        },
        "id": "p7OnpzM319UC",
        "outputId": "d882ec2c-6f8b-49ce-a4d1-df58a610f61b"
      },
      "outputs": [
        {
          "output_type": "stream",
          "name": "stdout",
          "text": [
            "[1, 2, 3, 4, 5]\n",
            "[1, 4, 9, 16, 25]\n"
          ]
        }
      ],
      "source": [
        "x = [1, 2, 3, 4, 5]\n",
        "y = []\n",
        "\n",
        "for i in x:\n",
        "    y.append(i**2) #exemplo para que y seja os numeros ao quadradro, poderia ser outra condição\n",
        "\n",
        "print(x)\n",
        "print(y)"
      ]
    },
    {
      "cell_type": "markdown",
      "source": [
        "Com o List Comprehension, temos:"
      ],
      "metadata": {
        "id": "wa_y99Cs6ClP"
      }
    },
    {
      "cell_type": "code",
      "source": [
        "x = [1, 2, 3, 4, 5]\n",
        "y = [i**2 for i in x]\n",
        "\n",
        "print(x)\n",
        "print(y)"
      ],
      "metadata": {
        "colab": {
          "base_uri": "https://localhost:8080/"
        },
        "id": "pFJe2_-D5pQ_",
        "outputId": "877fe9f0-be41-42e8-ae9e-8de4fc98059f"
      },
      "execution_count": 4,
      "outputs": [
        {
          "output_type": "stream",
          "name": "stdout",
          "text": [
            "[1, 2, 3, 4, 5]\n",
            "[1, 4, 9, 16, 25]\n"
          ]
        }
      ]
    },
    {
      "cell_type": "markdown",
      "source": [
        "outro exemplo"
      ],
      "metadata": {
        "id": "MJHAtBJW6utN"
      }
    },
    {
      "cell_type": "code",
      "source": [
        "x = [1, 2, 3, 4, 5]\n",
        "y = [i**2 for i in x]\n",
        "z = [i for i in x if i%2 == 1] #só os numeros impar for de x\n",
        "\n",
        "print(z)"
      ],
      "metadata": {
        "colab": {
          "base_uri": "https://localhost:8080/"
        },
        "id": "Fecyqe6z6lLx",
        "outputId": "42c2a9ba-803c-482e-ca35-197a5a3cb04b"
      },
      "execution_count": 6,
      "outputs": [
        {
          "output_type": "stream",
          "name": "stdout",
          "text": [
            "[1, 3, 5]\n"
          ]
        }
      ]
    },
    {
      "cell_type": "markdown",
      "source": [
        "**Enumerate**"
      ],
      "metadata": {
        "id": "0RETN_fD7ZKW"
      }
    },
    {
      "cell_type": "code",
      "source": [
        "lista = ['abacate', 'bola', 'gato']\n",
        "\n",
        "for i in range(len(lista)):\n",
        "  print(i, lista[i])\n",
        "\n"
      ],
      "metadata": {
        "colab": {
          "base_uri": "https://localhost:8080/"
        },
        "id": "As38bdOF7NAa",
        "outputId": "2a7e4706-2f7e-4b09-85f5-50f7b90afc83"
      },
      "execution_count": 14,
      "outputs": [
        {
          "output_type": "stream",
          "name": "stdout",
          "text": [
            "0 abacate\n",
            "1 bola\n",
            "2 gato\n"
          ]
        }
      ]
    },
    {
      "cell_type": "markdown",
      "source": [
        "mas temos o Enumerate agora"
      ],
      "metadata": {
        "id": "9b4f_vAzDRXb"
      }
    },
    {
      "cell_type": "code",
      "source": [
        "lista = ['abacate', 'bola', 'gato']\n",
        "\n",
        "for i, nome in enumerate(lista):\n",
        "  print(i, nome)"
      ],
      "metadata": {
        "colab": {
          "base_uri": "https://localhost:8080/"
        },
        "id": "52tD2hf9C2Pn",
        "outputId": "afc9abff-99e2-49b4-d20c-b3e5d00457a0"
      },
      "execution_count": 15,
      "outputs": [
        {
          "output_type": "stream",
          "name": "stdout",
          "text": [
            "0 abacate\n",
            "1 bola\n",
            "2 gato\n"
          ]
        }
      ]
    },
    {
      "cell_type": "markdown",
      "source": [
        "**Filter**"
      ],
      "metadata": {
        "id": "1TKn-FBvEIt7"
      }
    },
    {
      "cell_type": "code",
      "source": [
        "def pares(i):\n",
        "    if i % 2 == 0:\n",
        "        return i\n",
        "lista = [1,2,3,4,5,6,7,8,9,10]\n",
        "\n",
        "lista_pares = filter(pares, lista)\n",
        "\n",
        "print(list(lista_pares))\n"
      ],
      "metadata": {
        "colab": {
          "base_uri": "https://localhost:8080/"
        },
        "id": "zAlw_aOPEKZd",
        "outputId": "31d7c9ef-3bbb-49d8-d40e-775bf91dc765"
      },
      "execution_count": 20,
      "outputs": [
        {
          "output_type": "stream",
          "name": "stdout",
          "text": [
            "[2, 4, 6, 8, 10]\n"
          ]
        }
      ]
    },
    {
      "cell_type": "markdown",
      "source": [
        "**Map**"
      ],
      "metadata": {
        "id": "wCxtlxZOFojN"
      }
    },
    {
      "cell_type": "code",
      "source": [
        "def dobro(x):\n",
        "    return x*2\n",
        "\n",
        "valor = [1,2,3,4,5]\n",
        "valor_dobrado = map(dobro, valor) #serve pra fazer a def acima funcionar corretamente em relação ao valor\n",
        "\n",
        "for v in valor_dobrado:\n",
        "    print(v)\n",
        "\n"
      ],
      "metadata": {
        "colab": {
          "base_uri": "https://localhost:8080/"
        },
        "id": "xD0k9sPLFvxb",
        "outputId": "da55f025-9437-4f4d-a5e6-1d811247aeaf"
      },
      "execution_count": 27,
      "outputs": [
        {
          "output_type": "stream",
          "name": "stdout",
          "text": [
            "2\n",
            "4\n",
            "6\n",
            "8\n",
            "10\n"
          ]
        }
      ]
    },
    {
      "cell_type": "code",
      "source": [
        "#ou\n",
        "def dobro(x):\n",
        "    return x*2\n",
        "\n",
        "valor = [1,2,3,4,5]\n",
        "valor_dobrado = map(dobro, valor) #serve pra fazer a def acima funcionar corretamente em relação ao valor\n",
        "\n",
        "valor_dobrado = list(valor_dobrado)\n",
        "print(valor_dobrado)"
      ],
      "metadata": {
        "colab": {
          "base_uri": "https://localhost:8080/"
        },
        "id": "XGSR6p4rH1Vp",
        "outputId": "2c0ce979-4051-4ccc-9022-5ea1b70029f4"
      },
      "execution_count": 30,
      "outputs": [
        {
          "output_type": "stream",
          "name": "stdout",
          "text": [
            "[2, 4, 6, 8, 10]\n"
          ]
        }
      ]
    },
    {
      "cell_type": "markdown",
      "source": [
        "**Reduce**"
      ],
      "metadata": {
        "id": "mTwcyZXQFqVL"
      }
    },
    {
      "cell_type": "code",
      "source": [
        "from functools import reduce\n",
        "def soma(x, y):\n",
        "    return x+y\n",
        "\n",
        "lista = [1,3,5,10,20]\n",
        "\n",
        "soma = reduce(soma, lista) #somou todos os numeros da lista um com outro\n",
        "print(soma)\n"
      ],
      "metadata": {
        "colab": {
          "base_uri": "https://localhost:8080/"
        },
        "id": "KI10TgQYIFSz",
        "outputId": "e70ee6a8-88cc-40be-949d-2fc923539436"
      },
      "execution_count": 34,
      "outputs": [
        {
          "output_type": "stream",
          "name": "stdout",
          "text": [
            "39\n"
          ]
        }
      ]
    },
    {
      "cell_type": "markdown",
      "source": [
        "**Zip**"
      ],
      "metadata": {
        "id": "uOn1cwkcFsvR"
      }
    },
    {
      "cell_type": "code",
      "source": [
        "lista1 = [1,2,3,4,5]\n",
        "lista2 = ['abacate','bola','gato','dinheiro','salgado']\n",
        "\n",
        "for numero, nome in zip(lista1, lista2): #zipa todas as listas...poderia ter mais\n",
        "    print(numero, nome)\n"
      ],
      "metadata": {
        "colab": {
          "base_uri": "https://localhost:8080/"
        },
        "id": "gnWKsQyKFCmq",
        "outputId": "169a9ae0-e773-4ecf-a893-ee5ed0939884"
      },
      "execution_count": 36,
      "outputs": [
        {
          "output_type": "stream",
          "name": "stdout",
          "text": [
            "1 abacate\n",
            "2 bola\n",
            "3 gato\n",
            "4 dinheiro\n",
            "5 salgado\n"
          ]
        }
      ]
    }
  ]
}