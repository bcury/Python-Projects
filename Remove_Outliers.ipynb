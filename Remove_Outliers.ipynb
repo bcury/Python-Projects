{
  "nbformat": 4,
  "nbformat_minor": 0,
  "metadata": {
    "colab": {
      "name": "Remove_Outliers",
      "provenance": [],
      "collapsed_sections": [],
      "authorship_tag": "ABX9TyPOHfvccHDTf1cElyXGu7x5",
      "include_colab_link": true
    },
    "kernelspec": {
      "name": "python3",
      "display_name": "Python 3"
    },
    "language_info": {
      "name": "python"
    }
  },
  "cells": [
    {
      "cell_type": "markdown",
      "metadata": {
        "id": "view-in-github",
        "colab_type": "text"
      },
      "source": [
        "<a href=\"https://colab.research.google.com/github/bcury/Python-s-Projects/blob/main/Remove_Outliers.ipynb\" target=\"_parent\"><img src=\"https://colab.research.google.com/assets/colab-badge.svg\" alt=\"Open In Colab\"/></a>"
      ]
    },
    {
      "cell_type": "markdown",
      "metadata": {
        "id": "o_OHsLVx997U"
      },
      "source": [
        ""
      ]
    },
    {
      "cell_type": "markdown",
      "metadata": {
        "id": "HHJkr56j-H8h"
      },
      "source": [
        "**Remover** Outliers\n",
        "***Remove** Outliers"
      ]
    },
    {
      "cell_type": "code",
      "metadata": {
        "id": "a3ncyJxV-K_a"
      },
      "source": [
        "import pandas as pd\n",
        "import numpy as np\n",
        "import seaborn as sns\n",
        "import matplotlib.pyplot as plt\n"
      ],
      "execution_count": null,
      "outputs": []
    },
    {
      "cell_type": "code",
      "metadata": {
        "id": "0rVIrDiV-aWU"
      },
      "source": [
        "Valores = pd.Series([21, 56, 33, 21, 29, 30, 34, 30, 1, 2, 200,1000])"
      ],
      "execution_count": null,
      "outputs": []
    },
    {
      "cell_type": "code",
      "metadata": {
        "id": "KZKqj_Ja_hnQ"
      },
      "source": [
        "valoress_Est = Valores.describe()"
      ],
      "execution_count": null,
      "outputs": []
    },
    {
      "cell_type": "code",
      "metadata": {
        "colab": {
          "base_uri": "https://localhost:8080/"
        },
        "id": "iqiCIlI9_tmF",
        "outputId": "c36ccf7e-bcdf-40ce-ca9b-5f89b4f93633"
      },
      "source": [
        "valores_Est"
      ],
      "execution_count": null,
      "outputs": [
        {
          "output_type": "execute_result",
          "data": {
            "text/plain": [
              "count      12.000000\n",
              "mean      121.416667\n",
              "std       281.554922\n",
              "min         1.000000\n",
              "25%        21.000000\n",
              "50%        30.000000\n",
              "75%        39.500000\n",
              "max      1000.000000\n",
              "dtype: float64"
            ]
          },
          "metadata": {},
          "execution_count": 26
        }
      ]
    },
    {
      "cell_type": "code",
      "metadata": {
        "id": "VA5gQArB_xcp"
      },
      "source": [
        "Analise = pd.DataFrame( valores_Est )"
      ],
      "execution_count": null,
      "outputs": []
    },
    {
      "cell_type": "code",
      "metadata": {
        "id": "dRmvKOR5ADWc"
      },
      "source": [
        "#alterando o nome da coluna\n",
        "Analise.rename(columns={0:'Valores Estatisticos'}, inplace=True)"
      ],
      "execution_count": null,
      "outputs": []
    },
    {
      "cell_type": "code",
      "metadata": {
        "colab": {
          "base_uri": "https://localhost:8080/",
          "height": 300
        },
        "id": "Am5cgeS9AnXP",
        "outputId": "6103b476-0b9c-4124-c096-6c83b4bc9811"
      },
      "source": [
        "Analise"
      ],
      "execution_count": null,
      "outputs": [
        {
          "output_type": "execute_result",
          "data": {
            "text/html": [
              "<div>\n",
              "<style scoped>\n",
              "    .dataframe tbody tr th:only-of-type {\n",
              "        vertical-align: middle;\n",
              "    }\n",
              "\n",
              "    .dataframe tbody tr th {\n",
              "        vertical-align: top;\n",
              "    }\n",
              "\n",
              "    .dataframe thead th {\n",
              "        text-align: right;\n",
              "    }\n",
              "</style>\n",
              "<table border=\"1\" class=\"dataframe\">\n",
              "  <thead>\n",
              "    <tr style=\"text-align: right;\">\n",
              "      <th></th>\n",
              "      <th>Valores Estatisticos</th>\n",
              "    </tr>\n",
              "  </thead>\n",
              "  <tbody>\n",
              "    <tr>\n",
              "      <th>count</th>\n",
              "      <td>12.000000</td>\n",
              "    </tr>\n",
              "    <tr>\n",
              "      <th>mean</th>\n",
              "      <td>121.416667</td>\n",
              "    </tr>\n",
              "    <tr>\n",
              "      <th>std</th>\n",
              "      <td>281.554922</td>\n",
              "    </tr>\n",
              "    <tr>\n",
              "      <th>min</th>\n",
              "      <td>1.000000</td>\n",
              "    </tr>\n",
              "    <tr>\n",
              "      <th>25%</th>\n",
              "      <td>21.000000</td>\n",
              "    </tr>\n",
              "    <tr>\n",
              "      <th>50%</th>\n",
              "      <td>30.000000</td>\n",
              "    </tr>\n",
              "    <tr>\n",
              "      <th>75%</th>\n",
              "      <td>39.500000</td>\n",
              "    </tr>\n",
              "    <tr>\n",
              "      <th>max</th>\n",
              "      <td>1000.000000</td>\n",
              "    </tr>\n",
              "  </tbody>\n",
              "</table>\n",
              "</div>"
            ],
            "text/plain": [
              "       Valores Estatisticos\n",
              "count             12.000000\n",
              "mean             121.416667\n",
              "std              281.554922\n",
              "min                1.000000\n",
              "25%               21.000000\n",
              "50%               30.000000\n",
              "75%               39.500000\n",
              "max             1000.000000"
            ]
          },
          "metadata": {},
          "execution_count": 15
        }
      ]
    },
    {
      "cell_type": "code",
      "metadata": {
        "id": "AIiPcVfCBEiC"
      },
      "source": [
        "#IQR\n",
        "#PRIMEIRO QUARTIL\n",
        "q1 = np.percentile(Valores,25)\n",
        "#terceiro quartil\n",
        "q3 = np.percentile(Valores, 75)\n",
        "#calculando o IQR\n",
        "IQR = q3 - q1\n",
        "#calculo da i=linha do corte\n",
        "corte = IQR * 1.5\n",
        "#calculo dos extremos\n",
        "menor_ext = q1 - corte\n",
        "maior_ext = q3 + corte"
      ],
      "execution_count": null,
      "outputs": []
    },
    {
      "cell_type": "code",
      "metadata": {
        "id": "z1F2ZXDnCB7_"
      },
      "source": [
        "#valores fora da curva OUTLIERS\n",
        "Outliers = Valores[ (Valores<menor_ext) | (Valores>maior_ext) ].index"
      ],
      "execution_count": null,
      "outputs": []
    },
    {
      "cell_type": "code",
      "metadata": {
        "id": "W6HKsEa3CR_I"
      },
      "source": [
        "#remover os valores que ficaram com outliers\n",
        "Valores_sem_Outliers = Valores.drop(Outliers)"
      ],
      "execution_count": null,
      "outputs": []
    },
    {
      "cell_type": "code",
      "metadata": {
        "colab": {
          "base_uri": "https://localhost:8080/",
          "height": 361
        },
        "id": "Bs0M1xmwDG62",
        "outputId": "e681d436-f071-466e-a77c-863f95bdc67f"
      },
      "source": [
        "#definir o tamanho que vamos ter do grafico\n",
        "plt.figure( figsize=(6,6))\n",
        "sns.boxplot(y=Valores_sem_Outliers);"
      ],
      "execution_count": null,
      "outputs": [
        {
          "output_type": "display_data",
          "data": {
            "image/png": "[encoded data removed]",
            "text/plain": [
              "<Figure size 432x432 with 1 Axes>"
            ]
          },
          "metadata": {
            "needs_background": "light"
          }
        }
      ]
    },
    {
      "cell_type": "markdown",
      "metadata": {
        "id": "0JZngo5pDz92"
      },
      "source": [
        "Pronto, gráfico bonitinho sem pontos fora da curva!!\n",
        "Ready!! graph with no outliers!!"
      ]
    }
  ]
}