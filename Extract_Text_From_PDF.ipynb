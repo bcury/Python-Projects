{
  "nbformat": 4,
  "nbformat_minor": 0,
  "metadata": {
    "colab": {
      "name": "Extract Text From PDF ",
      "provenance": [],
      "collapsed_sections": [],
      "authorship_tag": "ABX9TyP2Yn9hNbGehrSAYe0en3aF",
      "include_colab_link": true
    },
    "kernelspec": {
      "name": "python3",
      "display_name": "Python 3"
    },
    "language_info": {
      "name": "python"
    }
  },
  "cells": [
    {
      "cell_type": "markdown",
      "metadata": {
        "id": "view-in-github",
        "colab_type": "text"
      },
      "source": [
        "<a href=\"https://colab.research.google.com/github/bcury/Python-Projects/blob/main/Extract_Text_From_PDF.ipynb\" target=\"_parent\"><img src=\"https://colab.research.google.com/assets/colab-badge.svg\" alt=\"Open In Colab\"/></a>"
      ]
    },
    {
      "cell_type": "code",
      "execution_count": 1,
      "metadata": {
        "colab": {
          "base_uri": "https://localhost:8080/"
        },
        "id": "-RAhWf84GMmV",
        "outputId": "10c3ce64-0b13-42dd-cf9b-9764e277855f"
      },
      "outputs": [
        {
          "output_type": "stream",
          "name": "stdout",
          "text": [
            "Collecting pdf2image\n",
            "  Downloading pdf2image-1.16.0-py3-none-any.whl (10 kB)\n",
            "Requirement already satisfied: pillow in /usr/local/lib/python3.7/dist-packages (from pdf2image) (7.1.2)\n",
            "Installing collected packages: pdf2image\n",
            "Successfully installed pdf2image-1.16.0\n"
          ]
        }
      ],
      "source": [
        "pip install pdf2image"
      ]
    },
    {
      "cell_type": "code",
      "source": [
        "pip install pytesseract"
      ],
      "metadata": {
        "colab": {
          "base_uri": "https://localhost:8080/"
        },
        "id": "KhLXc7ZjG1v1",
        "outputId": "73612388-cb44-41d0-cfe7-51414741d780"
      },
      "execution_count": 3,
      "outputs": [
        {
          "output_type": "stream",
          "name": "stdout",
          "text": [
            "Collecting pytesseract\n",
            "  Downloading pytesseract-0.3.8.tar.gz (14 kB)\n",
            "Requirement already satisfied: Pillow in /usr/local/lib/python3.7/dist-packages (from pytesseract) (7.1.2)\n",
            "Building wheels for collected packages: pytesseract\n",
            "  Building wheel for pytesseract (setup.py) ... \u001b[?25l\u001b[?25hdone\n",
            "  Created wheel for pytesseract: filename=pytesseract-0.3.8-py2.py3-none-any.whl size=14072 sha256=c9aacb9ec9bb5a26329b8ebaa5d3b05954c406a4a1711ccee976f68840c9dfd1\n",
            "  Stored in directory: /root/.cache/pip/wheels/a4/89/b9/3f11250225d0f90e5454fcc30fd1b7208db226850715aa9ace\n",
            "Successfully built pytesseract\n",
            "Installing collected packages: pytesseract\n",
            "Successfully installed pytesseract-0.3.8\n"
          ]
        }
      ]
    },
    {
      "cell_type": "code",
      "source": [
        "import pdf2image\n",
        "import os, sys\n",
        "try:\n",
        "    from PIL import Image\n",
        "except ImportError:\n",
        "    import Image\n",
        "import pytesseract"
      ],
      "metadata": {
        "id": "8vLSF_MtGe-7"
      },
      "execution_count": 4,
      "outputs": []
    },
    {
      "cell_type": "code",
      "source": [
        "path = '/content/Machine Learning Project - Bruno Cury.pdf'"
      ],
      "metadata": {
        "id": "yi_vSer3GzNT"
      },
      "execution_count": 5,
      "outputs": []
    },
    {
      "cell_type": "code",
      "source": [
        "i = 1"
      ],
      "metadata": {
        "id": "tK8AuwapHFU-"
      },
      "execution_count": 6,
      "outputs": []
    },
    {
      "cell_type": "code",
      "source": [
        "def delete_ppms():\n",
        "  for file in os.listdir(path):\n",
        "    if '.ppm' in file or '.DS_Store' in file:\n",
        "      try:\n",
        "          os.remove(path + file)\n",
        "      except FileNotFoundError:\n",
        "          pass"
      ],
      "metadata": {
        "id": "gjjkbGy5HH0x"
      },
      "execution_count": 10,
      "outputs": []
    },
    {
      "cell_type": "code",
      "source": [
        "pdf_files = []\n",
        "docx_files = []\n",
        "\n",
        "\n",
        "#for f in os.listdir(path):\n",
        "  full_name = os.path.join(path, f) \n",
        "  if os.path.isfile(full_name):\n",
        "    name = os.path.basename(f)\n",
        "    filename, ext = os.path.splitext(name)\n",
        "    if ext == '.pdf':\n",
        "      pdf_files.append(name)\n",
        "    elif ext == ('.docx'):\n",
        "      docx_files.append(name)"
      ],
      "metadata": {
        "id": "L8_rLSjdHUS2"
      },
      "execution_count": null,
      "outputs": []
    },
    {
      "cell_type": "code",
      "source": [
        "def pdf_extract(file, i):\n",
        "  print(\"extracting from file:\", file)\n",
        "  delete_ppms()\n",
        "  images = pdf2image.convert_from_path(path + file, output_folder=path)\n",
        "  j = 0\n",
        "  for file in sorted (os.listdir(path)):\n",
        "      if '.ppm' in file and 'image' not in file:\n",
        "        os.rename(path + file, path + 'image' + str(i) + '-' + str(j) + '.ppm')\n",
        "        j += 1\n",
        "  j = 0\n",
        "  f = open(path +'result{}.txt'.format(i), 'w')\n",
        "  files = [f for f in os.listdir(path) if '.ppm' in f]\n",
        "\n",
        "  for file in sorted(files, key=lambda x: int(x[x.index('-') + 1: x.index('.')])):\n",
        "      temp = pytesseract.image_to_string(Image.open(path + file))\n",
        "      f.write(temp)\n",
        "  f.close()"
      ],
      "metadata": {
        "id": "3CdsqE1_LndN"
      },
      "execution_count": 12,
      "outputs": []
    },
    {
      "cell_type": "code",
      "source": [
        "for i in range(len(pdf_files)):\n",
        "  pdf_file = pdf_files[i]\n",
        "  pdf_extract(pdf_file, i)"
      ],
      "metadata": {
        "id": "JVWUHNY9L7_F"
      },
      "execution_count": 13,
      "outputs": []
    },
    {
      "cell_type": "markdown",
      "source": [
        "Agora, depois de executar a função, se você for ao diretório, verá um arquivo de texto com o nome de result1.txt com todo o texto extraído do arquivo PDF."
      ],
      "metadata": {
        "id": "pyppOwQSMYa0"
      }
    }
  ]
}