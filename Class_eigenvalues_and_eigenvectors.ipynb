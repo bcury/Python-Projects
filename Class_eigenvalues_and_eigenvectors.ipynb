{
  "nbformat": 4,
  "nbformat_minor": 0,
  "metadata": {
    "colab": {
      "name": "Class: eigenvalues and eigenvectors",
      "provenance": [],
      "collapsed_sections": [],
      "authorship_tag": "ABX9TyNhE9ifrzJK5JqsF6wOsIoR",
      "include_colab_link": true
    },
    "kernelspec": {
      "name": "python3",
      "display_name": "Python 3"
    },
    "language_info": {
      "name": "python"
    }
  },
  "cells": [
    {
      "cell_type": "markdown",
      "metadata": {
        "id": "view-in-github",
        "colab_type": "text"
      },
      "source": [
        "<a href=\"https://colab.research.google.com/github/bcury/Python-Projects/blob/main/Class_eigenvalues_and_eigenvectors.ipynb\" target=\"_parent\"><img src=\"https://colab.research.google.com/assets/colab-badge.svg\" alt=\"Open In Colab\"/></a>"
      ]
    },
    {
      "cell_type": "markdown",
      "metadata": {
        "id": "2aROWkTcvf-g"
      },
      "source": [
        "***Class: finding eingenvalues and eigenvectors***"
      ]
    },
    {
      "cell_type": "code",
      "metadata": {
        "id": "tWplrKsHq0Q4"
      },
      "source": [
        "import numpy as np"
      ],
      "execution_count": 1,
      "outputs": []
    },
    {
      "cell_type": "code",
      "metadata": {
        "id": "V23N150lq2-6"
      },
      "source": [
        "class PCA:\n",
        "  def _init_(self,n_components):\n",
        "    self.n_components = n_components\n",
        "    self.components = None\n",
        "    self.mean = None        # initialize vars\n",
        "\n",
        "  def fit(self, x):\n",
        "    #mean centering\n",
        "    self.mean = np.mean(x, axis=0)\n",
        "    x = x - self.mean                   #subtract mean from all column\n",
        "\n",
        "    #covariance\n",
        "    cov = np.cov(x,T)\n",
        "\n",
        "    #eigenvalues and eigenvectors\n",
        "    eigenvalues, eigenvectors = np.linalg.eig(cov)  # calc eigenvalues and eigenvectors\n",
        "\n",
        "    # eigenvectors v[:,i]\n",
        "    #transpose for easier calc.\n",
        "    eigenvectors = eigenvectors.T\n",
        "\n",
        "    #sort eigenvectors\n",
        "\n",
        "    idxs = np.argsort(eigenvalues)[::-1]\n",
        "    eigenvalues = eigenvalues[idxs]\n",
        "    eigenvectors = eigenvectors[idxs]   # pick top n eigenvectors as main\n",
        "\n",
        "    #store 1st n eigenvectors\n",
        "    self.components = eigenvectors[0 : self.n_components]\n",
        "\n",
        "  def transform(self, x):\n",
        "    x = x - self.mean\n",
        "    return np.dot(x, self.components.T)  # final result is the dot product ok\n",
        "\n",
        "\n",
        "\n"
      ],
      "execution_count": 13,
      "outputs": []
    },
    {
      "cell_type": "markdown",
      "metadata": {
        "id": "6ZMYvpAZvXmm"
      },
      "source": [
        "dot product is the  final result we are looking at!"
      ]
    }
  ]
}