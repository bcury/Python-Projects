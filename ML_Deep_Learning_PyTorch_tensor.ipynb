{
  "nbformat": 4,
  "nbformat_minor": 0,
  "metadata": {
    "colab": {
      "name": "ML_Deep_Learning_PyTorch_tensor",
      "provenance": [],
      "collapsed_sections": [],
      "authorship_tag": "ABX9TyNHqLAfAtesK/e209Hww6ya",
      "include_colab_link": true
    },
    "kernelspec": {
      "name": "python3",
      "display_name": "Python 3"
    },
    "language_info": {
      "name": "python"
    }
  },
  "cells": [
    {
      "cell_type": "markdown",
      "metadata": {
        "id": "view-in-github",
        "colab_type": "text"
      },
      "source": [
        "<a href=\"https://colab.research.google.com/github/bcury/Python-Projects/blob/main/ML_Deep_Learning_PyTorch_tensor.ipynb\" target=\"_parent\"><img src=\"https://colab.research.google.com/assets/colab-badge.svg\" alt=\"Open In Colab\"/></a>"
      ]
    },
    {
      "cell_type": "code",
      "execution_count": 1,
      "metadata": {
        "id": "a_9MLiWRCBlZ"
      },
      "outputs": [],
      "source": [
        "import torch\n",
        "from torch import nn"
      ]
    },
    {
      "cell_type": "code",
      "source": [
        "net = nn.Sequential(nn.Linear(2,4), nn.Linear(4,1))\n",
        "x = torch.rand(size=(3,2))\n",
        "net(x)"
      ],
      "metadata": {
        "colab": {
          "base_uri": "https://localhost:8080/"
        },
        "id": "asJMblvGCS0a",
        "outputId": "70772574-904e-4417-f46c-452d0499436a"
      },
      "execution_count": 2,
      "outputs": [
        {
          "output_type": "execute_result",
          "data": {
            "text/plain": [
              "tensor([[0.1189],\n",
              "        [0.0296],\n",
              "        [0.0046]], grad_fn=<AddmmBackward0>)"
            ]
          },
          "metadata": {},
          "execution_count": 2
        }
      ]
    },
    {
      "cell_type": "code",
      "source": [
        "print(net[0].state_dict())"
      ],
      "metadata": {
        "colab": {
          "base_uri": "https://localhost:8080/"
        },
        "id": "sbeuexFQCxuu",
        "outputId": "81659ab9-a0bc-4af5-82df-21aff1ed3d0c"
      },
      "execution_count": 3,
      "outputs": [
        {
          "output_type": "stream",
          "name": "stdout",
          "text": [
            "OrderedDict([('weight', tensor([[ 0.6751,  0.3159],\n",
            "        [-0.5004,  0.6720],\n",
            "        [-0.2798,  0.5969],\n",
            "        [-0.1338, -0.1294]])), ('bias', tensor([-0.4869, -0.2075, -0.3398, -0.1793]))])\n"
          ]
        }
      ]
    },
    {
      "cell_type": "code",
      "source": [
        "print(net[0].weight.data)"
      ],
      "metadata": {
        "colab": {
          "base_uri": "https://localhost:8080/"
        },
        "id": "H4iVImKvDtaG",
        "outputId": "03c0dc84-09ab-4e2a-bad4-1970b76aff60"
      },
      "execution_count": 4,
      "outputs": [
        {
          "output_type": "stream",
          "name": "stdout",
          "text": [
            "tensor([[ 0.6751,  0.3159],\n",
            "        [-0.5004,  0.6720],\n",
            "        [-0.2798,  0.5969],\n",
            "        [-0.1338, -0.1294]])\n"
          ]
        }
      ]
    },
    {
      "cell_type": "code",
      "source": [
        "print(net[0].bias.data)"
      ],
      "metadata": {
        "colab": {
          "base_uri": "https://localhost:8080/"
        },
        "id": "9TaN7xkuD4FY",
        "outputId": "018cbe8e-06a9-4650-d2b2-505979a111a3"
      },
      "execution_count": 5,
      "outputs": [
        {
          "output_type": "stream",
          "name": "stdout",
          "text": [
            "tensor([-0.4869, -0.2075, -0.3398, -0.1793])\n"
          ]
        }
      ]
    },
    {
      "cell_type": "code",
      "source": [
        "for name in net.named_parameters():\n",
        "  print(name)"
      ],
      "metadata": {
        "colab": {
          "base_uri": "https://localhost:8080/"
        },
        "id": "RvFNvmWiDJN_",
        "outputId": "c6974230-e5a1-4239-ecf8-c8b72c4259ff"
      },
      "execution_count": 6,
      "outputs": [
        {
          "output_type": "stream",
          "name": "stdout",
          "text": [
            "('0.weight', Parameter containing:\n",
            "tensor([[ 0.6751,  0.3159],\n",
            "        [-0.5004,  0.6720],\n",
            "        [-0.2798,  0.5969],\n",
            "        [-0.1338, -0.1294]], requires_grad=True))\n",
            "('0.bias', Parameter containing:\n",
            "tensor([-0.4869, -0.2075, -0.3398, -0.1793], requires_grad=True))\n",
            "('1.weight', Parameter containing:\n",
            "tensor([[ 0.4078,  0.2398, -0.0600, -0.0626]], requires_grad=True))\n",
            "('1.bias', Parameter containing:\n",
            "tensor([0.0352], requires_grad=True))\n"
          ]
        }
      ]
    },
    {
      "cell_type": "markdown",
      "source": [
        "coletando parametros dos blocos"
      ],
      "metadata": {
        "id": "X3-oT768ESkp"
      }
    },
    {
      "cell_type": "code",
      "source": [
        "def block1():\n",
        "  return nn.Sequential(nn.Linear(4,8), nn.ReLU(),\n",
        "                       nn.Linear(8,4), nn.ReLU())\n",
        "  \n",
        "def block2():\n",
        "  net = nn.Sequential()\n",
        "  for i in range(2):\n",
        "\n",
        "    net.add_module(f'block {i}', block1())\n",
        "  return net\n",
        "\n",
        "nested_net = nn.Sequential(block2(), nn.Linear(4,1))"
      ],
      "metadata": {
        "id": "lOVlV7eTEIOh"
      },
      "execution_count": 7,
      "outputs": []
    },
    {
      "cell_type": "code",
      "source": [
        "print(nested_net)"
      ],
      "metadata": {
        "colab": {
          "base_uri": "https://localhost:8080/"
        },
        "id": "zpsQ50rCFlZJ",
        "outputId": "5d14861c-1578-42c2-afa9-c256e6dbc157"
      },
      "execution_count": 8,
      "outputs": [
        {
          "output_type": "stream",
          "name": "stdout",
          "text": [
            "Sequential(\n",
            "  (0): Sequential(\n",
            "    (block 0): Sequential(\n",
            "      (0): Linear(in_features=4, out_features=8, bias=True)\n",
            "      (1): ReLU()\n",
            "      (2): Linear(in_features=8, out_features=4, bias=True)\n",
            "      (3): ReLU()\n",
            "    )\n",
            "    (block 1): Sequential(\n",
            "      (0): Linear(in_features=4, out_features=8, bias=True)\n",
            "      (1): ReLU()\n",
            "      (2): Linear(in_features=8, out_features=4, bias=True)\n",
            "      (3): ReLU()\n",
            "    )\n",
            "  )\n",
            "  (1): Linear(in_features=4, out_features=1, bias=True)\n",
            ")\n"
          ]
        }
      ]
    },
    {
      "cell_type": "code",
      "source": [
        "nested_net[0][1][0].weight.data"
      ],
      "metadata": {
        "colab": {
          "base_uri": "https://localhost:8080/"
        },
        "id": "BC2askkyFqXr",
        "outputId": "324a1662-d33d-4745-830f-5ca52d5055be"
      },
      "execution_count": 9,
      "outputs": [
        {
          "output_type": "execute_result",
          "data": {
            "text/plain": [
              "tensor([[ 0.2126, -0.0598, -0.2420,  0.0293],\n",
              "        [-0.2296,  0.2096, -0.4076,  0.0429],\n",
              "        [-0.3610, -0.3923, -0.1914, -0.4058],\n",
              "        [-0.2890, -0.0581,  0.4262, -0.3785],\n",
              "        [-0.4017,  0.1974, -0.4574, -0.0683],\n",
              "        [-0.2519, -0.1625,  0.0053,  0.4339],\n",
              "        [-0.2590, -0.2268, -0.4281,  0.4076],\n",
              "        [-0.1636,  0.2683, -0.1052, -0.2629]])"
            ]
          },
          "metadata": {},
          "execution_count": 9
        }
      ]
    },
    {
      "cell_type": "code",
      "source": [
        "def init_normal(m):\n",
        "  if type(m) == nn.Linear:\n",
        "    nn.init.normal_(m.weight, mean=0, std=0.01)\n",
        "    nn.init.zeros_(m.bias)\n",
        "\n",
        "net.apply(init_normal)\n",
        "net[0].weight.data[0],net[0].bias.data[0]"
      ],
      "metadata": {
        "colab": {
          "base_uri": "https://localhost:8080/"
        },
        "id": "cUszlpI8GE5q",
        "outputId": "6f984b88-4f5e-4d97-d888-07f62fa7a317"
      },
      "execution_count": 10,
      "outputs": [
        {
          "output_type": "execute_result",
          "data": {
            "text/plain": [
              "(tensor([ 0.0257, -0.0065]), tensor(0.))"
            ]
          },
          "metadata": {},
          "execution_count": 10
        }
      ]
    },
    {
      "cell_type": "markdown",
      "source": [
        "salavdando e carregando parametros\n"
      ],
      "metadata": {
        "id": "T7-hF9Nq_VpU"
      }
    },
    {
      "cell_type": "code",
      "source": [
        "import torch\n",
        "from torch import nn\n",
        "from torch.nn import functional as F\n",
        "\n",
        "class MLP(nn.Module):\n",
        "    def _init_(self):\n",
        "        super()._init_()\n",
        "        self.hidden = nn.Linear(20, 256)\n",
        "        self.output = nn.Linear(256, 10)\n",
        "\n",
        "    def forward(self, x):\n",
        "        return self.output(F.relu(self.hidden(x)))\n",
        "\n",
        "\n",
        "net = MLP()\n",
        "x = torch.randn(size=(2, 20))\n",
        "y = net(x)\n",
        "\n",
        "torch.save(net.state_dict(), 'mip.params')\n",
        "\n",
        "clone = MLP()\n",
        "clone.load_state_dict(torch.load('mip.params'))\n",
        "\n",
        "    "
      ],
      "metadata": {
        "id": "-TcLwNVdHiCK"
      },
      "execution_count": null,
      "outputs": []
    },
    {
      "cell_type": "markdown",
      "source": [
        "pronto carregado e salvado"
      ],
      "metadata": {
        "id": "WaQNW3W7yT0c"
      }
    }
  ]
}