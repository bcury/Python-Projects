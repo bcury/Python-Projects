{
  "nbformat": 4,
  "nbformat_minor": 0,
  "metadata": {
    "colab": {
      "name": " Finanças_ações_ROI - BETA_CAPM",
      "provenance": [],
      "collapsed_sections": [
        "hM-6wgrQt3U6",
        "HP923JDRL9li",
        "SLawHzfNWUiZ"
      ],
      "include_colab_link": true
    },
    "kernelspec": {
      "name": "python3",
      "display_name": "Python 3"
    }
  },
  "cells": [
    {
      "cell_type": "markdown",
      "metadata": {
        "id": "view-in-github",
        "colab_type": "text"
      },
      "source": [
        "<a href=\"https://colab.research.google.com/github/bcury/Python-Projects/blob/main/Finan%C3%A7as_a%C3%A7%C3%B5es_ROI_BETA_CAPM.ipynb\" target=\"_parent\"><img src=\"https://colab.research.google.com/assets/colab-badge.svg\" alt=\"Open In Colab\"/></a>"
      ]
    },
    {
      "cell_type": "markdown",
      "metadata": {
        "id": "c8e_0JIpgUo_"
      },
      "source": [
        "**CAPM** (Capital Asset Pricing Model)"
      ]
    },
    {
      "cell_type": "code",
      "metadata": {
        "id": "JBjVHqCQaopu"
      },
      "source": [
        "import pandas as pd\n",
        "import numpy as np\n",
        "import plotly.express as px"
      ],
      "execution_count": 1,
      "outputs": []
    },
    {
      "cell_type": "code",
      "metadata": {
        "colab": {
          "base_uri": "https://localhost:8080/",
          "height": 423
        },
        "id": "rKFI2Cr9CSD9",
        "outputId": "a36ca48b-c2f7-4b41-eacb-c2a91d2cc7a9"
      },
      "source": [
        "dataset = pd.read_csv('acoes.csv')\n",
        "dataset"
      ],
      "execution_count": 2,
      "outputs": [
        {
          "output_type": "execute_result",
          "data": {
            "text/html": [
              "\n",
              "  <div id=\"df-8fafdf54-7c2d-435e-b5e7-f69830677467\">\n",
              "    <div class=\"colab-df-container\">\n",
              "      <div>\n",
              "<style scoped>\n",
              "    .dataframe tbody tr th:only-of-type {\n",
              "        vertical-align: middle;\n",
              "    }\n",
              "\n",
              "    .dataframe tbody tr th {\n",
              "        vertical-align: top;\n",
              "    }\n",
              "\n",
              "    .dataframe thead th {\n",
              "        text-align: right;\n",
              "    }\n",
              "</style>\n",
              "<table border=\"1\" class=\"dataframe\">\n",
              "  <thead>\n",
              "    <tr style=\"text-align: right;\">\n",
              "      <th></th>\n",
              "      <th>Date</th>\n",
              "      <th>GOL</th>\n",
              "      <th>CVC</th>\n",
              "      <th>WEGE</th>\n",
              "      <th>MGLU</th>\n",
              "      <th>TOTS</th>\n",
              "      <th>BOVA</th>\n",
              "    </tr>\n",
              "  </thead>\n",
              "  <tbody>\n",
              "    <tr>\n",
              "      <th>0</th>\n",
              "      <td>2015-01-02</td>\n",
              "      <td>14.990000</td>\n",
              "      <td>15.20</td>\n",
              "      <td>11.846200</td>\n",
              "      <td>0.232812</td>\n",
              "      <td>35.732101</td>\n",
              "      <td>47.259998</td>\n",
              "    </tr>\n",
              "    <tr>\n",
              "      <th>1</th>\n",
              "      <td>2015-01-05</td>\n",
              "      <td>14.850000</td>\n",
              "      <td>15.00</td>\n",
              "      <td>11.926900</td>\n",
              "      <td>0.237187</td>\n",
              "      <td>34.634201</td>\n",
              "      <td>46.320000</td>\n",
              "    </tr>\n",
              "    <tr>\n",
              "      <th>2</th>\n",
              "      <td>2015-01-06</td>\n",
              "      <td>15.210000</td>\n",
              "      <td>14.80</td>\n",
              "      <td>11.750000</td>\n",
              "      <td>0.234062</td>\n",
              "      <td>32.468300</td>\n",
              "      <td>46.580002</td>\n",
              "    </tr>\n",
              "    <tr>\n",
              "      <th>3</th>\n",
              "      <td>2015-01-07</td>\n",
              "      <td>14.550000</td>\n",
              "      <td>14.67</td>\n",
              "      <td>11.615400</td>\n",
              "      <td>0.241875</td>\n",
              "      <td>32.238701</td>\n",
              "      <td>48.150002</td>\n",
              "    </tr>\n",
              "    <tr>\n",
              "      <th>4</th>\n",
              "      <td>2015-01-08</td>\n",
              "      <td>14.270000</td>\n",
              "      <td>14.15</td>\n",
              "      <td>11.811500</td>\n",
              "      <td>0.240000</td>\n",
              "      <td>32.987301</td>\n",
              "      <td>48.509998</td>\n",
              "    </tr>\n",
              "    <tr>\n",
              "      <th>...</th>\n",
              "      <td>...</td>\n",
              "      <td>...</td>\n",
              "      <td>...</td>\n",
              "      <td>...</td>\n",
              "      <td>...</td>\n",
              "      <td>...</td>\n",
              "      <td>...</td>\n",
              "    </tr>\n",
              "    <tr>\n",
              "      <th>1441</th>\n",
              "      <td>2020-10-27</td>\n",
              "      <td>18.600000</td>\n",
              "      <td>14.17</td>\n",
              "      <td>83.239998</td>\n",
              "      <td>25.450001</td>\n",
              "      <td>28.500000</td>\n",
              "      <td>95.800003</td>\n",
              "    </tr>\n",
              "    <tr>\n",
              "      <th>1442</th>\n",
              "      <td>2020-10-28</td>\n",
              "      <td>16.920000</td>\n",
              "      <td>12.77</td>\n",
              "      <td>79.139999</td>\n",
              "      <td>24.629999</td>\n",
              "      <td>27.500000</td>\n",
              "      <td>92.430000</td>\n",
              "    </tr>\n",
              "    <tr>\n",
              "      <th>1443</th>\n",
              "      <td>2020-10-29</td>\n",
              "      <td>16.610001</td>\n",
              "      <td>12.68</td>\n",
              "      <td>80.029999</td>\n",
              "      <td>25.360001</td>\n",
              "      <td>28.500000</td>\n",
              "      <td>92.910004</td>\n",
              "    </tr>\n",
              "    <tr>\n",
              "      <th>1444</th>\n",
              "      <td>2020-10-30</td>\n",
              "      <td>15.690000</td>\n",
              "      <td>12.28</td>\n",
              "      <td>75.830002</td>\n",
              "      <td>24.629999</td>\n",
              "      <td>27.000000</td>\n",
              "      <td>90.660004</td>\n",
              "    </tr>\n",
              "    <tr>\n",
              "      <th>1445</th>\n",
              "      <td>2020-11-03</td>\n",
              "      <td>16.070000</td>\n",
              "      <td>12.42</td>\n",
              "      <td>78.669998</td>\n",
              "      <td>25.309999</td>\n",
              "      <td>27.930000</td>\n",
              "      <td>92.410004</td>\n",
              "    </tr>\n",
              "  </tbody>\n",
              "</table>\n",
              "<p>1446 rows × 7 columns</p>\n",
              "</div>\n",
              "      <button class=\"colab-df-convert\" onclick=\"convertToInteractive('df-8fafdf54-7c2d-435e-b5e7-f69830677467')\"\n",
              "              title=\"Convert this dataframe to an interactive table.\"\n",
              "              style=\"display:none;\">\n",
              "        \n",
              "  <svg xmlns=\"http://www.w3.org/2000/svg\" height=\"24px\"viewBox=\"0 0 24 24\"\n",
              "       width=\"24px\">\n",
              "    <path d=\"M0 0h24v24H0V0z\" fill=\"none\"/>\n",
              "    <path d=\"M18.56 5.44l.94 2.06.94-2.06 2.06-.94-2.06-.94-.94-2.06-.94 2.06-2.06.94zm-11 1L8.5 8.5l.94-2.06 2.06-.94-2.06-.94L8.5 2.5l-.94 2.06-2.06.94zm10 10l.94 2.06.94-2.06 2.06-.94-2.06-.94-.94-2.06-.94 2.06-2.06.94z\"/><path d=\"M17.41 7.96l-1.37-1.37c-.4-.4-.92-.59-1.43-.59-.52 0-1.04.2-1.43.59L10.3 9.45l-7.72 7.72c-.78.78-.78 2.05 0 2.83L4 21.41c.39.39.9.59 1.41.59.51 0 1.02-.2 1.41-.59l7.78-7.78 2.81-2.81c.8-.78.8-2.07 0-2.86zM5.41 20L4 18.59l7.72-7.72 1.47 1.35L5.41 20z\"/>\n",
              "  </svg>\n",
              "      </button>\n",
              "      \n",
              "  <style>\n",
              "    .colab-df-container {\n",
              "      display:flex;\n",
              "      flex-wrap:wrap;\n",
              "      gap: 12px;\n",
              "    }\n",
              "\n",
              "    .colab-df-convert {\n",
              "      background-color: #E8F0FE;\n",
              "      border: none;\n",
              "      border-radius: 50%;\n",
              "      cursor: pointer;\n",
              "      display: none;\n",
              "      fill: #1967D2;\n",
              "      height: 32px;\n",
              "      padding: 0 0 0 0;\n",
              "      width: 32px;\n",
              "    }\n",
              "\n",
              "    .colab-df-convert:hover {\n",
              "      background-color: #E2EBFA;\n",
              "      box-shadow: 0px 1px 2px rgba(60, 64, 67, 0.3), 0px 1px 3px 1px rgba(60, 64, 67, 0.15);\n",
              "      fill: #174EA6;\n",
              "    }\n",
              "\n",
              "    [theme=dark] .colab-df-convert {\n",
              "      background-color: #3B4455;\n",
              "      fill: #D2E3FC;\n",
              "    }\n",
              "\n",
              "    [theme=dark] .colab-df-convert:hover {\n",
              "      background-color: #434B5C;\n",
              "      box-shadow: 0px 1px 3px 1px rgba(0, 0, 0, 0.15);\n",
              "      filter: drop-shadow(0px 1px 2px rgba(0, 0, 0, 0.3));\n",
              "      fill: #FFFFFF;\n",
              "    }\n",
              "  </style>\n",
              "\n",
              "      <script>\n",
              "        const buttonEl =\n",
              "          document.querySelector('#df-8fafdf54-7c2d-435e-b5e7-f69830677467 button.colab-df-convert');\n",
              "        buttonEl.style.display =\n",
              "          google.colab.kernel.accessAllowed ? 'block' : 'none';\n",
              "\n",
              "        async function convertToInteractive(key) {\n",
              "          const element = document.querySelector('#df-8fafdf54-7c2d-435e-b5e7-f69830677467');\n",
              "          const dataTable =\n",
              "            await google.colab.kernel.invokeFunction('convertToInteractive',\n",
              "                                                     [key], {});\n",
              "          if (!dataTable) return;\n",
              "\n",
              "          const docLinkHtml = 'Like what you see? Visit the ' +\n",
              "            '<a target=\"_blank\" href=https://colab.research.google.com/notebooks/data_table.ipynb>data table notebook</a>'\n",
              "            + ' to learn more about interactive tables.';\n",
              "          element.innerHTML = '';\n",
              "          dataTable['output_type'] = 'display_data';\n",
              "          await google.colab.output.renderOutput(dataTable, element);\n",
              "          const docLink = document.createElement('div');\n",
              "          docLink.innerHTML = docLinkHtml;\n",
              "          element.appendChild(docLink);\n",
              "        }\n",
              "      </script>\n",
              "    </div>\n",
              "  </div>\n",
              "  "
            ],
            "text/plain": [
              "            Date        GOL    CVC       WEGE       MGLU       TOTS       BOVA\n",
              "0     2015-01-02  14.990000  15.20  11.846200   0.232812  35.732101  47.259998\n",
              "1     2015-01-05  14.850000  15.00  11.926900   0.237187  34.634201  46.320000\n",
              "2     2015-01-06  15.210000  14.80  11.750000   0.234062  32.468300  46.580002\n",
              "3     2015-01-07  14.550000  14.67  11.615400   0.241875  32.238701  48.150002\n",
              "4     2015-01-08  14.270000  14.15  11.811500   0.240000  32.987301  48.509998\n",
              "...          ...        ...    ...        ...        ...        ...        ...\n",
              "1441  2020-10-27  18.600000  14.17  83.239998  25.450001  28.500000  95.800003\n",
              "1442  2020-10-28  16.920000  12.77  79.139999  24.629999  27.500000  92.430000\n",
              "1443  2020-10-29  16.610001  12.68  80.029999  25.360001  28.500000  92.910004\n",
              "1444  2020-10-30  15.690000  12.28  75.830002  24.629999  27.000000  90.660004\n",
              "1445  2020-11-03  16.070000  12.42  78.669998  25.309999  27.930000  92.410004\n",
              "\n",
              "[1446 rows x 7 columns]"
            ]
          },
          "metadata": {},
          "execution_count": 2
        }
      ]
    },
    {
      "cell_type": "code",
      "metadata": {
        "id": "a8ZaUCD5DqST"
      },
      "source": [
        "dataset.drop(labels = ['Date'], axis = 1, inplace = True)"
      ],
      "execution_count": 3,
      "outputs": []
    },
    {
      "cell_type": "code",
      "metadata": {
        "colab": {
          "base_uri": "https://localhost:8080/",
          "height": 423
        },
        "id": "cDdmmqi3DFqF",
        "outputId": "3417f6e5-ca4a-40ce-b497-b1c5575b9ca2"
      },
      "source": [
        "dataset_normalizado = dataset.copy()\n",
        "for i in dataset.columns:\n",
        "  dataset_normalizado[i] = dataset[i] / dataset[i][0]\n",
        "dataset_normalizado"
      ],
      "execution_count": 4,
      "outputs": [
        {
          "output_type": "execute_result",
          "data": {
            "text/html": [
              "\n",
              "  <div id=\"df-b4948d6e-ff73-4294-a4ab-889033c41967\">\n",
              "    <div class=\"colab-df-container\">\n",
              "      <div>\n",
              "<style scoped>\n",
              "    .dataframe tbody tr th:only-of-type {\n",
              "        vertical-align: middle;\n",
              "    }\n",
              "\n",
              "    .dataframe tbody tr th {\n",
              "        vertical-align: top;\n",
              "    }\n",
              "\n",
              "    .dataframe thead th {\n",
              "        text-align: right;\n",
              "    }\n",
              "</style>\n",
              "<table border=\"1\" class=\"dataframe\">\n",
              "  <thead>\n",
              "    <tr style=\"text-align: right;\">\n",
              "      <th></th>\n",
              "      <th>GOL</th>\n",
              "      <th>CVC</th>\n",
              "      <th>WEGE</th>\n",
              "      <th>MGLU</th>\n",
              "      <th>TOTS</th>\n",
              "      <th>BOVA</th>\n",
              "    </tr>\n",
              "  </thead>\n",
              "  <tbody>\n",
              "    <tr>\n",
              "      <th>0</th>\n",
              "      <td>1.000000</td>\n",
              "      <td>1.000000</td>\n",
              "      <td>1.000000</td>\n",
              "      <td>1.000000</td>\n",
              "      <td>1.000000</td>\n",
              "      <td>1.000000</td>\n",
              "    </tr>\n",
              "    <tr>\n",
              "      <th>1</th>\n",
              "      <td>0.990660</td>\n",
              "      <td>0.986842</td>\n",
              "      <td>1.006812</td>\n",
              "      <td>1.018792</td>\n",
              "      <td>0.969274</td>\n",
              "      <td>0.980110</td>\n",
              "    </tr>\n",
              "    <tr>\n",
              "      <th>2</th>\n",
              "      <td>1.014676</td>\n",
              "      <td>0.973684</td>\n",
              "      <td>0.991879</td>\n",
              "      <td>1.005369</td>\n",
              "      <td>0.908659</td>\n",
              "      <td>0.985612</td>\n",
              "    </tr>\n",
              "    <tr>\n",
              "      <th>3</th>\n",
              "      <td>0.970647</td>\n",
              "      <td>0.965132</td>\n",
              "      <td>0.980517</td>\n",
              "      <td>1.038928</td>\n",
              "      <td>0.902234</td>\n",
              "      <td>1.018832</td>\n",
              "    </tr>\n",
              "    <tr>\n",
              "      <th>4</th>\n",
              "      <td>0.951968</td>\n",
              "      <td>0.930921</td>\n",
              "      <td>0.997071</td>\n",
              "      <td>1.030875</td>\n",
              "      <td>0.923184</td>\n",
              "      <td>1.026449</td>\n",
              "    </tr>\n",
              "    <tr>\n",
              "      <th>...</th>\n",
              "      <td>...</td>\n",
              "      <td>...</td>\n",
              "      <td>...</td>\n",
              "      <td>...</td>\n",
              "      <td>...</td>\n",
              "      <td>...</td>\n",
              "    </tr>\n",
              "    <tr>\n",
              "      <th>1441</th>\n",
              "      <td>1.240827</td>\n",
              "      <td>0.932237</td>\n",
              "      <td>7.026726</td>\n",
              "      <td>109.315673</td>\n",
              "      <td>0.797602</td>\n",
              "      <td>2.027084</td>\n",
              "    </tr>\n",
              "    <tr>\n",
              "      <th>1442</th>\n",
              "      <td>1.128753</td>\n",
              "      <td>0.840132</td>\n",
              "      <td>6.680623</td>\n",
              "      <td>105.793511</td>\n",
              "      <td>0.769616</td>\n",
              "      <td>1.955777</td>\n",
              "    </tr>\n",
              "    <tr>\n",
              "      <th>1443</th>\n",
              "      <td>1.108072</td>\n",
              "      <td>0.834211</td>\n",
              "      <td>6.755753</td>\n",
              "      <td>108.929095</td>\n",
              "      <td>0.797602</td>\n",
              "      <td>1.965933</td>\n",
              "    </tr>\n",
              "    <tr>\n",
              "      <th>1444</th>\n",
              "      <td>1.046698</td>\n",
              "      <td>0.807895</td>\n",
              "      <td>6.401209</td>\n",
              "      <td>105.793511</td>\n",
              "      <td>0.755623</td>\n",
              "      <td>1.918324</td>\n",
              "    </tr>\n",
              "    <tr>\n",
              "      <th>1445</th>\n",
              "      <td>1.072048</td>\n",
              "      <td>0.817105</td>\n",
              "      <td>6.640948</td>\n",
              "      <td>108.714324</td>\n",
              "      <td>0.781650</td>\n",
              "      <td>1.955354</td>\n",
              "    </tr>\n",
              "  </tbody>\n",
              "</table>\n",
              "<p>1446 rows × 6 columns</p>\n",
              "</div>\n",
              "      <button class=\"colab-df-convert\" onclick=\"convertToInteractive('df-b4948d6e-ff73-4294-a4ab-889033c41967')\"\n",
              "              title=\"Convert this dataframe to an interactive table.\"\n",
              "              style=\"display:none;\">\n",
              "        \n",
              "  <svg xmlns=\"http://www.w3.org/2000/svg\" height=\"24px\"viewBox=\"0 0 24 24\"\n",
              "       width=\"24px\">\n",
              "    <path d=\"M0 0h24v24H0V0z\" fill=\"none\"/>\n",
              "    <path d=\"M18.56 5.44l.94 2.06.94-2.06 2.06-.94-2.06-.94-.94-2.06-.94 2.06-2.06.94zm-11 1L8.5 8.5l.94-2.06 2.06-.94-2.06-.94L8.5 2.5l-.94 2.06-2.06.94zm10 10l.94 2.06.94-2.06 2.06-.94-2.06-.94-.94-2.06-.94 2.06-2.06.94z\"/><path d=\"M17.41 7.96l-1.37-1.37c-.4-.4-.92-.59-1.43-.59-.52 0-1.04.2-1.43.59L10.3 9.45l-7.72 7.72c-.78.78-.78 2.05 0 2.83L4 21.41c.39.39.9.59 1.41.59.51 0 1.02-.2 1.41-.59l7.78-7.78 2.81-2.81c.8-.78.8-2.07 0-2.86zM5.41 20L4 18.59l7.72-7.72 1.47 1.35L5.41 20z\"/>\n",
              "  </svg>\n",
              "      </button>\n",
              "      \n",
              "  <style>\n",
              "    .colab-df-container {\n",
              "      display:flex;\n",
              "      flex-wrap:wrap;\n",
              "      gap: 12px;\n",
              "    }\n",
              "\n",
              "    .colab-df-convert {\n",
              "      background-color: #E8F0FE;\n",
              "      border: none;\n",
              "      border-radius: 50%;\n",
              "      cursor: pointer;\n",
              "      display: none;\n",
              "      fill: #1967D2;\n",
              "      height: 32px;\n",
              "      padding: 0 0 0 0;\n",
              "      width: 32px;\n",
              "    }\n",
              "\n",
              "    .colab-df-convert:hover {\n",
              "      background-color: #E2EBFA;\n",
              "      box-shadow: 0px 1px 2px rgba(60, 64, 67, 0.3), 0px 1px 3px 1px rgba(60, 64, 67, 0.15);\n",
              "      fill: #174EA6;\n",
              "    }\n",
              "\n",
              "    [theme=dark] .colab-df-convert {\n",
              "      background-color: #3B4455;\n",
              "      fill: #D2E3FC;\n",
              "    }\n",
              "\n",
              "    [theme=dark] .colab-df-convert:hover {\n",
              "      background-color: #434B5C;\n",
              "      box-shadow: 0px 1px 3px 1px rgba(0, 0, 0, 0.15);\n",
              "      filter: drop-shadow(0px 1px 2px rgba(0, 0, 0, 0.3));\n",
              "      fill: #FFFFFF;\n",
              "    }\n",
              "  </style>\n",
              "\n",
              "      <script>\n",
              "        const buttonEl =\n",
              "          document.querySelector('#df-b4948d6e-ff73-4294-a4ab-889033c41967 button.colab-df-convert');\n",
              "        buttonEl.style.display =\n",
              "          google.colab.kernel.accessAllowed ? 'block' : 'none';\n",
              "\n",
              "        async function convertToInteractive(key) {\n",
              "          const element = document.querySelector('#df-b4948d6e-ff73-4294-a4ab-889033c41967');\n",
              "          const dataTable =\n",
              "            await google.colab.kernel.invokeFunction('convertToInteractive',\n",
              "                                                     [key], {});\n",
              "          if (!dataTable) return;\n",
              "\n",
              "          const docLinkHtml = 'Like what you see? Visit the ' +\n",
              "            '<a target=\"_blank\" href=https://colab.research.google.com/notebooks/data_table.ipynb>data table notebook</a>'\n",
              "            + ' to learn more about interactive tables.';\n",
              "          element.innerHTML = '';\n",
              "          dataTable['output_type'] = 'display_data';\n",
              "          await google.colab.output.renderOutput(dataTable, element);\n",
              "          const docLink = document.createElement('div');\n",
              "          docLink.innerHTML = docLinkHtml;\n",
              "          element.appendChild(docLink);\n",
              "        }\n",
              "      </script>\n",
              "    </div>\n",
              "  </div>\n",
              "  "
            ],
            "text/plain": [
              "           GOL       CVC      WEGE        MGLU      TOTS      BOVA\n",
              "0     1.000000  1.000000  1.000000    1.000000  1.000000  1.000000\n",
              "1     0.990660  0.986842  1.006812    1.018792  0.969274  0.980110\n",
              "2     1.014676  0.973684  0.991879    1.005369  0.908659  0.985612\n",
              "3     0.970647  0.965132  0.980517    1.038928  0.902234  1.018832\n",
              "4     0.951968  0.930921  0.997071    1.030875  0.923184  1.026449\n",
              "...        ...       ...       ...         ...       ...       ...\n",
              "1441  1.240827  0.932237  7.026726  109.315673  0.797602  2.027084\n",
              "1442  1.128753  0.840132  6.680623  105.793511  0.769616  1.955777\n",
              "1443  1.108072  0.834211  6.755753  108.929095  0.797602  1.965933\n",
              "1444  1.046698  0.807895  6.401209  105.793511  0.755623  1.918324\n",
              "1445  1.072048  0.817105  6.640948  108.714324  0.781650  1.955354\n",
              "\n",
              "[1446 rows x 6 columns]"
            ]
          },
          "metadata": {},
          "execution_count": 4
        }
      ]
    },
    {
      "cell_type": "code",
      "metadata": {
        "colab": {
          "base_uri": "https://localhost:8080/",
          "height": 423
        },
        "id": "I5mjlNYnDfrJ",
        "outputId": "f9d135e3-df6e-442f-9f84-cd1643ab28a1"
      },
      "source": [
        "dataset_taxa_retorno = (dataset_normalizado / dataset_normalizado.shift(1)) - 1\n",
        "dataset_taxa_retorno"
      ],
      "execution_count": 5,
      "outputs": [
        {
          "output_type": "execute_result",
          "data": {
            "text/html": [
              "\n",
              "  <div id=\"df-4b814faf-deb3-4ea3-9ee7-e8286cb59adc\">\n",
              "    <div class=\"colab-df-container\">\n",
              "      <div>\n",
              "<style scoped>\n",
              "    .dataframe tbody tr th:only-of-type {\n",
              "        vertical-align: middle;\n",
              "    }\n",
              "\n",
              "    .dataframe tbody tr th {\n",
              "        vertical-align: top;\n",
              "    }\n",
              "\n",
              "    .dataframe thead th {\n",
              "        text-align: right;\n",
              "    }\n",
              "</style>\n",
              "<table border=\"1\" class=\"dataframe\">\n",
              "  <thead>\n",
              "    <tr style=\"text-align: right;\">\n",
              "      <th></th>\n",
              "      <th>GOL</th>\n",
              "      <th>CVC</th>\n",
              "      <th>WEGE</th>\n",
              "      <th>MGLU</th>\n",
              "      <th>TOTS</th>\n",
              "      <th>BOVA</th>\n",
              "    </tr>\n",
              "  </thead>\n",
              "  <tbody>\n",
              "    <tr>\n",
              "      <th>0</th>\n",
              "      <td>NaN</td>\n",
              "      <td>NaN</td>\n",
              "      <td>NaN</td>\n",
              "      <td>NaN</td>\n",
              "      <td>NaN</td>\n",
              "      <td>NaN</td>\n",
              "    </tr>\n",
              "    <tr>\n",
              "      <th>1</th>\n",
              "      <td>-0.009340</td>\n",
              "      <td>-0.013158</td>\n",
              "      <td>0.006812</td>\n",
              "      <td>0.018792</td>\n",
              "      <td>-0.030726</td>\n",
              "      <td>-0.019890</td>\n",
              "    </tr>\n",
              "    <tr>\n",
              "      <th>2</th>\n",
              "      <td>0.024242</td>\n",
              "      <td>-0.013333</td>\n",
              "      <td>-0.014832</td>\n",
              "      <td>-0.013175</td>\n",
              "      <td>-0.062536</td>\n",
              "      <td>0.005613</td>\n",
              "    </tr>\n",
              "    <tr>\n",
              "      <th>3</th>\n",
              "      <td>-0.043392</td>\n",
              "      <td>-0.008784</td>\n",
              "      <td>-0.011455</td>\n",
              "      <td>0.033380</td>\n",
              "      <td>-0.007071</td>\n",
              "      <td>0.033705</td>\n",
              "    </tr>\n",
              "    <tr>\n",
              "      <th>4</th>\n",
              "      <td>-0.019244</td>\n",
              "      <td>-0.035447</td>\n",
              "      <td>0.016883</td>\n",
              "      <td>-0.007752</td>\n",
              "      <td>0.023221</td>\n",
              "      <td>0.007477</td>\n",
              "    </tr>\n",
              "    <tr>\n",
              "      <th>...</th>\n",
              "      <td>...</td>\n",
              "      <td>...</td>\n",
              "      <td>...</td>\n",
              "      <td>...</td>\n",
              "      <td>...</td>\n",
              "      <td>...</td>\n",
              "    </tr>\n",
              "    <tr>\n",
              "      <th>1441</th>\n",
              "      <td>-0.018987</td>\n",
              "      <td>-0.018018</td>\n",
              "      <td>0.005921</td>\n",
              "      <td>-0.000785</td>\n",
              "      <td>0.008136</td>\n",
              "      <td>-0.010024</td>\n",
              "    </tr>\n",
              "    <tr>\n",
              "      <th>1442</th>\n",
              "      <td>-0.090323</td>\n",
              "      <td>-0.098800</td>\n",
              "      <td>-0.049255</td>\n",
              "      <td>-0.032220</td>\n",
              "      <td>-0.035088</td>\n",
              "      <td>-0.035177</td>\n",
              "    </tr>\n",
              "    <tr>\n",
              "      <th>1443</th>\n",
              "      <td>-0.018321</td>\n",
              "      <td>-0.007048</td>\n",
              "      <td>0.011246</td>\n",
              "      <td>0.029639</td>\n",
              "      <td>0.036364</td>\n",
              "      <td>0.005193</td>\n",
              "    </tr>\n",
              "    <tr>\n",
              "      <th>1444</th>\n",
              "      <td>-0.055388</td>\n",
              "      <td>-0.031546</td>\n",
              "      <td>-0.052480</td>\n",
              "      <td>-0.028786</td>\n",
              "      <td>-0.052632</td>\n",
              "      <td>-0.024217</td>\n",
              "    </tr>\n",
              "    <tr>\n",
              "      <th>1445</th>\n",
              "      <td>0.024219</td>\n",
              "      <td>0.011401</td>\n",
              "      <td>0.037452</td>\n",
              "      <td>0.027609</td>\n",
              "      <td>0.034444</td>\n",
              "      <td>0.019303</td>\n",
              "    </tr>\n",
              "  </tbody>\n",
              "</table>\n",
              "<p>1446 rows × 6 columns</p>\n",
              "</div>\n",
              "      <button class=\"colab-df-convert\" onclick=\"convertToInteractive('df-4b814faf-deb3-4ea3-9ee7-e8286cb59adc')\"\n",
              "              title=\"Convert this dataframe to an interactive table.\"\n",
              "              style=\"display:none;\">\n",
              "        \n",
              "  <svg xmlns=\"http://www.w3.org/2000/svg\" height=\"24px\"viewBox=\"0 0 24 24\"\n",
              "       width=\"24px\">\n",
              "    <path d=\"M0 0h24v24H0V0z\" fill=\"none\"/>\n",
              "    <path d=\"M18.56 5.44l.94 2.06.94-2.06 2.06-.94-2.06-.94-.94-2.06-.94 2.06-2.06.94zm-11 1L8.5 8.5l.94-2.06 2.06-.94-2.06-.94L8.5 2.5l-.94 2.06-2.06.94zm10 10l.94 2.06.94-2.06 2.06-.94-2.06-.94-.94-2.06-.94 2.06-2.06.94z\"/><path d=\"M17.41 7.96l-1.37-1.37c-.4-.4-.92-.59-1.43-.59-.52 0-1.04.2-1.43.59L10.3 9.45l-7.72 7.72c-.78.78-.78 2.05 0 2.83L4 21.41c.39.39.9.59 1.41.59.51 0 1.02-.2 1.41-.59l7.78-7.78 2.81-2.81c.8-.78.8-2.07 0-2.86zM5.41 20L4 18.59l7.72-7.72 1.47 1.35L5.41 20z\"/>\n",
              "  </svg>\n",
              "      </button>\n",
              "      \n",
              "  <style>\n",
              "    .colab-df-container {\n",
              "      display:flex;\n",
              "      flex-wrap:wrap;\n",
              "      gap: 12px;\n",
              "    }\n",
              "\n",
              "    .colab-df-convert {\n",
              "      background-color: #E8F0FE;\n",
              "      border: none;\n",
              "      border-radius: 50%;\n",
              "      cursor: pointer;\n",
              "      display: none;\n",
              "      fill: #1967D2;\n",
              "      height: 32px;\n",
              "      padding: 0 0 0 0;\n",
              "      width: 32px;\n",
              "    }\n",
              "\n",
              "    .colab-df-convert:hover {\n",
              "      background-color: #E2EBFA;\n",
              "      box-shadow: 0px 1px 2px rgba(60, 64, 67, 0.3), 0px 1px 3px 1px rgba(60, 64, 67, 0.15);\n",
              "      fill: #174EA6;\n",
              "    }\n",
              "\n",
              "    [theme=dark] .colab-df-convert {\n",
              "      background-color: #3B4455;\n",
              "      fill: #D2E3FC;\n",
              "    }\n",
              "\n",
              "    [theme=dark] .colab-df-convert:hover {\n",
              "      background-color: #434B5C;\n",
              "      box-shadow: 0px 1px 3px 1px rgba(0, 0, 0, 0.15);\n",
              "      filter: drop-shadow(0px 1px 2px rgba(0, 0, 0, 0.3));\n",
              "      fill: #FFFFFF;\n",
              "    }\n",
              "  </style>\n",
              "\n",
              "      <script>\n",
              "        const buttonEl =\n",
              "          document.querySelector('#df-4b814faf-deb3-4ea3-9ee7-e8286cb59adc button.colab-df-convert');\n",
              "        buttonEl.style.display =\n",
              "          google.colab.kernel.accessAllowed ? 'block' : 'none';\n",
              "\n",
              "        async function convertToInteractive(key) {\n",
              "          const element = document.querySelector('#df-4b814faf-deb3-4ea3-9ee7-e8286cb59adc');\n",
              "          const dataTable =\n",
              "            await google.colab.kernel.invokeFunction('convertToInteractive',\n",
              "                                                     [key], {});\n",
              "          if (!dataTable) return;\n",
              "\n",
              "          const docLinkHtml = 'Like what you see? Visit the ' +\n",
              "            '<a target=\"_blank\" href=https://colab.research.google.com/notebooks/data_table.ipynb>data table notebook</a>'\n",
              "            + ' to learn more about interactive tables.';\n",
              "          element.innerHTML = '';\n",
              "          dataTable['output_type'] = 'display_data';\n",
              "          await google.colab.output.renderOutput(dataTable, element);\n",
              "          const docLink = document.createElement('div');\n",
              "          docLink.innerHTML = docLinkHtml;\n",
              "          element.appendChild(docLink);\n",
              "        }\n",
              "      </script>\n",
              "    </div>\n",
              "  </div>\n",
              "  "
            ],
            "text/plain": [
              "           GOL       CVC      WEGE      MGLU      TOTS      BOVA\n",
              "0          NaN       NaN       NaN       NaN       NaN       NaN\n",
              "1    -0.009340 -0.013158  0.006812  0.018792 -0.030726 -0.019890\n",
              "2     0.024242 -0.013333 -0.014832 -0.013175 -0.062536  0.005613\n",
              "3    -0.043392 -0.008784 -0.011455  0.033380 -0.007071  0.033705\n",
              "4    -0.019244 -0.035447  0.016883 -0.007752  0.023221  0.007477\n",
              "...        ...       ...       ...       ...       ...       ...\n",
              "1441 -0.018987 -0.018018  0.005921 -0.000785  0.008136 -0.010024\n",
              "1442 -0.090323 -0.098800 -0.049255 -0.032220 -0.035088 -0.035177\n",
              "1443 -0.018321 -0.007048  0.011246  0.029639  0.036364  0.005193\n",
              "1444 -0.055388 -0.031546 -0.052480 -0.028786 -0.052632 -0.024217\n",
              "1445  0.024219  0.011401  0.037452  0.027609  0.034444  0.019303\n",
              "\n",
              "[1446 rows x 6 columns]"
            ]
          },
          "metadata": {},
          "execution_count": 5
        }
      ]
    },
    {
      "cell_type": "code",
      "metadata": {
        "colab": {
          "base_uri": "https://localhost:8080/",
          "height": 206
        },
        "id": "w663mVkOI8YI",
        "outputId": "0b823c65-c9a1-4940-f152-100a46189199"
      },
      "source": [
        "dataset_taxa_retorno.fillna(0, inplace=True)\n",
        "dataset_taxa_retorno.head()"
      ],
      "execution_count": 6,
      "outputs": [
        {
          "output_type": "execute_result",
          "data": {
            "text/html": [
              "\n",
              "  <div id=\"df-cfa3e172-f3e0-43c8-bd08-a9731300b78d\">\n",
              "    <div class=\"colab-df-container\">\n",
              "      <div>\n",
              "<style scoped>\n",
              "    .dataframe tbody tr th:only-of-type {\n",
              "        vertical-align: middle;\n",
              "    }\n",
              "\n",
              "    .dataframe tbody tr th {\n",
              "        vertical-align: top;\n",
              "    }\n",
              "\n",
              "    .dataframe thead th {\n",
              "        text-align: right;\n",
              "    }\n",
              "</style>\n",
              "<table border=\"1\" class=\"dataframe\">\n",
              "  <thead>\n",
              "    <tr style=\"text-align: right;\">\n",
              "      <th></th>\n",
              "      <th>GOL</th>\n",
              "      <th>CVC</th>\n",
              "      <th>WEGE</th>\n",
              "      <th>MGLU</th>\n",
              "      <th>TOTS</th>\n",
              "      <th>BOVA</th>\n",
              "    </tr>\n",
              "  </thead>\n",
              "  <tbody>\n",
              "    <tr>\n",
              "      <th>0</th>\n",
              "      <td>0.000000</td>\n",
              "      <td>0.000000</td>\n",
              "      <td>0.000000</td>\n",
              "      <td>0.000000</td>\n",
              "      <td>0.000000</td>\n",
              "      <td>0.000000</td>\n",
              "    </tr>\n",
              "    <tr>\n",
              "      <th>1</th>\n",
              "      <td>-0.009340</td>\n",
              "      <td>-0.013158</td>\n",
              "      <td>0.006812</td>\n",
              "      <td>0.018792</td>\n",
              "      <td>-0.030726</td>\n",
              "      <td>-0.019890</td>\n",
              "    </tr>\n",
              "    <tr>\n",
              "      <th>2</th>\n",
              "      <td>0.024242</td>\n",
              "      <td>-0.013333</td>\n",
              "      <td>-0.014832</td>\n",
              "      <td>-0.013175</td>\n",
              "      <td>-0.062536</td>\n",
              "      <td>0.005613</td>\n",
              "    </tr>\n",
              "    <tr>\n",
              "      <th>3</th>\n",
              "      <td>-0.043392</td>\n",
              "      <td>-0.008784</td>\n",
              "      <td>-0.011455</td>\n",
              "      <td>0.033380</td>\n",
              "      <td>-0.007071</td>\n",
              "      <td>0.033705</td>\n",
              "    </tr>\n",
              "    <tr>\n",
              "      <th>4</th>\n",
              "      <td>-0.019244</td>\n",
              "      <td>-0.035447</td>\n",
              "      <td>0.016883</td>\n",
              "      <td>-0.007752</td>\n",
              "      <td>0.023221</td>\n",
              "      <td>0.007477</td>\n",
              "    </tr>\n",
              "  </tbody>\n",
              "</table>\n",
              "</div>\n",
              "      <button class=\"colab-df-convert\" onclick=\"convertToInteractive('df-cfa3e172-f3e0-43c8-bd08-a9731300b78d')\"\n",
              "              title=\"Convert this dataframe to an interactive table.\"\n",
              "              style=\"display:none;\">\n",
              "        \n",
              "  <svg xmlns=\"http://www.w3.org/2000/svg\" height=\"24px\"viewBox=\"0 0 24 24\"\n",
              "       width=\"24px\">\n",
              "    <path d=\"M0 0h24v24H0V0z\" fill=\"none\"/>\n",
              "    <path d=\"M18.56 5.44l.94 2.06.94-2.06 2.06-.94-2.06-.94-.94-2.06-.94 2.06-2.06.94zm-11 1L8.5 8.5l.94-2.06 2.06-.94-2.06-.94L8.5 2.5l-.94 2.06-2.06.94zm10 10l.94 2.06.94-2.06 2.06-.94-2.06-.94-.94-2.06-.94 2.06-2.06.94z\"/><path d=\"M17.41 7.96l-1.37-1.37c-.4-.4-.92-.59-1.43-.59-.52 0-1.04.2-1.43.59L10.3 9.45l-7.72 7.72c-.78.78-.78 2.05 0 2.83L4 21.41c.39.39.9.59 1.41.59.51 0 1.02-.2 1.41-.59l7.78-7.78 2.81-2.81c.8-.78.8-2.07 0-2.86zM5.41 20L4 18.59l7.72-7.72 1.47 1.35L5.41 20z\"/>\n",
              "  </svg>\n",
              "      </button>\n",
              "      \n",
              "  <style>\n",
              "    .colab-df-container {\n",
              "      display:flex;\n",
              "      flex-wrap:wrap;\n",
              "      gap: 12px;\n",
              "    }\n",
              "\n",
              "    .colab-df-convert {\n",
              "      background-color: #E8F0FE;\n",
              "      border: none;\n",
              "      border-radius: 50%;\n",
              "      cursor: pointer;\n",
              "      display: none;\n",
              "      fill: #1967D2;\n",
              "      height: 32px;\n",
              "      padding: 0 0 0 0;\n",
              "      width: 32px;\n",
              "    }\n",
              "\n",
              "    .colab-df-convert:hover {\n",
              "      background-color: #E2EBFA;\n",
              "      box-shadow: 0px 1px 2px rgba(60, 64, 67, 0.3), 0px 1px 3px 1px rgba(60, 64, 67, 0.15);\n",
              "      fill: #174EA6;\n",
              "    }\n",
              "\n",
              "    [theme=dark] .colab-df-convert {\n",
              "      background-color: #3B4455;\n",
              "      fill: #D2E3FC;\n",
              "    }\n",
              "\n",
              "    [theme=dark] .colab-df-convert:hover {\n",
              "      background-color: #434B5C;\n",
              "      box-shadow: 0px 1px 3px 1px rgba(0, 0, 0, 0.15);\n",
              "      filter: drop-shadow(0px 1px 2px rgba(0, 0, 0, 0.3));\n",
              "      fill: #FFFFFF;\n",
              "    }\n",
              "  </style>\n",
              "\n",
              "      <script>\n",
              "        const buttonEl =\n",
              "          document.querySelector('#df-cfa3e172-f3e0-43c8-bd08-a9731300b78d button.colab-df-convert');\n",
              "        buttonEl.style.display =\n",
              "          google.colab.kernel.accessAllowed ? 'block' : 'none';\n",
              "\n",
              "        async function convertToInteractive(key) {\n",
              "          const element = document.querySelector('#df-cfa3e172-f3e0-43c8-bd08-a9731300b78d');\n",
              "          const dataTable =\n",
              "            await google.colab.kernel.invokeFunction('convertToInteractive',\n",
              "                                                     [key], {});\n",
              "          if (!dataTable) return;\n",
              "\n",
              "          const docLinkHtml = 'Like what you see? Visit the ' +\n",
              "            '<a target=\"_blank\" href=https://colab.research.google.com/notebooks/data_table.ipynb>data table notebook</a>'\n",
              "            + ' to learn more about interactive tables.';\n",
              "          element.innerHTML = '';\n",
              "          dataTable['output_type'] = 'display_data';\n",
              "          await google.colab.output.renderOutput(dataTable, element);\n",
              "          const docLink = document.createElement('div');\n",
              "          docLink.innerHTML = docLinkHtml;\n",
              "          element.appendChild(docLink);\n",
              "        }\n",
              "      </script>\n",
              "    </div>\n",
              "  </div>\n",
              "  "
            ],
            "text/plain": [
              "        GOL       CVC      WEGE      MGLU      TOTS      BOVA\n",
              "0  0.000000  0.000000  0.000000  0.000000  0.000000  0.000000\n",
              "1 -0.009340 -0.013158  0.006812  0.018792 -0.030726 -0.019890\n",
              "2  0.024242 -0.013333 -0.014832 -0.013175 -0.062536  0.005613\n",
              "3 -0.043392 -0.008784 -0.011455  0.033380 -0.007071  0.033705\n",
              "4 -0.019244 -0.035447  0.016883 -0.007752  0.023221  0.007477"
            ]
          },
          "metadata": {},
          "execution_count": 6
        }
      ]
    },
    {
      "cell_type": "code",
      "metadata": {
        "colab": {
          "base_uri": "https://localhost:8080/"
        },
        "id": "bvY-TrLzEENP",
        "outputId": "afd45e67-b57e-4aa7-f0d2-3e159b000093"
      },
      "source": [
        "dataset_taxa_retorno.mean() * 246"
      ],
      "execution_count": 7,
      "outputs": [
        {
          "output_type": "execute_result",
          "data": {
            "text/plain": [
              "GOL     0.332160\n",
              "CVC     0.118679\n",
              "WEGE    0.383254\n",
              "MGLU    1.011730\n",
              "TOTS    0.104269\n",
              "BOVA    0.151235\n",
              "dtype: float64"
            ]
          },
          "metadata": {},
          "execution_count": 7
        }
      ]
    },
    {
      "cell_type": "markdown",
      "metadata": {
        "id": "qll0I2gDEUDw"
      },
      "source": [
        "**Cálculo do parâmetro BETA para um ativo**"
      ]
    },
    {
      "cell_type": "markdown",
      "metadata": {
        "id": "JV5CZPLCtyJ9"
      },
      "source": [
        "- BETA com regressão linear\n"
      ]
    },
    {
      "cell_type": "code",
      "metadata": {
        "colab": {
          "base_uri": "https://localhost:8080/",
          "height": 542
        },
        "id": "qoYGH4-VBS9c",
        "outputId": "208215c2-d89e-4baf-cc93-104b9a54979f"
      },
      "source": [
        "figura = px.scatter(dataset_taxa_retorno, x = 'BOVA', y = 'MGLU', title = 'BOVA x MGLU')\n",
        "figura.show()"
      ],
      "execution_count": 8,
      "outputs": [
        {
          "output_type": "display_data",
          "data": {
            "text/html": [
              "<html>\n",
              "<head><meta charset=\"utf-8\" /></head>\n",
              "<body>\n",
              "    <div>\n",
              "            <script src=\"https://cdnjs.cloudflare.com/ajax/libs/mathjax/2.7.5/MathJax.js?config=TeX-AMS-MML_SVG\"></script><script type=\"text/javascript\">if (window.MathJax) {MathJax.Hub.Config({SVG: {font: \"STIX-Web\"}});}</script>\n",
              "                <script type=\"text/javascript\">window.PlotlyConfig = {MathJaxConfig: 'local'};</script>\n",
              "        <script src=\"https://cdn.plot.ly/plotly-latest.min.js\"></script>    \n",
              "            <div id=\"24683f38-c7dd-4bff-be5b-3d7a7149e78f\" class=\"plotly-graph-div\" style=\"height:525px; width:100%;\"></div>\n",
              "            <script type=\"text/javascript\">\n",
              "                \n",
              "                    window.PLOTLYENV=window.PLOTLYENV || {};\n",
              "                    \n",
              "                if (document.getElementById(\"24683f38-c7dd-4bff-be5b-3d7a7149e78f\")) {\n",
              "                    Plotly.newPlot(\n",
              "                        '24683f38-c7dd-4bff-be5b-3d7a7149e78f',\n",
              "                        [{\"hoverlabel\": {\"namelength\": 0}, \"hovertemplate\": \"BOVA=%{x}<br>MGLU=%{y}\", \"legendgroup\": \"\", \"marker\": {\"color\": \"#636efa\", \"symbol\": \"circle\"}, \"mode\": \"markers\", \"name\": \"\", \"showlegend\": false, \"type\": \"scattergl\", \"x\": [0.0, -0.01988994202483263, 0.005613172235394481, 0.03370544510750739, 0.007476568727849742, -0.020202011464537706, -0.01472747667199803, -0.0040572802472165215, -0.003430528505702024, 0.011187617531948302, 0.012765924981299914, -0.027100780297953375, 0.004534637837298128, 0.027730028005880092, 0.006483947912349075, -0.017040725540849677, -0.0023255943366989884, 0.0031786719695732213, -0.02133498771182396, 0.0010791978218103182, -0.016601993101138968, 0.014470507313747216, 0.029608794431185137, 0.002728821783811286, 0.002302713194420214, -0.012113655349120789, 0.013107800039856787, -0.01585973185670375, -0.004452906809841339, 0.025133126432390407, 0.026179062820921528, 0.010528456452515211, -0.002203979376635079, 0.000803231247794356, -0.0008025865851701841, 0.012249008427646757, -0.0009918515614339984, -0.0009928363076759927, -0.0059630897151412565, -0.00839828400403031, 0.004839719252436092, -0.015251898621380877, -0.002445464288384991, -0.008171634722052068, -0.016477842422907174, -0.016753910723780963, 0.012140568382570827, -0.0014730575368246956, -0.005057991034938869, 0.003600974093187048, 0.03250310397030454, 0.024121021041346946, -0.010978029018197444, 0.015539868206249308, 0.0021860216816111944, -0.007733479819321154, 0.004996003106035651, -0.023463914967069566, -0.009163118659065828, 0.02383887897759207, -0.006423117157454694, 0.026262610849707935, 0.013779542784496446, 0.011650455808176474, 0.0019194297840148256, 0.00038315052627124757, 0.0009574729201791143, 0.007269964889751179, -0.0007597514599818611, -0.0015206582422836457, 0.013706477011891316, -0.004131478323063376, -0.01093716820117785, -0.004003795641906671, 0.015122455502441401, 0.01904586384084106, 0.017394496868686993, -0.01855220928076029, 0.004447770247199001, -0.009594104251733349, 0.017511151664773017, 0.022153111000219328, 0.010567729151720107, -0.017546931866340265, -0.001984495936242947, 0.003253801629948816, 0.0003603686083544222, -0.006123922006206484, -0.00743022553723427, 0.00547743718373539, 0.009442536056751383, -0.019787704103287118, -0.01027713995304047, -0.010940110314282103, 0.003936990698761189, -0.011577944737965251, 0.0013224956436921342, -0.014339590972324623, 0.007848388863683775, -0.00493831203599604, -0.01985113433180985, 0.0021421735855942092, 0.022541777459186285, -0.011022387459722838, -0.012874749651333284, -0.002335973026666438, 0.0019511897389481447, 0.01947419726806765, -0.005157529148733131, -0.006720473819370243, -0.0019330847671756857, 0.010652706288635239, -0.010348810125893837, 0.01878391231928589, -0.007413027658693783, 0.001531942062186209, -0.0007648358721005222, -0.0001913188261448706, -0.011291868949050543, 0.013937305900692865, -0.016609444995059675, -0.0009706705239717062, -0.004275114844925265, 0.005464456872072088, -0.012228281492965287, -0.004716012313774054, 0.0015794277186065298, -0.010053189949441932, 0.015531636008310423, 0.009803921568627416, 0.0038835099599892065, -0.006576405175444666, 0.0031152617895386925, -0.014751594128061485, -0.012805313882484848, -0.003592103432116023, -0.011415976193477784, -0.02269041568143504, -0.009535714825135488, -0.008999588031846306, 0.01752907830627115, 0.011623108545951055, -0.006360306988417275, 0.019409428469661538, -0.013773553167663266, -0.0020537785364864725, 0.003910241327687469, -0.0049200055304510215, -0.030696366921372786, 0.01764084685469891, 0.005639107179207459, -0.02512986211474122, -0.009160637361653068, -0.008815305573173782, -0.0049891442483546156, 0.0037061693394633277, -0.01933100286599443, 0.00044289351917203845, -0.01926054830976054, -0.031602657681547464, 0.003729600040121017, 0.03715741809319906, 0.03672188524970332, -0.010799136247064522, -0.010043648299898456, -0.025805072335796986, 0.02082866248089199, 0.016189832330138598, -0.01571368890219471, 0.0053215451571360095, 0.007940022257168167, -0.012472640816375336, -0.005539552273058135, 0.02718354226761832, -0.004338328738871078, 0.025925895144863098, 0.0006370520110359212, -0.028225764993756286, -0.012666560809305616, -0.005972140305935292, -0.023364469718441527, 0.002506279605406281, -0.0031818043101917715, -0.025307811101342947, 0.004678380419636197, 0.011175774940858973, 0.013815299790582491, 0.03247786383878282, 0.014738275343947782, 0.001300619059279029, 0.02836114769948339, 0.0018947400544819804, 0.004202579581806809, -0.03892028823433713, -0.0137165483111098, 0.010816814276365827, 0.0013102764226720076, 0.0032715710113615515, -0.009782625281292479, 0.0002195858704281406, 0.01624227044477977, -0.0073434159436387425, -0.003916455804207963, -0.005024018094564653, 0.011196534462629026, -0.040816348503311284, 0.0049796563871311594, 0.05022521318916051, -0.009650455771641586, 0.005846696751394598, -0.019806285651917666, -0.01691193671004032, 0.0037980784186222305, 0.018918283292848947, -0.009829553522087475, -0.002426662384915179, 0.004865046441111742, 0.009903186103420225, 0.004140388841432641, 0.013454837396879693, -0.005139222153016765, 0.007102923752854373, -0.02949350376390525, 0.005285216456138553, -0.023220182647531784, -0.01995961844814631, -0.003890205507427358, -0.0016080794116061226, 0.034744642614821464, -0.019346291371268864, -0.0034013087612613235, -0.02047785006269731, 0.03716613977175087, -0.007390858225691632, -0.009025305248944293, -0.011156600277729356, 0.0016117820477168365, 0.0055172799647540405, 0.0, -0.02652034300179673, -0.014795703171054386, 0.006674583413696533, 0.012313532166714714, -0.005847953216374324, -0.001882396024816213, -0.00683632987618521, -0.024448197671033567, 0.0019465166429402103, -0.016512877613804045, -0.025432068624614, -0.003293667699382996, -0.015760013459074074, -0.008780995399507163, -0.016414826747845224, 0.0137748465632761, -0.020642824825654826, -0.019477042453367344, 0.0027210469148597483, -0.009497923707293854, 0.0027396842224958196, 0.0071038837997303705, -0.01112316442276362, 0.028257853435880387, -0.002134418818956263, 0.04786088309626102, 0.0028068541517274337, -0.04529259068326663, 0.023454185964252527, 0.031770764518946004, -0.006814751767860172, -0.004828427803725055, -0.024514787748041722, 0.013874313317058018, 0.008262321162055386, 0.017669717154601194, 0.01409153334025115, -0.002481351762139372, 0.001243762092329126, 0.04248444930366846, -0.015490889546329267, -0.01040910895378977, -0.00684937834340027, -0.00862065239594012, 0.02981368355129077, 0.031363069074364924, 0.01754385964912286, 0.050574730182516126, 0.0, 0.045295397380012536, -0.001465348422722168, -0.00943397810779667, 0.028571396277695005, -0.0028806459679825425, -0.02744527530921026, -0.029068591460501114, 0.011800719740700627, 0.07019438560591928, -0.007063541463373291, 0.01036581938261616, -0.0028163225151249804, -0.027637662705650712, 0.003734446106361533, 0.02315003942037741, 0.0030303338561392668, 0.0006042050025165668, -0.020933995755611945, 0.009868411765204366, -0.03644130984840377, 0.0006338216382062445, -0.01140204621131935, 0.004912420840142762, 0.0, 0.03294366125812043, 0.04012347374821035, 0.01899108009815431, -0.011842298884317759, 0.01591350755032761, -0.009862663518908188, 0.02031251757871333, -0.005551319031578128, -0.012512059987159985, -0.01851853366604228, 0.023237378730883718, 0.026203386299032294, 0.0, -0.01361826027145363, -0.004218623475858219, -0.021760082061902386, 0.004330732756047562, -0.013524081154804968, -0.0003973863905429864, -0.015702661378712457, 0.041599381143948344, -0.006785619937834775, 0.004294382640424255, -0.023906696287598783, -0.0021903745057302304, -0.01456794119626359, 0.0, -0.0097205251489203, -0.012678992377002207, -0.011598955525116805, 0.0027241670178661526, 0.0016719296469351885, -0.006885078843178238, -0.0018907595687596146, -0.010313573586203328, 0.009783051467340043, 0.019376621577769315, 0.014462746408549387, -0.005091649852734026, 0.0020471298248114778, 0.026557695950942373, -0.011741296568913318, -0.03463554623415421, 0.0033375021275654504, -0.020790021449543894, 0.006369491751101464, 0.01265819524907652, 0.00041667620340990474, 0.013744269910880291, 0.013763314805774085, -0.015805446877691365, 0.031706833955188474, -0.030732406640785692, -0.014823990636752105, 0.01671897758137808, 0.017677220322322773, 0.007877261514187328, 0.016232415507516196, 0.005915977962468677, -0.014899006989623431, 0.002985104992615062, 0.0, 0.022817414213591958, 0.014548981786614679, 0.0049713602298915305, 0.006659027111421301, 0.013230027687737511, 0.006342103128464505, 0.017238188916108843, 0.003097634213496514, -0.0014531883281763136, -0.0007276862768612613, 0.002184579122848751, 0.000908251367002455, 0.0, -0.0009074271950121338, -0.000908251367002455, 0.012363641912287004, -0.011494241848790776, -0.011627895694091395, 0.01636028243905585, 0.009585797983736821, 0.0, 0.000895722632280771, 0.0010739462043691805, -0.014303580058921073, 0.024668974859464177, 0.0003539855279208748, 0.012918127386590816, 0.0, 0.004192834673864443, -0.0024356191851665487, 0.00017436905313217288, -0.02266781641933535, -0.0008920470605019437, -0.0017856870378767375, 0.002862251217257139, -0.0017838438524550027, 0.01590420665134329, 0.0007036221037992618, -0.016874654504695386, 0.005721432023568118, 0.02666666666666684, -0.0012121159276922144, 0.007628270186911035, 0.002925016978094108, -0.03825698245343989, 0.011594678830873395, -0.02715572104371622, 0.0001812966569227914, 0.015585367988316223, -0.011420402912076133, 0.0019855016719254603, 0.007025819062120187, 0.013416815376164015, 0.009002617966395565, 0.0019244333562842275, -0.017635797593110403, 0.006932158122664234, 0.016769583806775623, -0.01979165659458526, 0.0017712059943315595, 0.017503497873623264, -0.0013900611193387036, 0.01252823021946381, 0.011685862196664232, 0.005945342197531289, 0.008949658364944213, -0.012217565560440735, 0.0045747281543466745, 0.010288423021288962, 0.014691105692840267, 0.0176044704888787, -0.008730753664545565, 0.007502839245947968, -0.003723482929121724, 0.009587262655353923, -0.004184808172551069, 0.001939595097038005, 0.0019357788132865483, 0.0028980889294305534, 0.009792913812584292, -0.024642337267990255, -0.02265687733040067, -0.007671766035629912, 0.04537816408301598, 0.0, -0.015916425503593623, -0.03234764861708039, -0.03038999241890894, 0.011143990706034446, 0.015154142805922532, -0.02205257371053071, 0.006591452616829585, 0.018438733712431876, 0.016074463408919604, 0.0013322536564714937, -0.012472974998793074, 0.0037049074107207147, 0.020973154899370572, -0.027280195382717864, 0.013684767563510558, -0.03666667938232415, 0.010034633887724853, -0.009934940398133252, 0.022664383920113496, 0.006767005702104534, 0.004873146088165914, -0.02056855448041628, -0.022537129959057656, 0.009432330402224132, -0.0254369475240509, 0.004971569261613684, -0.0031802174916680803, -0.021623492477838457, 0.009239099900078429, -0.00017947086156022696, 0.005026907997516261, 0.006788157756745461, 0.010645820930152539, -0.002633386825712236, 0.018130588882208976, 0.0069156556850562545, -0.010473911276982495, 0.03678637675850571, 0.0, 0.005020907733230828, -0.003330570615828199, -0.0018378746609636343, 0.008536965303049815, 0.0036514725427905237, 0.02530178184903087, -0.005161285400390514, 0.003566816141611584, 0.006138889241531276, -0.006101433218786534, 0.0032309683895337393, 0.0075684578462427154, 0.019657975838828, 0.001724147518291197, 0.00453758569116669, -0.0029594208885225237, -0.027339536889450344, 0.002088035201091021, 0.0051290222464293045, -0.0009567462840006646, 0.007023122362211698, -0.017118431263950185, 0.0, 0.01386874106805025, -0.0006361873947766661, 0.01846251493882267, 0.010782913089705026, 0.0057205124433561405, 0.012298161181126588, -0.003796507301336516, -0.002743907154918568, 0.014215841198498502, 0.00813867261410639, -0.0061294070332772455, -0.01744891100382906, -0.01255357775038679, 0.0051163074582123436, -0.020515221247727755, 0.01732281061608032, -0.0061919742310700965, -0.005918960614971991, -0.018646170987141053, -0.004151399198407901, 0.002886007828416748, 0.014708265305581225, -0.011343961034434025, 0.02167331649962656, -0.010762789499877745, -0.01907914095565455, 0.009644788581392616, -0.02913551649487589, 0.006395529560119462, 0.0027701154733807964, 0.005524864275751051, 0.006464087011591291, 0.0035324538377519143, 0.01567999267578135, -0.005198456501844473, -0.005859109067960944, 0.004778640611518226, 0.010145836573729472, -0.018204642579875085, -0.0089514284047012, 0.00435484609296255, 0.004335963638651297, -0.0019188158750448325, -0.011855140747788151, -0.01426720271986437, 0.023848697058134194, -0.004819264852378269, -0.012106537381169291, 0.00506531952171918, 0.012680907417958354, 0.01139828341687621, -0.0031746152847532683, -0.005414015234370351, 0.01168747282959548, 0.021680629239730687, -0.009293657013796253, -0.02032519161458446, 0.015959144628713062, -0.0037700546503621757, 0.011825922763385677, 0.01605109566288454, 0.00230063700766725, 0.009028370023892007, 0.005004461471674659, 0.002716165901520684, -0.016854705321655006, -0.0866371269473758, 0.015753351269507165, -0.01781887180628461, 0.02032593522563153, 0.007079296651237188, 0.0019617909134246325, 0.010768475078369644, -0.0033898156882393726, 0.0025915102536822054, -0.021647820994441402, -0.004953815141261253, 0.0014935306188970099, 0.001657038796135879, 0.008271298489487267, 0.0039376187164128496, -0.007844411717747746, -0.008071122898350547, -0.009465288662735438, 0.0028499273193072217, 0.0011701721026635692, 0.0, -0.004675217601442738, 0.008052332449615562, -0.022466275098901867, 0.0006809175976707493, 0.009697170919727549, -0.004212300024051596, 0.01962774750188978, -0.008463297971101347, 0.003347293103589166, 0.0025020468602625634, 0.013810346957197961, 0.0026259617037704963, 0.0009821799499287742, -0.0016353603650530735, -0.010319427944116888, 0.0013240952247464133, 0.007272704573702216, 0.01247131856510042, 0.016207455229087397, 0.007974481561658031, 0.0022151801892149603, -0.004420568023718707, 0.0009514360495899155, -0.00047526583974200065, -0.005389129050016983, -0.00350599554905362, 0.0063969540010822, 0.008739857530484008, -0.01055447658753561, 0.003821013509348159, 0.005392548084093285, 0.005205897369176871, 0.008003799850285986, 0.010742562290979807, -0.00723969861305318, 0.004034168324930532, 0.014217248987198117, 0.00045720569780849374, -0.0033506123733297866, -0.010849618856728416, 0.005715975560008468, 0.014132076659126191, 0.0009088941387365157, 0.005145222888460088, -0.00933446453296305, 0.010182342520839605, -0.00030095188947720786, 0.020015077383534585, 0.0061964912438678965, 0.009384155693351826, -0.0027599480261324416, 0.0010196604991747904, 0.003783500168975218, -0.006523696082010866, -0.0017509867112933675, 0.016079497372258444, 0.004747434779434956, -0.0011453924091451295, 0.01705841134706154, 0.0, -0.003382633884320141, 0.01725358841039837, 0.002363383403643393, 0.0023578109922752777, -0.004151036893566218, 0.016256747938038663, 0.0049220756543035815, -0.0006803136293579426, 0.00013617612860516992, -0.005309003464592621, -0.0034213767762983904, -0.01263386669597455, -0.0006954527217890583, -0.007098150968147365, -0.003644442391116942, 0.007034327337081647, 0.0033528619395117865, 0.03258150901181067, -0.001887904694299558, 0.000270254976603157, -0.007158276239104144, -0.004081118800701944, 0.014069099742897384, -0.0014816892984480523, 0.0, 0.00431673690382417, -0.0014775099376838075, -0.008474539742435616, 0.005155301290703962, -0.0040490678524957024, -0.0025749076981821384, 0.0, 0.0035326377937614506, 0.002030889854310214, -0.012971207360669812, 0.004380556898779364, -0.01390219755046218, -0.008016611517443928, -0.006966699503786367, 0.0, 0.0004210244156694909, 0.006872340011175648, -0.025351715721048218, 0.028011991571792905, -0.01988044347433271, -0.007517713181516172, 0.007288868476960753, -0.028660672194224857, 0.0, 0.024978076356131806, 0.010545895859686016, 0.0, 0.01537154536170271, -0.001388867696126228, 0.00041722918859865565, -0.004170763943903699, -0.0005584380435731395, 0.003771536335699377, -0.022404684061742675, -0.012099622407417798, 0.003890441457205851, 0.012343916075124861, -0.0075145156453972906, 0.04257147652762283, -0.04083314908001401, 0.0017143249511719638, 0.004563600717197858, 0.013628606632590579, -0.014285773818803471, -0.005399222339405929, -0.0007143293108259341, 0.010293084376199024, -0.007075138148506577, 0.01040335436771711, 0.02313116155646089, 0.0022056249061970234, 0.0, 0.00756537929636214, 0.005460771684353549, 0.002308189618781986, 0.0, 0.017339457932653124, 0.0026631768535341216, 0.009296107833635103, 0.00578950580797688, 0.004186285774513188, -0.007816551034694363, -0.007353008942499462, 0.01402123292834645, 0.00013037446332497815, 0.005217184497611438, -0.00012977989191742534, 0.0175188962663686, -0.003953643330054879, 0.004097307312115328, 0.0053557533633254994, -0.011795950266099808, 0.03747911733657672, 0.0, 0.02251638814296042, -0.010526348826619514, -0.0020787255011349703, 0.004778818609627367, 0.00670735428972935, -0.01586923245983307, -0.02511079479529532, 0.024621270868369738, -0.014664231904256475, -0.0157579058361339, -0.00673441931192742, 0.0413202434769504, 0.001965553190609981, 0.00367831119100126, 0.013193279049623197, 0.001205672427990745, 0.008550085219711345, 0.006447772125699469, 0.005101439085363202, -0.0074363181507903775, -0.018908269795870902, 0.00024238355232020226, 0.005210861884007434, -0.0006027175913517757, -0.0025331614066026464, -0.0010884504127198769, -0.005568996282933059, 0.01533969010948466, 0.006594669212237614, -0.005360297374633949, -0.004311384555108599, -0.012869854494579669, -0.0007310534765059273, -0.011218214539387317, 0.0038229769637248, 0.008476594583261221, -0.003654469920165049, -0.0025675398229857427, 0.007967657652484528, -0.015201264124654945, 0.0004938661950475431, 0.017403156264263364, -0.007036295388904379, -0.0012217284787452432, -0.004281326900563931, 0.011916476689435296, -0.005220350744660207, -0.018550210241302656, 0.014175570947583704, 0.010912204711740703, -0.00024253054950329478, -0.01370856786648611, -0.016236157998467338, 0.014128497199169088, 0.019602962962962822, 0.002418435127172991, -0.0019300803276756096, -0.000483453185401439, -0.0026601402590894496, -0.004849678826368331, 0.01742203061982317, -0.00047899550358165843, -0.003474313062013179, -0.01767253204267727, -0.01493086812351907, -0.002857444821011468, -0.005482213178357731, 0.005011294505239849, 0.01408622832489237, 0.018684748629030246, -0.006998935825166419, 0.0012151959291353265, -0.0021847348769175046, 0.014718393114557138, -0.03164708040752784, -0.007056198358971755, -0.012591972918074679, 0.010101049022522401, -0.02187500000000009, -0.010223681172623733, 0.0, -0.061458937306568484, 0.009767492923734133, 0.009128040259087644, 0.0074254496290520056, 0.016483458620556002, -0.02307185280428281, -0.00850198740068786, -0.028583073897232136, -0.013591161319516432, -0.007670467383851465, 0.005868823778024446, -0.007399981043228032, -0.013620027931787737, -0.010029104808137346, -0.00866251595944778, 0.019105464746195677, 0.01017300686634437, -0.026614852787593457, 0.007685436224083464, 0.006160137387289488, 0.0058309261629181375, -0.01449275362318847, 0.02058825773351325, 0.013688716532491263, -0.0007106669999671356, 0.011379735243742362, 0.014205374935388981, -0.003328218856443632, 0.008070045630932388, -0.0013802412468357783, -0.008154752596182258, 0.02090300941118106, 0.010237509938988865, -0.0008107713316618526, 0.019202242825428595, -0.009420181220636259, -0.00013396913661745113, 0.015405244505992899, -0.007255976643988582, 0.01661129568106312, 0.011372584922640927, -0.009693679376703068, 0.0066561535963751695, 0.003759897910724952, -0.012529078321422804, 0.00013083239541833436, 0.006408551787035588, 0.022222310353272157, -0.0053395090107548615, -0.009585889832280925, -0.015098699202472865, -0.004716989148205841, -0.02843596707146856, 0.014769597463650141, 0.013486475423447164, -0.019894625900838903, -0.003360666783857935, -0.010655529026584398, 0.00449900256195801, -0.01587945391014245, 0.02261756090652489, -0.015104554599248976, 0.008900472911731239, 0.01927250492757615, -0.004127797135715872, 0.011899978322685856, -0.025634281627686217, 0.005153307483335423, -0.008634637964553327, -0.01918894389892989, 0.004856368469587036, 0.02319801639951158, -0.0013495071009483883, -0.025270307386243696, 0.006100131126587582, -0.0075789314326956125, 0.010969188452515821, 0.017305345124019267, 0.017280934043075513, -0.0010617363327772855, 0.0007971992914099779, 0.015531636008310423, -0.016993503944546462, 0.009042557616641966, -0.00039534502349403144, 0.016084393477204584, -0.005968588118517304, -0.010573000289002765, 0.03931392622114083, 0.019167328758924684, -0.0051065345302553355, -0.0053830786174366985, 0.05273760355379031, -0.0076518339827683635, -0.02734935714537834, -0.007184464349522135, 0.0038677174384538215, 0.026597059582386118, 0.0014528177820682942, 0.0, -0.018133462014802038, 0.01723715223882616, -0.00399421229828445, -0.02600558228022376, 0.010979379122455057, 0.02073306590749957, -0.022971847985857274, 0.03650544074695361, 0.003820435609633188, 0.013915296663483012, 0.009970656587930726, -0.009523806148157843, -0.008091023115419649, -0.0235252151545271, -0.0009685451880456775, -0.0020600845353959674, -0.008621725532827806, 0.012371412834166984, 0.03206293378045677, -0.011723329006134042, -0.00023729859711463241, 0.00023735492110454892, -0.015065293315365547, -0.008310278833561724, 0.026111265745703438, 0.017871963243095035, 0.00441857271416235, -0.0001157039494528167, 0.0013893147316386134, -0.014568095016264881, 0.009386312224029636, -0.005695662800444423, -0.007131173764587162, -0.024373009388745537, 0.007723864167682448, 0.004790437435675532, 0.004529168611525636, -0.0008305611751077135, -0.011518836613809924, 0.003123524061785732, -0.011976047904191711, -0.0009697191642991099, 0.00024271139171738731, -0.00363904709938645, 0.006208937667641967, 0.02359342906523265, 0.03900712897491676, 0.0011376390487507493, 0.005681818181818121, -0.00022595076911191558, 0.003955678806986107, 0.016773588124014083, 0.0011071576002987804, -0.0004423901386574336, 0.00918346820400373, -0.006578209408437896, 0.00595961717128235, 0.008996156676875255, 0.0069587841812963624, 0.00032392591619867517, -0.013385123833540291, 0.0185995286636933, 0.011493015170366938, -0.022193866183803923, 0.0011946199844063976, 0.01442666413319027, 0.005132628038531761, 0.003829793727144315, 0.0071004468483630845, -0.0024202434020149655, -0.0372363533233655, -0.0029582190533248287, 0.00769227415650775, -0.0077426293140818725, 0.016045709624684212, 0.0016225152063862325, 0.01879047400044831, -0.0031799388807352003, -0.011271773163272325, 0.008603951317276648, -0.0065045917924050345, 0.004400597511721838, 0.009190004205216429, -0.007094512717272905, 0.0037326022826675853, -0.002974993630688094, -0.021206286673372432, -0.0083831971242041, -0.00032936735500432857, 0.008786330538709919, 0.02939580427317523, -0.0015864782764395402, 0.009639788326331722, -0.003777154753678791, 0.006108497627133502, 0.008897712603187946, -0.0033201878392130624, -0.01780136506280494, -0.014202399147448364, -0.029674250863772178, 0.0011080163337517934, 0.01726624476297145, -0.04145365070373708, 0.03314413416026385, 0.008679421497073125, 0.005881722360167707, -0.005630716314652839, -0.0072960705171056794, 0.018758216496029156, 0.007429684414832494, 0.002351445344633829, -0.011516334454176769, -0.00226536236662378, -0.012001304313862149, -0.020463943679069674, 0.0033515296079056345, 0.013250222400127187, -0.01098901098901095, 0.012888929578993125, 0.0004387152756273327, 0.012829011375996568, -0.008336085845677355, 0.01419217329053879, -0.0029063968571167997, 0.0009716503287693357, 0.0017255827287359082, -0.0077518692140367, 0.004774249072568404, -0.010691121815150084, -0.006876948468732658, 0.012420281509385678, -0.00803384929829598, -0.0062383679291896366, -0.027422967064711368, 0.00509573762968496, -0.010027032089098498, -0.01490844596609775, 0.0020794860241757362, 0.02409504287246622, 0.02656760735905439, -0.0025222431272701185, -0.00582672366569259, -0.001990493249677483, 0.013850415512465464, 0.014754081684383635, 0.0022617026163032072, 0.009671196534388748, -0.003937875161635462, -0.0011752642938452906, 0.003423188739118288, -0.012366776379199806, 0.011334229907984161, 0.0056569406071727, -0.003927008509746588, 0.016728819609487244, -0.007964729840911677, 0.005070734301388713, -0.006621791648723674, -0.0027510541779027786, 0.01612728533757468, 0.008979854239284935, 0.016454558754827264, 0.0009162730276128794, -0.019835184586185828, 0.005085075349375634, 0.0022715665892543146, 0.0004120831941185621, 0.0035011464911307577, -0.0069779407539332095, 0.033378148899264604, 0.0, 0.002699966430664169, 0.0028922003115217088, 0.01392205210688413, -0.007355825880094535, -0.01146127895670368, -9.997137356676511e-05, -0.001399434110028186, 0.0011011071939082129, 0.00689925804692848, -0.010923520431549538, 0.004016079638623937, 0.0009999847412112128, 0.002897112087392406, -0.01583819451695878, 0.0035424945679176645, 0.004135108687899125, -0.004419393559675022, -0.011501204177355229, 0.004592742731421184, 0.0035558109624702627, -0.02338527624154918, 0.020420868620040222, 0.006196674067685537, 0.013225618558631025, -0.0011957228562399225, -0.02075014211878723, 0.013854858702312844, -0.028838376346423056, -0.013140240583658036, 0.008073016299372515, -0.003952208806884072, -0.002401542608341689, 0.020828949599121405, -0.01209884466261546, -0.024182686745765736, -0.014571316380583288, 0.010793307971189492, 0.009930595729021885, 0.024106563069955733, 0.007743134372021121, -0.008708108480750543, -0.008887976347300652, 0.015328479638307968, 0.010989007544849327, 0.007009292918520815, 0.002017598942582799, -0.0014094370992417948, 0.005645705663981149, 0.006115294339364308, -0.007772008514878803, 0.0022092911895739142, 0.009619229009189656, -0.001290242954111509, -0.0018880534353314937, 0.0031859785647747607, 0.00019845814452601473, -0.007739618860336028, 0.004499969482421928, 0.009756131276325908, -0.0018732371175648188, -0.0022717871630983932, -0.009405054524753487, -0.029082511530252653, 0.005867212412471012, 0.009926332466086762, -0.01915086982362324, -0.006714891584573057, 0.014040545529869108, 0.0059487367287660575, 0.019269977104038105, 0.003801112821625763, 0.0022920115638358496, 0.008152711074728147, -0.0034516614285433622, -0.002968857424023419, 0.012406947890818865, 0.012156841801661988, 0.0015498224081766931, -0.0038684866535401152, 0.003592259675553766, 0.005610856014796273, -0.004328975098154886, 0.007632859087220778, -0.010163942365407963, 0.010074525354192732, 0.0034525810102774557, 0.00038230829186081117, -0.00305722461471436, 0.009199799698231148, -0.018136891814589107, 0.00812375556571343, -0.01717192010946378, -0.0007808121429283554, 0.0017583305689787831, -0.005363267044275144, -0.00039216583850343323, 0.015103971453074072, 0.010628004580880202, -0.0033460657669864835, -0.007769760753897015, 0.002320164908208522, 0.006751513755611116, -0.0002873996942538426, 0.004408232785808375, 0.0018128274576096892, 0.010476175944010402, 0.003204561471959577, 0.004603512331177395, -0.0014963402380316904, -0.0017794775497358417, 0.0015950287673553998, 0.01030443535476433, 0.004265174696159502, -0.005447293428027855, 0.0064055183214539735, 0.01614242174047309, 0.0059912491900349085, 0.00018044254756777178, 0.007488288149383182, 0.01020864518976472, -0.0056732506293695195, -0.008380091177285554, 0.02706099447985233, -0.003851495275204786, -0.010632747639882423, -0.0031086107603265356, -0.002583757315099966, -0.002590382260277413, -0.0034032318677188478, 0.016175440973249744, 0.0021223723017629315, -0.010060001700657573, 0.001515405317194407, 0.015576324199088276, 0.0027169604919723422, -0.01538328887243412, 0.012871699321806762, 0.009728313980681857, -0.01050255267848299, -0.032543851618181296, 0.018224699605995598, -0.01264475298086476, 0.0027958621542869544, -0.020595385063815308, 0.013957728390896262, 0.007154509406154919, 0.005035496476970547, -0.007336492077054002, -0.014420896963769247, -0.005121148298198319, 0.023071992969090793, 0.010332379739016018, -0.01378386362319528, -0.007394045838970076, 0.006540708654857452, 0.0030685589217158693, 0.008457822985140417, -0.016773776339211066, -0.006805807810977171, -0.09365007113565393, 0.014112919041815442, 0.023757449561624622, -0.012039983391491371, 0.013267798271460407, -0.041804050653556524, -0.04443768953299443, -0.12288133778198151, 0.07041055539594443, -0.0741283978159083, -0.14574700755910674, 0.13395149206907542, -0.1284438213468141, 0.02482680789563041, -0.0843661670953455, -0.00015385534382095223, -0.0035385131835939942, -0.055890000074208857, 0.10220768346759512, 0.0642433491547052, 0.03959286497950654, -0.05833443062791155, 0.025348885621666595, -0.03680557674831786, -0.01687091845260713, 0.021267188937400316, -0.0392071784464284, 0.06786249345257711, 0.028975358679781626, 0.03019998852113992, -0.011356141188825442, 0.011753669308608883, 0.0145214320015985, -0.010409830035750467, -0.014727188713191675, 0.014279990530712938, -0.004473636024876715, 0.026962637951264856, -0.013513455130026664, -0.0553163441534702, 0.039773472003358235, 0.03997877672504724, 0.024010181100188044, -0.03704167135693326, -0.014376384192637426, 0.005781898163320864, -0.004442173546096551, -0.01049862801053214, 0.026923060188535075, -0.016660220979504592, -0.01497241133158489, 0.0020000203450520893, 0.014637371281253975, -0.022163966444672, 0.046539717466811625, -0.0048698867020716685, 0.010302580896880853, 0.019375453557554323, -0.00037512540751483137, 0.03327490557264556, -0.0018159991361974548, 0.02704673668251889, -0.012163424369212361, 0.0059772862029812135, 0.014022582100760905, 0.0287120226845059, 0.0181135109295556, 0.01051801256711582, 0.008194059496944517, 0.03185056341882708, -0.010643959898699262, -0.019150068184381475, -0.021059539404480354, -0.0020168101420254825, 0.01044122946404169, 0.02166663275824665, 0.0073953271097824125, 0.00010797945079410454, -0.009607074649310543, 0.005558606389433063, -0.016150070005027106, 0.017847337297503207, -0.02348737074662699, 0.018066916774147845, 0.001742010503728686, 0.00858603300929861, -0.002155221670899654, 0.03909290287508704, -0.008418182792742201, 0.009747328792427012, -0.013390007630978862, 0.01630715804942451, 0.014803316022400148, -0.012343151071508407, 0.023858681738017085, 0.013820264143453498, -0.0020895431290810507, 0.0008973610237217322, -0.019725002806489034, 0.001930841555543461, 0.018967469480099197, -0.004081186904751233, 0.014292856187480885, -0.0016752640196698865, -0.019938769042987303, -0.0009064756416077291, -0.016129017372409016, 0.01424179724774266, 0.01192039933973632, -0.01337722234586236, 0.007184044028313963, -0.013461964586702235, 0.0013238786848539519, -0.01850909855520222, 0.009947146028631781, -0.016825683483218334, 0.025253032690239374, -0.012722646310432628, 0.006907197617992855, -0.0007166959776444548, 0.00922132725358149, -0.0015228581307503708, -0.017488573943961194, 0.0024837576320597687, 0.014762054966765525, -0.020854557356203007, 0.02181816596489461, -0.0020335226369607717, -0.012124324227264394, 0.004744215024918619, -0.006364146261964798, 0.007231373204274805, -0.025230759840745187, -0.0058922301472984495, 0.021486015105522505, -0.0005181126375610745, -0.005701797922283203, 0.00479615334072192, -0.017951679024881706, -0.015109893431932808, 0.005793379689210898, -0.01706665039062505, 0.014433009322101675, -0.024925136364812306, -0.013494276866077515, 0.012566780536287236, 0.009445366079369633, -0.019584408443450774, 0.027410955542923165, -0.004644634874391929, 0.0004340848059138924, 0.021043440293265325, -0.005099285472693671, 0.01388142446537044, 0.008109576589882872, -0.002716278028778718, -0.009637525432314442, 0.0030674943168920166, 0.020984897451703288, 0.002788645361675668, 0.009063805912093326, -0.005409806805073969, -0.006876085607066207, -0.010023701818306363, -0.03517748057650161, 0.005193155418681927, -0.024216983223708577, 0.01930288913865774], \"xaxis\": \"x\", \"y\": [0.0, 0.018791968560170957, -0.013175245879496256, 0.03338000914841732, -0.007751930820906638, -0.03385413513751645, 0.010781660765967649, -0.01066665649414067, -0.01617249114895114, -0.0027397233430075385, 0.008241750144279525, -0.005449585970229709, -0.04109591546526592, 0.007140568324497831, -0.004253058934230669, 0.004271224704620824, -0.007089942108455705, -0.028571401323590928, -0.02794356828735678, 0.0363087491318983, -0.007296947998455816, 0.005882347166332291, -0.04093570227515464, -0.01067315669181701, -0.013865047992786317, -0.04844002353489352, -0.009852233334184168, 0.018244802836800966, -0.05537454122866958, 0.017241362300696395, 0.03220065113325221, 0.004928739669871174, 0.039215727523399746, -0.001574837153741071, 0.011026154620878748, 0.028037356105847788, -0.024242401473340336, 0.021739109509576915, -0.08054953671428755, 0.004961326433652102, -0.032894705884013664, -0.05612519213374412, -0.010810831709504587, -0.029143954951004303, -0.04878067545928366, 0.043392694888054306, -0.007561542148248779, 0.04762228276912284, -0.0436363220214846, -0.030418311271305787, -0.011764694882648863, -0.009923794988024981, 0.020040125162987366, 0.0039292817348308695, 0.0, -0.007827805815248001, -0.013803585920825867, -0.003999996185302668, -0.006027298256949587, 0.018185086431588893, 0.00991745608131045, 0.029472751340347658, 0.04961836645774387, -0.001821084456010147, -0.010928983106626933, -0.0681372437958736, -0.009884570538870374, 0.011976074690640326, -0.005914022132273877, -0.0019872945602910086, 0.007952303998211896, 0.025644233021933527, -0.01346459804918576, -0.011695931980685526, 0.00592032355055383, -0.0019639146461469803, 0.01375562440102418, 0.015503861641813499, -0.03435111377881106, -0.01976282722596967, 0.014109669084628296, 0.045729018553195555, 0.0361186000931919, 0.01834865997430324, -0.010810831709504587, -0.08560754485387445, -0.005979272021636395, -0.0020008112946745538, -0.004016060411629163, -0.036290287692390844, 0.016736384977954266, -0.00823044459961808, -0.0186755937438573, -0.023252494204594076, 0.00432900030777672, -0.015089635625491704, -0.008752757604875039, -0.03310914188481873, 0.004566205571678861, -0.002276355520674289, -0.02505337554135878, 0.009345785021543263, -0.01620749568114721, -0.03294127071640973, -0.004866194445208194, -0.00733107948195455, 0.004926103745908295, -0.017160761910995026, -0.007477335875206603, -0.01759193642011514, -0.007668572681559072, -0.005154695555459776, 0.012949279287175264, -0.01789884450057555, 0.015625047536257597, 0.012816404371593704, -0.03290750999822878, -0.02879996624691905, -0.03503630693561355, 0.0, -0.016759760910114108, 0.0028363683160670394, -0.02266297064412337, -0.0318796136799544, -0.026950865427342263, -0.01846161159573878, -0.025078545860640622, -0.04179568296083369, 0.016773146963611207, -0.02640275452812757, -0.01016412177031989, -0.05137536489472694, -0.04692586731714288, -0.03409701630900419, -0.04313122042656059, 0.14754093715305938, 0.0892800107901437, 0.17377663266773813, -0.15083798138576865, -0.08224209775726543, 0.025095451297769245, -0.038467088523071014, -0.0036305725139580414, 0.3102131122734839, -0.06963374492046615, 0.0299401633595604, -0.04942326962521015, -0.04281369713415817, -0.03194901563851127, 0.003305616305839809, 0.029599980675546478, -0.04791841990282841, -0.0335570147625901, -0.010422285645976803, 0.03508796733128361, 0.07119225288993158, -0.0569620448949717, 0.006711402952518153, -0.050005356470743556, -0.042105460410204576, -0.025635299710062065, 0.007518789579387564, 0.0074626792643006645, -0.018524505146794823, -0.037736042576598905, -0.027444862318482866, -0.004038695335090603, 0.04048605271266115, -0.04279556713083432, -0.03252029368516418, 0.021001670532787342, -0.012339174332413716, -0.050000049670535396, -0.04385960784535148, -0.03669732095175393, 0.05714291877487354, 0.02702700090373522, -0.09649124182932711, -0.029126186624347072, -0.04500800371170033, -0.005227277535969521, 0.026307357315105584, -0.0358895051618352, -0.042553214424603136, -0.011111100809073515, 0.01123594452133525, -0.08680886922435938, -0.011408089682555245, 0.07691853989397002, 0.03642544617038368, 0.07237246882988413, 0.026982169097085507, -0.03566111502678759, -0.09603785555960975, -0.02729079438970483, -0.007368373636861381, -0.03867597227037878, -0.013918926793072828, -0.019596819814918898, -0.039997509759165384, 0.0, -0.013333320617675781, 0.04728645830816247, 0.04032045941735429, -0.048065115026744154, -0.04234069506858784, 0.0033958796930042556, -0.03983247386748312, 0.037960133156590414, 0.002546889495844473, -0.039866205336999694, -0.022954453949428744, -0.05064465035016574, 0.005729671894697974, -0.024630354133757915, 0.029129559439093455, -0.018861993310203773, 0.05671391328349151, -0.044585290826721136, -0.0009508732156936484, -0.015252816719004136, 0.03776861470364712, -0.04666269598918571, 0.03426770579006844, -0.05393690329854517, -0.1169934918525608, -0.09399283455140783, 0.009984016418457031, 0.07303089103862437, -0.07612133795851406, 0.04742878294841191, -0.052451708935615904, 0.02012627287601987, 0.04810750341583914, -0.0552961551519594, -0.024930656299305465, 0.12391696640423966, 0.04317088467054164, 0.1546891503452119, -0.009443052611292968, -0.03808361217379308, 0.07723115174762785, 0.08454112356682608, 0.3728983160503987, 0.10802606060777298, -0.016714901289392348, 0.016999038540613354, 0.010026093025311988, -0.0865998008058454, -0.13285511801120042, 0.004189449006631429, 0.0, -0.056863322423592155, -0.006625932619825914, 0.05032879801306556, 0.014811706803142588, -0.013902187715694403, -0.021129275792772684, -0.00718286114031641, -0.0072534177288321455, -0.0693450470970961, 0.004718546619125297, 0.013269638828722785, -0.01001911541273015, 0.10116543435347669, 0.02825971661966875, -0.03779358987879877, 0.035712295630837554, 0.003442802323360361, -0.05016272049822057, -0.02748967995793339, -0.05803803784057748, 0.20300078215048645, 0.1391951865030927, 0.09682324909210727, -0.10930247592606057, 0.051925627881037384, 0.00953370112695806, 0.014449857938605648, 0.03997030547506131, 0.0005257059038057399, -0.014726888497577306, 0.014947011468851024, 0.03685095154070672, 0.05583922167657773, 0.06297854507807776, 0.13794619954152765, 0.005565666364921729, -0.0007892512855771638, -0.011473441114120742, 0.06842044364144151, 0.016855888670482377, -0.0051577429688105525, 0.03666106203626751, -0.013220582689557614, 0.033661017873482635, 0.0017479432798983563, -0.03879845898980727, 0.08582118926163695, 0.028129262972531377, 0.029319331262529724, 0.0, -0.056328336663360234, 0.013409561002667436, 0.005963759097684873, -0.037835774143567424, 0.014362339475908925, -0.026290332347919554, -0.020079615200898404, -0.028611416148002777, -0.009085780961218592, 0.04220019506109329, 0.010213024939636384, 0.013589680636887369, -0.018566272999018585, 0.002098959382091925, -0.003490938299124724, 0.0070153031774258245, 0.0020872578381823104, 0.01008520652890632, -0.007226227965992704, -0.007287622470045885, 0.012929706653591166, 0.191726850227679, -0.0627926077439458, -0.011112596376201878, 0.08960407123954606, -0.01175102748256951, -0.07074362794148503, -0.11076319846926119, 0.19297926254590125, 0.0308858142311641, -0.001431518860775527, 0.008572325419428317, -0.02266297125639516, -0.025214270881915968, 0.013382426504867873, 0.003808428779113582, 0.018124326207318298, -0.009760768086581773, 0.014785580273829702, -0.03571589723803503, 0.02400733240898334, -0.01620749568114721, -0.01176098092846034, 0.025889534082391252, 0.008414605723680246, -0.02675637440245693, 0.0236477061787026, 0.010393789745051008, 0.06602337977570061, 0.020102551011902836, 0.0, -0.009459598326737373, -0.02388167410074915, -0.046204175249100254, -0.007412313944755944, -0.0011466054880883148, -0.025585309584691185, 0.053103299194756204, 0.030813272850912954, 0.023909548550264725, -0.0034513612279643002, 0.010655906494676959, -0.025033392465405258, -0.0002698129794993509, 0.027302501244238497, 0.006581981436816653, 0.006532160553641031, 0.012986274364870098, 0.006413124344284427, -0.002550263963011168, -0.003831766312240692, 0.015386314325158024, 0.05555729486616201, -0.0038277535541079155, 0.0038424615499623727, 0.004783163323508255, 0.015475911293119093, -0.0021068111671096457, -0.0007097882206708039, 0.011051464131535571, 0.00348868919500811, -0.0034765605557613988, 0.0006964958390338616, 0.04996882533526392, 0.0028784222689626215, -0.005960733917889316, -0.0217578114280661, 0.04403024093684871, 0.0, -0.046736807537199554, 0.012540223975446851, 0.12612645586107596, 0.06000145264048684, 0.0009418714999660516, 0.06503533800000438, 0.030085622107917542, 0.013745802672001428, 0.01644042852507921, -0.008669958585232562, 0.045249028469003916, 0.017059838720440146, -0.022152948715681298, -0.008090067937484902, 0.008156050943721294, 0.017799902496728137, 0.0, -0.018123520932237125, 0.005181404116228805, 0.013208204548387448, -0.029413575198608433, -0.009007143467263723, 0.04561875808022675, 0.03935922153523541, 0.0035002511617314713, 0.0018197022751080816, -0.0030286748797161422, -0.0001514306900690654, -0.002882945221840738, -0.05631621956406885, -0.006936733851829802, 0.007958165449743149, 0.007090961372332005, 0.02720160781662173, 0.018689658499879025, 0.06590252732007751, 0.010330408013303094, -0.011642335746655741, 0.021834036247577737, 0.04456710470258285, 0.009420004051901687, 0.0018670701778926713, 0.01810132048511015, 0.0171235595398187, 0.015292240130165613, 0.024682985820011494, 0.022238407833484075, 0.027190162971333143, 0.06470476196631014, -0.0014370264023885193, -0.02069076025570049, 0.028021180930679623, -0.01077131819024213, 0.011110448954063434, 0.010878617168504467, 0.00011130203307851971, 0.011085924894913335, 0.05590058647647056, -0.15495824019241478, -0.1626498731357463, 0.3092079458665693, -0.043960960633119384, 0.06288040708897547, -0.003892931430672708, -0.0010840220648110632, 0.008804155432659888, 0.012820689876273939, 0.009681715018832637, 0.032451189654821855, -0.0322488846893475, -0.001052895381846719, -0.027764623183699655, -0.005320124489405331, 0.0016375616313388797, 0.016783942995639123, 0.028401474428066953, 0.005941794648441245, 0.01937244631102475, -0.010061535452886905, 0.0, 0.008316056193811594, 0.029937571052333523, 0.028176426073246663, -0.03365413959209729, -0.014926971868857719, -0.0121199716124325, 0.042433737922945136, 0.003922236563877801, 0.02970206324231106, 0.007685583576540589, -0.025330067103592757, 0.017295054532498133, -0.021749070796674874, 0.03048349692879393, 0.008006811910176603, -0.020558973221419086, -0.010020204790997522, 0.025735759397677915, -0.0062977294335706535, 0.00047443036071492806, 0.0018897546037619506, -0.010377644695063082, 0.011726229854440495, 0.0003762581806860954, -0.04200843711453717, -0.003048012535902367, -0.05325267127119793, 0.034373362859090095, -0.006445119865046256, -0.045509804978415835, 0.023786864020676646, 0.011306334527559692, 0.06666775173721495, 0.019229522118201725, -0.019716826758190975, 0.020113399165046397, 0.00518763475164663, 0.00797912598661421, 0.1163871256657254, 0.042535786280059495, 0.04352004078126992, -0.022385357826016805, -0.02533094264606106, -0.06187142868367357, 0.09768415432340705, -0.007734619370650897, 0.0, 0.0, 0.094409693935265, 0.00726799700115377, -0.021429007393973132, 0.0, 0.009343060945635306, 0.09921947087686434, -0.01644797074167348, 0.030100148750319855, 0.012987815946358783, 0.04839716202173472, 0.07612379074881459, 0.08806688135320484, 0.011332234114884487, 0.05891422786166478, 0.014774804670497632, 0.033107444009448095, -0.07906948553774185, -0.01510143247750484, 5.117306024748913e-05, -0.05086662698218958, -0.04916147041485408, 0.053919965570623285, -0.07811806042101577, -0.005497275142966607, 0.017289040852892734, 0.015549417149332445, 0.11531585973585767, -0.06149495926106119, 0.06313142711489084, -0.058870540753838685, -0.008914118227751344, 0.03641228295361465, -0.03650775453525257, -0.0032952620489984374, -0.026721389840146714, 0.020945184704791897, 0.0036040703879227642, -0.021547862200780088, 0.0332583431691329, 0.004371844517466528, 0.016540596188412415, 0.00626335390354793, -0.0023938442798371318, -0.013596475027731092, 0.012485900049455045, -0.041855847120985445, -0.04156597998220335, 0.10313225249417934, 0.03762906660319221, 0.04626960359360277, 0.03980553772893369, -0.019607560985878125, -0.0023808084430854137, 0.007827871461361546, 0.05134065188190062, 0.0036488992227281525, 0.027784379413726246, 0.004454157021079874, -0.013043816896556981, 0.14097150442179252, 0.015439166284313854, 0.03125545010514652, 0.03237525951325426, -0.058925737653459764, 0.005693161558298021, 0.028295221620740385, 0.03486304678979901, -0.00517447274541416, -0.1623309807522022, 0.05744757124350852, -0.1071234053642417, 0.09018386829345615, 0.03220510041041513, -0.00380492109647268, 0.025207843069894098, 0.0, 0.01960360986130194, -0.03461138841814615, -0.013465983177749385, -0.024715039067627287, -0.018674806206986916, 4.217270424189401e-05, 0.052700329924720846, 0.03094699261573175, -0.020259160640728302, -0.014643835642981107, 0.029640400785879706, 0.005206685560678492, 0.0, 0.007779578875596771, -0.0077195242279830545, -0.04331158676928881, -0.003538003484693908, -0.024490362546427002, 0.023808072110415246, 0.025787230343429446, -0.01992003050787572, -0.02032496522731142, 0.03103758778871124, 0.030264022866076656, 0.015619993209838867, 0.0, 0.0, -0.002303971131167648, 0.10058424644020958, 0.04318503863612255, 0.020715811123939165, 0.036220166053349656, -0.04126873559499045, 0.046359639598272384, 0.04442713619766048, 0.04229691252539003, 0.00319999872251997, 0.009502608844523808, -0.038122953425368644, -0.0002978911745522561, 0.03405953531709072, -0.007678355166257034, 0.01242208453839222, 0.05347752736718947, 0.0006842995252522854, 0.009454776365196427, 0.004133612829856359, 0.0015006817363987235, 0.055208822752911724, 0.01780925472448658, -0.014048004150390647, 0.028119866254690207, -0.021952566013608732, 0.04387703597894954, 0.07655205328196169, 0.019295037755612032, 0.07867793202158002, -0.07959001012624412, 0.015518956139841666, 0.03275460241370376, -0.010635064369056701, -0.010432060237664742, 0.030255252746896666, 0.003503864145915747, 0.03178799588867576, 0.0040681217492202215, 0.03830706688665564, 0.10291196780190015, -0.006796608508472746, 0.10219313022308452, 0.05501736995405815, 0.04158438705816514, 0.0, -0.07598557157850017, -0.007853964955440662, -0.11852244562216419, 0.04752730538254957, 0.13416064767187397, 0.014513155309165304, -0.023321952073984575, -0.02953850805523972, -0.04248275547103608, 0.00834118418259111, -0.014186299124487878, -0.043303392120905504, 0.03050248805383493, -0.07676704996108474, 0.03571939542565228, 0.04890237124561381, 0.049455306310588254, 0.014253782393947034, 0.006457499709273895, -0.013838446216955624, 0.016579530354333905, -0.023961900046685858, 0.023525953695437085, -0.0329082843632994, 0.0, -0.05584627622133731, -0.04676315126394781, -0.07936725936170208, 0.10846398223188158, -0.010321258781031406, 0.03514553497264994, -0.04485751918987013, -0.005780258874628852, 0.00028832012938040386, -0.04562404091901495, -0.025578567255935325, -0.011720001697540172, 0.007907681434921487, 0.0508234918755428, 0.0, -0.08150703762098954, -0.07362139863862305, -0.09526456866347988, 0.06884011792514766, -0.06168355909047152, -0.051427679183082664, 0.04239035327976959, 0.07391808534714528, 0.0, 0.03787330481432605, 0.040348052978515625, 0.0, 0.021925176793686108, -0.004456712186623579, -0.026849736963857507, 0.04666730992083101, -0.03026595271830268, -0.013763363105301352, -0.009697470794516105, -0.023714111122129955, 0.024464685417503018, -0.008757235958653853, -0.0034662080580329935, 0.014085547963481382, 0.10546645158023504, 0.08532693090681831, -0.002858732859626234, -0.0005734076018119039, -0.01319561320765028, 0.005813864516596823, 0.003033566470882487, -0.008930172108391976, -0.02718530224690352, 0.04034914627620112, 0.037198416613937635, 0.009004829419297922, 0.0, 0.03609326018931869, 0.02397991230583507, 0.03777479950181051, 0.0, -0.011468415825322098, -0.01261031451609107, 0.024010131970711335, -0.01970764386156587, 0.0001261859170884616, -0.024041692778194124, 0.010168912723785173, 0.0018043726873753219, -0.0010304202947398755, 0.01727906429545545, -0.0025389683339196445, 0.0010165437995528492, -0.016373694281844986, -0.009547632271278639, 0.0032563316953262422, -0.029090881347656472, 0.08333439637316009, 0.0, 0.022347443349989504, 0.021739074348078313, 0.000711084834088993, -0.0011830676417661223, 0.015375630399492968, -0.023293690353259233, -0.03851745118302241, 0.012525327993614166, -0.032337082427553177, -0.03797468354430378, -0.027764169793379923, 0.07199898811552008, -0.007574885599906045, 0.046434926028958046, 0.008873304072229748, -0.041570276592169275, 0.02363179546127725, 0.06841384084743996, 0.08426153599502673, -0.0298965170341684, -0.00492065902177663, 0.012413425567669778, 0.007158110939380569, -0.026281720252673724, -0.013493816181726181, 0.009530395271734271, -0.019883185543433157, 0.027876687746356765, 0.02073129770851101, -0.011126386904560248, -0.020210169428246716, 0.014494600173494687, 0.018679524516011403, -0.0215750110305436, -0.00771596461670554, 0.03333333333333344, 0.025699820569766496, -0.006185970708237232, 0.05485228671778786, -0.03300163269042966, 0.0031040721390056536, 0.009382267588192716, 0.00010129920121682012, -0.009395406312794341, -0.005156290899846927, 0.02269515410888645, -0.005979134141472109, -0.014982257934311183, -0.017902493845879608, 0.020757786511414356, 0.027252990973032576, -0.012663588894719968, -0.021170518536764105, 0.0086313694429212, -0.01340374504168007, -0.013793123791163375, 0.026809146946854545, 0.03054376888157484, 0.012416109766633321, 0.0032630331932359535, 0.030164010919420114, 0.007658609697318575, 0.013389530414755102, -0.03945497094955319, -0.0517058645721552, 0.005142384757285567, -0.008699242283502717, 0.14600073276907533, 0.014776089568022233, -0.027789387406732535, -0.007764761376229279, -0.004600461682293666, -0.015533972226766335, 0.0539104075986907, -0.025486519569264177, -0.03895893135252504, 0.04224955580468204, 0.04081147336926372, -0.018596515320895013, 0.009922100115688837, -0.008762554831802438, -0.06249999999999989, -0.004857889811197946, 0.03761048264554212, 0.06502720992934607, 0.07681441310391723, -0.026701073638905504, -0.055279520412913175, -0.0693599411856205, -0.008553382922963038, 0.006922366206147057, 0.03558494461730222, 0.021908361261541165, 0.06218385177530328, 0.0035162307059866116, -0.017025568757415788, 0.04992635208013363, -0.015932680272135902, -0.0006574236553770207, 0.009867653973690382, -0.00048729752520704217, 0.008063223929644758, -0.017859366903700047, 0.01662271166670992, 0.035936864346179265, -0.020001590375154477, -0.007176541210657583, -0.0014441516087169148, -0.03498254535575418, 0.014165306091308727, -0.029991146254435663, -0.029985964618844396, 0.07737170836424534, 0.01840060030888635, 0.01671313488568016, 0.03335030349189472, -0.03825696309407556, 0.015910537758687893, 0.01550749138712626, -0.008778847626975672, 0.030348403494448783, -0.005681777347838479, -0.01090165905486351, -0.013303498581298978, 0.0015408085018491224, 0.017383399376502462, 0.015121747999862878, 0.019291491743298694, 0.0008044737437167271, 0.00759340855104873, 0.05724522687386768, -0.04023147785977621, 0.049703656234039606, -0.05415335930893583, 0.014169056052944162, 0.005957420836103955, -0.02234857555585823, -0.01709034074166016, -0.01944413067374673, 0.03531615511159458, -0.04285553126189967, 0.013591082894718332, -0.01095122700596407, -0.005798849332316891, -0.0043951092344343134, -0.015827151689748353, 0.021418250354866553, -0.034138791951827785, 0.020767439370080076, -0.02909855707417197, -0.066897435130155, 0.032458289194915224, 0.027660811476986513, -0.02667600800330794, -0.022651558573807296, 0.0025202659670762184, -0.03324895206050227, 0.0049373908228287355, 0.024913130135371553, 0.04659901662951116, -0.04355987341945222, -0.004369355519900586, 0.04650250719365023, -0.02104771521783655, 0.014414322913540722, -0.008037702170080596, 0.01653575741601343, -0.013529849095556434, 0.0011442541977113585, 0.06336057715339094, 0.06855713398738628, 0.001150488141627548, 0.01792003353210947, 0.046055216184804015, 0.011176504850120228, -0.043609051123750686, 0.04907713749839182, -0.004643962064606377, 0.061333312988281374, 0.016018086649412178, -0.00537910974181921, 0.05047236990763526, -0.011241664547892105, 0.011727614711102508, -0.0062690520678448935, 0.001310439336867475, -0.008442215303475775, -0.0020988152940999427, 0.016942993430238085, -0.0027770856673281497, 0.0066937992277857905, 0.017831411893492577, -0.08360406302296042, -0.047949611482938304, -0.022067124181393893, -0.007927915855232004, 0.048769447400429655, -0.0008461213030267478, 0.013625097512172557, 0.006428899313482894, -0.002234902900381752, -0.005828238604138614, 0.030662163993839364, 0.014688014984130637, -0.02574781891534339, 0.06701647645184794, 0.007584373407905076, 0.006998407809057472, -0.03860035099490877, -0.015186579687070378, 0.016468828403329194, 0.0006679423680733265, 0.0025459061154209373, -0.005926592759690874, -0.023244040139090094, 0.02404631571783411, 0.02195950273393854, -0.002975282214936925, 0.018506571294008012, -0.0031062278217623973, 0.034278560734517294, 0.006310846536520698, 0.005255280753745595, 0.02708685668361621, -0.032829941892866144, -0.015614361804753285, 0.04063266447220748, 0.027171789346054798, -0.010699935007218886, -0.03043481577997631, 0.015526502652925434, -0.008057843443762702, -0.003338744790906123, 0.009713789846754528, -0.01797019620019269, 0.007882848245333696, -0.01134120152649265, -0.011131410761309413, -0.002971452985490841, -0.0016047614978976776, -0.0413317857312101, -0.029641157138847074, 0.046591069164670706, -0.012500060729258355, -0.0005961204883141447, 0.0640458306569549, -0.010949306595320785, 0.01657676271628672, -0.0015082394610489436, -0.009675164452279006, -0.008866156259681013, -0.03305016059535493, -0.017088061097074725, 0.01918463363126688, -0.027471026252297692, -0.0032052423880916114, -0.021236937787010746, 0.05821302819316321, -0.03936964162078094, 0.02787045108135322, 0.0066471853012111115, -0.042203832627265014, -0.008613477138556425, 0.1042809811836869, -0.023608772876624773, 0.027633893797854414, -0.014004759378521414, -0.014430913058194328, 0.010146390467532074, 0.011014324543586529, 0.020717316921321283, 0.009676774206070604, -0.020375762375655304, -0.008777839091662742, -0.00440067335604355, 0.003910662436044987, 0.018227695753366913, 0.0015519289377237122, 0.005147966893381373, 0.0034126644952254814, -0.049107115571916826, -0.0010968180302550756, 0.020102791182184943, -0.04864414235643322, 0.01660764785039981, 0.012060593059939118, -0.009025156666395029, -0.03000662054850045, 0.017574460831907057, -0.0004145240640108794, 0.005858472113073221, -0.01911831367976402, -0.002579368002677107, 0.014369367125237398, -0.01600383432829111, -0.007047722138554202, -0.008068463912883739, -0.004894846976420175, -0.01769936818048934, 0.06870123985413756, -0.021077318730636785, 0.02272729139423446, 0.008538943285133493, 0.014727115575708938, 0.022571847098214137, -0.0024587147389522057, 0.07142316796105463, -0.0027171612852784355, 0.028886238118029928, 0.020178308252539523, -0.0402568958956272, 0.007026107407215765, -0.03927806349323015, 0.003227577276516458, -0.03474367749717033, -0.009833527451429402, -0.029452600017445874, -0.034682080924855585, 0.010899161150355496, 0.024759128827189558, 0.03705160328418522, 0.004681994749191842, 0.0011095535805514256, -0.019950167284431553, 0.00650317220757568, 0.06179775280898858, 0.0014289977058532521, 0.019125275999588576, 0.016123584137434754, -0.006427764892578125, -0.0011305003075029463, -0.01711867912795828, -0.006172707968254643, 0.04441874677273372, 0.020407802353660687, 0.02316165361693856, -0.019644201319904298, 0.03195120793240713, 0.009350661527454784, -0.019236020247743957, 0.0028915935532214387, 0.009129456318248463, 0.012618655250186128, -0.012556197966092197, -0.01652423884215659, 0.009393413327845934, 0.0009594484258590441, 0.011838382411220039, -0.004357702681996867, 0.010752437613366084, 0.039488604718155296, 0.0011330959359163728, 0.022523019291898816, 0.01468503201760707, 0.017873403663891896, -0.011692668453980426, 0.0055467111071820785, -0.0060332238619260625, 0.01452453325057701, 0.04440203283587074, 0.010679338386004211, -0.036235114340839925, 0.03906808864138056, -0.021629596180461452, 0.015743476300200232, -0.005410381852234081, 0.030759180316910495, 0.04682534838479646, 0.002843410111614819, -0.003137697509118076, 0.04845990494559049, 0.02549814041338605, -0.026626969610183515, 0.0608695209890171, -0.007923418385799352, 0.022858661111700096, 0.017232078625903924, -0.03599789979603796, 0.03926415093549118, -0.02377801182203454, -0.017320686777640093, 0.034425776720556245, 0.0071885103272564255, -0.034364340175385144, 0.00027380609265548195, -0.05774495231210952, -0.01887892884454001, -0.0023682066088901443, 0.01513348100852463, 0.02046187610853134, 0.06731591189895969, -0.026033211210459983, 0.008817847526901179, -0.0199398942929796, 0.03678928805822235, -0.013440859939393479, -0.01907358987431762, -0.04999997880723761, -0.04970762353846614, 0.06461533766526428, 0.011560738251999991, -0.02571432931082618, 0.022580659595866193, -0.0005735720784721954, 0.006025908417926384, 0.0213918987627697, 0.020943869624070688, -0.015590800695117979, 0.021672651928870357, -0.0013597834223033622, -0.004085008738897278, 0.006289295711120024, 0.006521784876155623, 0.011069110077700728, -0.025367176063707086, 0.021917787316727333, 0.03967827272140623, -0.009798794878272177, -0.010416705989173769, 0.04342109278628703, -0.017906755910375383, 0.04006166996166782, 0.04123452269000771, -0.008773985011866436, 0.022966485693652894, 0.00958839718208404, -0.003937877603793938, 0.0023255459097928366, 0.014385215047148847, -0.005260739611493981, -0.005518548383630528, -0.028901734104046284, 0.015952337355840562, -0.03562213987092788, 0.06974480742315037, 0.014084482631472106, 0.05712363960407796, -0.04704381162557114, -0.020680459860597633, 0.02633968717750701, -0.022123893431876485, -0.008823515450602448, 0.027619243244542346, -0.035983983016717236, -0.020737361618345718, 0.04117647058823537, 0.016497164796301256, -0.010226747202180642, 0.010781660765967427, 0.010888926188151071, -0.02615964821934824, -0.028442400524447686, 0.05947949591400192, 0.0, -0.012499993725826553, -0.00244282952106456, -0.00734634972860615, -0.011661817806329022, 0.018606755173645073, 0.01136115266573312, 0.009911826720659489, 0.01635768865779408, 0.021030115644270486, 0.005254308330791657, 0.0259251059230452, 0.004687172277699769, -0.02880320874077924, 0.013575557574799335, 0.0018545261663243107, -0.0006170049353335649, 0.003087086343030565, 0.00718092864317077, -0.0073334815488401706, -0.02113685181556635, 0.03417192960260196, -0.008919570749524208, 0.0008181819600474594, -0.002861217837221819, 0.030744004342140308, 0.03559357492424842, -0.005376393704870863, 0.04691120349355593, -0.004241186505214545, -0.006296299121998028, -0.0037271853057803117, 0.01664794996053298, 0.030358814575948134, -0.00160714558192665, -0.003934917211653621, 0.01598138312610531, -0.007599863755037406, -0.04185222128151278, 0.05929372651754239, 0.005264067875504264, -0.013789507818165014, -0.012389394034326706, 0.013082429251208616, 0.019989405492948142, -0.006243506959837886, -0.02565440533296004, -0.02865846742509648, -0.03411393121403672, 0.03608246183864483, 0.030772031598654603, 0.019842699992873802, -0.012620463026021156, 0.04473631388517263, -0.010705136274472782, -0.0061834524699999616, -0.02281368269788886, -0.0015917960935718511, -0.10983172150831721, 0.005373143438083039, 0.04018208156973424, 0.005708834280039099, -0.007568547260743963, -0.08884651629413931, -0.05147518387415184, -0.10964043723682959, 0.16427157997650688, -0.08320918722596826, -0.21077069278370542, 0.2352941176470591, -0.18880953107561382, 0.0440270036230106, -0.190047801149278, 0.060395689113951434, 0.0032733349907390075, -0.014355645661789818, 0.21416754110491087, 0.09051253182121033, 0.02799997329711945, -0.051556395597104565, 0.0666666275415666, -0.06274030988914459, -0.038727932065322435, -0.04242262998952595, -0.00975197771170877, 0.07484523857313574, 0.04947642282463138, 0.04664502182008734, -0.007387930537597787, 0.006242456470779478, 0.02362208737941396, 0.02214445022033651, 0.03922465862155544, -0.02150536644281853, 0.08723927733430759, 0.042698013910268395, -0.0213649462444625, -0.04224782900779944, 0.04474459442997869, 0.046464631051728045, -0.02277992900686243, -0.018174598742747516, 0.03501001684223337, -0.024105713391790018, 0.09860559138863234, 0.02973706879915272, -0.022010917060193758, -0.01062297700508208, -0.0027297820527072414, 0.005474438708708451, 0.007259556024611813, -0.006666647421347371, 0.011246125881962943, 0.05076236468259521, -0.028678734255094818, 0.024428811113761384, -0.010979574191050556, 0.04770164661254217, 0.06754969748314643, 0.04466496748574178, -0.03132423680571206, -0.013793126833393177, -0.010100974772253357, -0.02982733913850033, 0.009385143013187491, -0.03029816218798509, -0.01719293910844033, 0.04928511804161828, 0.0, 0.0355882873997031, -0.010061884311685088, 0.02971067534814975, 0.002277927552843506, 0.01803034002130688, 0.03735666640323165, 0.024390310646628777, -0.007002800970792311, -0.009167863355287076, -0.006405650508785721, -0.00157593990748095, -0.004878805501133843, 0.01528486245582017, 0.017611103526143257, 0.00907189828382804, -0.030428831048067706, 0.09415119283572615, 0.035202147132531225, 0.009823662018981771, 0.003991016383216195, 0.0, 0.012422360248447006, -0.01619631527391674, 0.022698923520791503, 0.060975609756097615, -0.031034447680944655, 0.004151820420530861, -0.050206732703964585, -0.009079643570636398, -0.00401656460623534, 0.013232552891607963, -0.0023632144005009126, 0.03839922536105522, -0.03097612921953674, 0.023045479264655278, -0.0008477618394444608, 0.0060606060606061, 0.035060285085655174, -0.0030264477377170973, -0.04343258790928506, -0.011473238592760726, -0.011482903194294458, 0.004871339015005471, 0.016283470946941936, -0.0013454086041763125, 0.09614204932541304, 0.002234602773655725, -0.026198423122322567, 0.0, -0.003090974788584666, 0.010564976453838693, 0.02443183552135131, 0.02029952079955688, 0.028266996947495793, -0.014379367562086576, 0.02263463401331678, -0.019091573060594946, -0.05357717914423332, 0.003050809526174092, -0.012166207530712292, 0.0400273053838871, -0.0323464588481992, -0.00770538589434322, 0.031175098394969458, -0.007973435175748889, -0.00457695527716806, -0.023214082509033007, 0.0006889229510849137, 0.017668577574903033, 0.008906436783626237, -0.033634982441479666, 0.03260869085752782, -0.020492740968822032, 0.00011434933223841703, 0.019661562932167698, 0.030269110650344544, -0.04189334505110909, 0.023736470930751263, -0.009318796800292461, -0.004031361680278067, 0.03294355998141674, 0.0683574462996357, 0.05960263253361875, -0.012307680570162294, -0.006619940586982009, 0.014112136696258215, -0.006957877825145009, 0.013623992767369808, 0.0069123806259090426, -0.004576618422092782, -0.012643675052983805, -0.011641487740788992, -0.0007851806420958729, -0.032220101280583946, 0.029638711914687477, -0.028785545426484815, 0.027608620720497745], \"yaxis\": \"y\"}],\n",
              "                        {\"legend\": {\"tracegroupgap\": 0}, \"template\": {\"data\": {\"bar\": [{\"error_x\": {\"color\": \"#2a3f5f\"}, \"error_y\": {\"color\": \"#2a3f5f\"}, \"marker\": {\"line\": {\"color\": \"#E5ECF6\", \"width\": 0.5}}, \"type\": \"bar\"}], \"barpolar\": [{\"marker\": {\"line\": {\"color\": \"#E5ECF6\", \"width\": 0.5}}, \"type\": \"barpolar\"}], \"carpet\": [{\"aaxis\": {\"endlinecolor\": \"#2a3f5f\", \"gridcolor\": \"white\", \"linecolor\": \"white\", \"minorgridcolor\": \"white\", \"startlinecolor\": \"#2a3f5f\"}, \"baxis\": {\"endlinecolor\": \"#2a3f5f\", \"gridcolor\": \"white\", \"linecolor\": \"white\", \"minorgridcolor\": \"white\", \"startlinecolor\": \"#2a3f5f\"}, \"type\": \"carpet\"}], \"choropleth\": [{\"colorbar\": {\"outlinewidth\": 0, \"ticks\": \"\"}, \"type\": \"choropleth\"}], \"contour\": [{\"colorbar\": {\"outlinewidth\": 0, \"ticks\": \"\"}, \"colorscale\": [[0.0, \"#0d0887\"], [0.1111111111111111, \"#46039f\"], [0.2222222222222222, \"#7201a8\"], [0.3333333333333333, \"#9c179e\"], [0.4444444444444444, \"#bd3786\"], [0.5555555555555556, \"#d8576b\"], [0.6666666666666666, \"#ed7953\"], [0.7777777777777778, \"#fb9f3a\"], [0.8888888888888888, \"#fdca26\"], [1.0, \"#f0f921\"]], \"type\": \"contour\"}], \"contourcarpet\": [{\"colorbar\": {\"outlinewidth\": 0, \"ticks\": \"\"}, \"type\": \"contourcarpet\"}], \"heatmap\": [{\"colorbar\": {\"outlinewidth\": 0, \"ticks\": \"\"}, \"colorscale\": [[0.0, \"#0d0887\"], [0.1111111111111111, \"#46039f\"], [0.2222222222222222, \"#7201a8\"], [0.3333333333333333, \"#9c179e\"], [0.4444444444444444, \"#bd3786\"], [0.5555555555555556, \"#d8576b\"], [0.6666666666666666, \"#ed7953\"], [0.7777777777777778, \"#fb9f3a\"], [0.8888888888888888, \"#fdca26\"], [1.0, \"#f0f921\"]], \"type\": \"heatmap\"}], \"heatmapgl\": [{\"colorbar\": {\"outlinewidth\": 0, \"ticks\": \"\"}, \"colorscale\": [[0.0, \"#0d0887\"], [0.1111111111111111, \"#46039f\"], [0.2222222222222222, \"#7201a8\"], [0.3333333333333333, \"#9c179e\"], [0.4444444444444444, \"#bd3786\"], [0.5555555555555556, \"#d8576b\"], [0.6666666666666666, \"#ed7953\"], [0.7777777777777778, \"#fb9f3a\"], [0.8888888888888888, \"#fdca26\"], [1.0, \"#f0f921\"]], \"type\": \"heatmapgl\"}], \"histogram\": [{\"marker\": {\"colorbar\": {\"outlinewidth\": 0, \"ticks\": \"\"}}, \"type\": \"histogram\"}], \"histogram2d\": [{\"colorbar\": {\"outlinewidth\": 0, \"ticks\": \"\"}, \"colorscale\": [[0.0, \"#0d0887\"], [0.1111111111111111, \"#46039f\"], [0.2222222222222222, \"#7201a8\"], [0.3333333333333333, \"#9c179e\"], [0.4444444444444444, \"#bd3786\"], [0.5555555555555556, \"#d8576b\"], [0.6666666666666666, \"#ed7953\"], [0.7777777777777778, \"#fb9f3a\"], [0.8888888888888888, \"#fdca26\"], [1.0, \"#f0f921\"]], \"type\": \"histogram2d\"}], \"histogram2dcontour\": [{\"colorbar\": {\"outlinewidth\": 0, \"ticks\": \"\"}, \"colorscale\": [[0.0, \"#0d0887\"], [0.1111111111111111, \"#46039f\"], [0.2222222222222222, \"#7201a8\"], [0.3333333333333333, \"#9c179e\"], [0.4444444444444444, \"#bd3786\"], [0.5555555555555556, \"#d8576b\"], [0.6666666666666666, \"#ed7953\"], [0.7777777777777778, \"#fb9f3a\"], [0.8888888888888888, \"#fdca26\"], [1.0, \"#f0f921\"]], \"type\": \"histogram2dcontour\"}], \"mesh3d\": [{\"colorbar\": {\"outlinewidth\": 0, \"ticks\": \"\"}, \"type\": \"mesh3d\"}], \"parcoords\": [{\"line\": {\"colorbar\": {\"outlinewidth\": 0, \"ticks\": \"\"}}, \"type\": \"parcoords\"}], \"pie\": [{\"automargin\": true, \"type\": \"pie\"}], \"scatter\": [{\"marker\": {\"colorbar\": {\"outlinewidth\": 0, \"ticks\": \"\"}}, \"type\": \"scatter\"}], \"scatter3d\": [{\"line\": {\"colorbar\": {\"outlinewidth\": 0, \"ticks\": \"\"}}, \"marker\": {\"colorbar\": {\"outlinewidth\": 0, \"ticks\": \"\"}}, \"type\": \"scatter3d\"}], \"scattercarpet\": [{\"marker\": {\"colorbar\": {\"outlinewidth\": 0, \"ticks\": \"\"}}, \"type\": \"scattercarpet\"}], \"scattergeo\": [{\"marker\": {\"colorbar\": {\"outlinewidth\": 0, \"ticks\": \"\"}}, \"type\": \"scattergeo\"}], \"scattergl\": [{\"marker\": {\"colorbar\": {\"outlinewidth\": 0, \"ticks\": \"\"}}, \"type\": \"scattergl\"}], \"scattermapbox\": [{\"marker\": {\"colorbar\": {\"outlinewidth\": 0, \"ticks\": \"\"}}, \"type\": \"scattermapbox\"}], \"scatterpolar\": [{\"marker\": {\"colorbar\": {\"outlinewidth\": 0, \"ticks\": \"\"}}, \"type\": \"scatterpolar\"}], \"scatterpolargl\": [{\"marker\": {\"colorbar\": {\"outlinewidth\": 0, \"ticks\": \"\"}}, \"type\": \"scatterpolargl\"}], \"scatterternary\": [{\"marker\": {\"colorbar\": {\"outlinewidth\": 0, \"ticks\": \"\"}}, \"type\": \"scatterternary\"}], \"surface\": [{\"colorbar\": {\"outlinewidth\": 0, \"ticks\": \"\"}, \"colorscale\": [[0.0, \"#0d0887\"], [0.1111111111111111, \"#46039f\"], [0.2222222222222222, \"#7201a8\"], [0.3333333333333333, \"#9c179e\"], [0.4444444444444444, \"#bd3786\"], [0.5555555555555556, \"#d8576b\"], [0.6666666666666666, \"#ed7953\"], [0.7777777777777778, \"#fb9f3a\"], [0.8888888888888888, \"#fdca26\"], [1.0, \"#f0f921\"]], \"type\": \"surface\"}], \"table\": [{\"cells\": {\"fill\": {\"color\": \"#EBF0F8\"}, \"line\": {\"color\": \"white\"}}, \"header\": {\"fill\": {\"color\": \"#C8D4E3\"}, \"line\": {\"color\": \"white\"}}, \"type\": \"table\"}]}, \"layout\": {\"annotationdefaults\": {\"arrowcolor\": \"#2a3f5f\", \"arrowhead\": 0, \"arrowwidth\": 1}, \"coloraxis\": {\"colorbar\": {\"outlinewidth\": 0, \"ticks\": \"\"}}, \"colorscale\": {\"diverging\": [[0, \"#8e0152\"], [0.1, \"#c51b7d\"], [0.2, \"#de77ae\"], [0.3, \"#f1b6da\"], [0.4, \"#fde0ef\"], [0.5, \"#f7f7f7\"], [0.6, \"#e6f5d0\"], [0.7, \"#b8e186\"], [0.8, \"#7fbc41\"], [0.9, \"#4d9221\"], [1, \"#276419\"]], \"sequential\": [[0.0, \"#0d0887\"], [0.1111111111111111, \"#46039f\"], [0.2222222222222222, \"#7201a8\"], [0.3333333333333333, \"#9c179e\"], [0.4444444444444444, \"#bd3786\"], [0.5555555555555556, \"#d8576b\"], [0.6666666666666666, \"#ed7953\"], [0.7777777777777778, \"#fb9f3a\"], [0.8888888888888888, \"#fdca26\"], [1.0, \"#f0f921\"]], \"sequentialminus\": [[0.0, \"#0d0887\"], [0.1111111111111111, \"#46039f\"], [0.2222222222222222, \"#7201a8\"], [0.3333333333333333, \"#9c179e\"], [0.4444444444444444, \"#bd3786\"], [0.5555555555555556, \"#d8576b\"], [0.6666666666666666, \"#ed7953\"], [0.7777777777777778, \"#fb9f3a\"], [0.8888888888888888, \"#fdca26\"], [1.0, \"#f0f921\"]]}, \"colorway\": [\"#636efa\", \"#EF553B\", \"#00cc96\", \"#ab63fa\", \"#FFA15A\", \"#19d3f3\", \"#FF6692\", \"#B6E880\", \"#FF97FF\", \"#FECB52\"], \"font\": {\"color\": \"#2a3f5f\"}, \"geo\": {\"bgcolor\": \"white\", \"lakecolor\": \"white\", \"landcolor\": \"#E5ECF6\", \"showlakes\": true, \"showland\": true, \"subunitcolor\": \"white\"}, \"hoverlabel\": {\"align\": \"left\"}, \"hovermode\": \"closest\", \"mapbox\": {\"style\": \"light\"}, \"paper_bgcolor\": \"white\", \"plot_bgcolor\": \"#E5ECF6\", \"polar\": {\"angularaxis\": {\"gridcolor\": \"white\", \"linecolor\": \"white\", \"ticks\": \"\"}, \"bgcolor\": \"#E5ECF6\", \"radialaxis\": {\"gridcolor\": \"white\", \"linecolor\": \"white\", \"ticks\": \"\"}}, \"scene\": {\"xaxis\": {\"backgroundcolor\": \"#E5ECF6\", \"gridcolor\": \"white\", \"gridwidth\": 2, \"linecolor\": \"white\", \"showbackground\": true, \"ticks\": \"\", \"zerolinecolor\": \"white\"}, \"yaxis\": {\"backgroundcolor\": \"#E5ECF6\", \"gridcolor\": \"white\", \"gridwidth\": 2, \"linecolor\": \"white\", \"showbackground\": true, \"ticks\": \"\", \"zerolinecolor\": \"white\"}, \"zaxis\": {\"backgroundcolor\": \"#E5ECF6\", \"gridcolor\": \"white\", \"gridwidth\": 2, \"linecolor\": \"white\", \"showbackground\": true, \"ticks\": \"\", \"zerolinecolor\": \"white\"}}, \"shapedefaults\": {\"line\": {\"color\": \"#2a3f5f\"}}, \"ternary\": {\"aaxis\": {\"gridcolor\": \"white\", \"linecolor\": \"white\", \"ticks\": \"\"}, \"baxis\": {\"gridcolor\": \"white\", \"linecolor\": \"white\", \"ticks\": \"\"}, \"bgcolor\": \"#E5ECF6\", \"caxis\": {\"gridcolor\": \"white\", \"linecolor\": \"white\", \"ticks\": \"\"}}, \"title\": {\"x\": 0.05}, \"xaxis\": {\"automargin\": true, \"gridcolor\": \"white\", \"linecolor\": \"white\", \"ticks\": \"\", \"title\": {\"standoff\": 15}, \"zerolinecolor\": \"white\", \"zerolinewidth\": 2}, \"yaxis\": {\"automargin\": true, \"gridcolor\": \"white\", \"linecolor\": \"white\", \"ticks\": \"\", \"title\": {\"standoff\": 15}, \"zerolinecolor\": \"white\", \"zerolinewidth\": 2}}}, \"title\": {\"text\": \"BOVA x MGLU\"}, \"xaxis\": {\"anchor\": \"y\", \"domain\": [0.0, 1.0], \"title\": {\"text\": \"BOVA\"}}, \"yaxis\": {\"anchor\": \"x\", \"domain\": [0.0, 1.0], \"title\": {\"text\": \"MGLU\"}}},\n",
              "                        {\"responsive\": true}\n",
              "                    ).then(function(){\n",
              "                            \n",
              "var gd = document.getElementById('24683f38-c7dd-4bff-be5b-3d7a7149e78f');\n",
              "var x = new MutationObserver(function (mutations, observer) {{\n",
              "        var display = window.getComputedStyle(gd).display;\n",
              "        if (!display || display === 'none') {{\n",
              "            console.log([gd, 'removed!']);\n",
              "            Plotly.purge(gd);\n",
              "            observer.disconnect();\n",
              "        }}\n",
              "}});\n",
              "\n",
              "// Listen for the removal of the full notebook cells\n",
              "var notebookContainer = gd.closest('#notebook-container');\n",
              "if (notebookContainer) {{\n",
              "    x.observe(notebookContainer, {childList: true});\n",
              "}}\n",
              "\n",
              "// Listen for the clearing of the current output cell\n",
              "var outputEl = gd.closest('.output');\n",
              "if (outputEl) {{\n",
              "    x.observe(outputEl, {childList: true});\n",
              "}}\n",
              "\n",
              "                        })\n",
              "                };\n",
              "                \n",
              "            </script>\n",
              "        </div>\n",
              "</body>\n",
              "</html>"
            ]
          },
          "metadata": {}
        }
      ]
    },
    {
      "cell_type": "code",
      "metadata": {
        "colab": {
          "base_uri": "https://localhost:8080/"
        },
        "id": "Xi0S28XaCDJG",
        "outputId": "2b1b7cb7-984e-4deb-d18e-560db9805ba2"
      },
      "source": [
        "beta, alpha = np.polyfit(x = dataset_taxa_retorno['BOVA'], y = dataset_taxa_retorno['MGLU'], deg = 1)\n",
        "print('beta:', beta, 'alpha:', alpha, 'alpha (%):', alpha * 100)"
      ],
      "execution_count": 9,
      "outputs": [
        {
          "output_type": "stream",
          "name": "stdout",
          "text": [
            "beta: 1.118179637527429 alpha: 0.0034252907778759356 alpha (%): 0.34252907778759356\n"
          ]
        }
      ]
    },
    {
      "cell_type": "code",
      "metadata": {
        "colab": {
          "base_uri": "https://localhost:8080/"
        },
        "id": "frFSkws0EJHY",
        "outputId": "bd74f490-03f0-4955-f4af-c9eeee9d05e0"
      },
      "source": [
        "1.118179637527429 * 0.07041056 + 0.0034252907778759356"
      ],
      "execution_count": 10,
      "outputs": [
        {
          "output_type": "execute_result",
          "data": {
            "text/plain": [
              "0.08215694523677923"
            ]
          },
          "metadata": {},
          "execution_count": 10
        }
      ]
    },
    {
      "cell_type": "code",
      "metadata": {
        "colab": {
          "base_uri": "https://localhost:8080/",
          "height": 542
        },
        "id": "eQ3XcEv2Dqfz",
        "outputId": "0cbdc5af-fcef-4728-f2fe-db751611bed7"
      },
      "source": [
        "figura = px.scatter(dataset_taxa_retorno, x = 'BOVA', y = 'MGLU', title = 'BOVA x MGLU')\n",
        "figura.add_scatter(x = dataset_taxa_retorno['BOVA'], y = beta * dataset_taxa_retorno['BOVA'] + alpha)\n",
        "figura.show()"
      ],
      "execution_count": 11,
      "outputs": [
        {
          "output_type": "display_data",
          "data": {
            "text/html": [
              "<html>\n",
              "<head><meta charset=\"utf-8\" /></head>\n",
              "<body>\n",
              "    <div>\n",
              "            <script src=\"https://cdnjs.cloudflare.com/ajax/libs/mathjax/2.7.5/MathJax.js?config=TeX-AMS-MML_SVG\"></script><script type=\"text/javascript\">if (window.MathJax) {MathJax.Hub.Config({SVG: {font: \"STIX-Web\"}});}</script>\n",
              "                <script type=\"text/javascript\">window.PlotlyConfig = {MathJaxConfig: 'local'};</script>\n",
              "        <script src=\"https://cdn.plot.ly/plotly-latest.min.js\"></script>    \n",
              "            <div id=\"f4d2bf42-5d92-4798-973c-642bea5e0db4\" class=\"plotly-graph-div\" style=\"height:525px; width:100%;\"></div>\n",
              "            <script type=\"text/javascript\">\n",
              "                \n",
              "                    window.PLOTLYENV=window.PLOTLYENV || {};\n",
              "                    \n",
              "                if (document.getElementById(\"f4d2bf42-5d92-4798-973c-642bea5e0db4\")) {\n",
              "                    Plotly.newPlot(\n",
              "                        'f4d2bf42-5d92-4798-973c-642bea5e0db4',\n",
              "                        [{\"hoverlabel\": {\"namelength\": 0}, \"hovertemplate\": \"BOVA=%{x}<br>MGLU=%{y}\", \"legendgroup\": \"\", \"marker\": {\"color\": \"#636efa\", \"symbol\": \"circle\"}, \"mode\": \"markers\", \"name\": \"\", \"showlegend\": false, \"type\": \"scattergl\", \"x\": [0.0, -0.01988994202483263, 0.005613172235394481, 0.03370544510750739, 0.007476568727849742, -0.020202011464537706, -0.01472747667199803, -0.0040572802472165215, -0.003430528505702024, 0.011187617531948302, 0.012765924981299914, -0.027100780297953375, 0.004534637837298128, 0.027730028005880092, 0.006483947912349075, -0.017040725540849677, -0.0023255943366989884, 0.0031786719695732213, -0.02133498771182396, 0.0010791978218103182, -0.016601993101138968, 0.014470507313747216, 0.029608794431185137, 0.002728821783811286, 0.002302713194420214, -0.012113655349120789, 0.013107800039856787, -0.01585973185670375, -0.004452906809841339, 0.025133126432390407, 0.026179062820921528, 0.010528456452515211, -0.002203979376635079, 0.000803231247794356, -0.0008025865851701841, 0.012249008427646757, -0.0009918515614339984, -0.0009928363076759927, -0.0059630897151412565, -0.00839828400403031, 0.004839719252436092, -0.015251898621380877, -0.002445464288384991, -0.008171634722052068, -0.016477842422907174, -0.016753910723780963, 0.012140568382570827, -0.0014730575368246956, -0.005057991034938869, 0.003600974093187048, 0.03250310397030454, 0.024121021041346946, -0.010978029018197444, 0.015539868206249308, 0.0021860216816111944, -0.007733479819321154, 0.004996003106035651, -0.023463914967069566, -0.009163118659065828, 0.02383887897759207, -0.006423117157454694, 0.026262610849707935, 0.013779542784496446, 0.011650455808176474, 0.0019194297840148256, 0.00038315052627124757, 0.0009574729201791143, 0.007269964889751179, -0.0007597514599818611, -0.0015206582422836457, 0.013706477011891316, -0.004131478323063376, -0.01093716820117785, -0.004003795641906671, 0.015122455502441401, 0.01904586384084106, 0.017394496868686993, -0.01855220928076029, 0.004447770247199001, -0.009594104251733349, 0.017511151664773017, 0.022153111000219328, 0.010567729151720107, -0.017546931866340265, -0.001984495936242947, 0.003253801629948816, 0.0003603686083544222, -0.006123922006206484, -0.00743022553723427, 0.00547743718373539, 0.009442536056751383, -0.019787704103287118, -0.01027713995304047, -0.010940110314282103, 0.003936990698761189, -0.011577944737965251, 0.0013224956436921342, -0.014339590972324623, 0.007848388863683775, -0.00493831203599604, -0.01985113433180985, 0.0021421735855942092, 0.022541777459186285, -0.011022387459722838, -0.012874749651333284, -0.002335973026666438, 0.0019511897389481447, 0.01947419726806765, -0.005157529148733131, -0.006720473819370243, -0.0019330847671756857, 0.010652706288635239, -0.010348810125893837, 0.01878391231928589, -0.007413027658693783, 0.001531942062186209, -0.0007648358721005222, -0.0001913188261448706, -0.011291868949050543, 0.013937305900692865, -0.016609444995059675, -0.0009706705239717062, -0.004275114844925265, 0.005464456872072088, -0.012228281492965287, -0.004716012313774054, 0.0015794277186065298, -0.010053189949441932, 0.015531636008310423, 0.009803921568627416, 0.0038835099599892065, -0.006576405175444666, 0.0031152617895386925, -0.014751594128061485, -0.012805313882484848, -0.003592103432116023, -0.011415976193477784, -0.02269041568143504, -0.009535714825135488, -0.008999588031846306, 0.01752907830627115, 0.011623108545951055, -0.006360306988417275, 0.019409428469661538, -0.013773553167663266, -0.0020537785364864725, 0.003910241327687469, -0.0049200055304510215, -0.030696366921372786, 0.01764084685469891, 0.005639107179207459, -0.02512986211474122, -0.009160637361653068, -0.008815305573173782, -0.0049891442483546156, 0.0037061693394633277, -0.01933100286599443, 0.00044289351917203845, -0.01926054830976054, -0.031602657681547464, 0.003729600040121017, 0.03715741809319906, 0.03672188524970332, -0.010799136247064522, -0.010043648299898456, -0.025805072335796986, 0.02082866248089199, 0.016189832330138598, -0.01571368890219471, 0.0053215451571360095, 0.007940022257168167, -0.012472640816375336, -0.005539552273058135, 0.02718354226761832, -0.004338328738871078, 0.025925895144863098, 0.0006370520110359212, -0.028225764993756286, -0.012666560809305616, -0.005972140305935292, -0.023364469718441527, 0.002506279605406281, -0.0031818043101917715, -0.025307811101342947, 0.004678380419636197, 0.011175774940858973, 0.013815299790582491, 0.03247786383878282, 0.014738275343947782, 0.001300619059279029, 0.02836114769948339, 0.0018947400544819804, 0.004202579581806809, -0.03892028823433713, -0.0137165483111098, 0.010816814276365827, 0.0013102764226720076, 0.0032715710113615515, -0.009782625281292479, 0.0002195858704281406, 0.01624227044477977, -0.0073434159436387425, -0.003916455804207963, -0.005024018094564653, 0.011196534462629026, -0.040816348503311284, 0.0049796563871311594, 0.05022521318916051, -0.009650455771641586, 0.005846696751394598, -0.019806285651917666, -0.01691193671004032, 0.0037980784186222305, 0.018918283292848947, -0.009829553522087475, -0.002426662384915179, 0.004865046441111742, 0.009903186103420225, 0.004140388841432641, 0.013454837396879693, -0.005139222153016765, 0.007102923752854373, -0.02949350376390525, 0.005285216456138553, -0.023220182647531784, -0.01995961844814631, -0.003890205507427358, -0.0016080794116061226, 0.034744642614821464, -0.019346291371268864, -0.0034013087612613235, -0.02047785006269731, 0.03716613977175087, -0.007390858225691632, -0.009025305248944293, -0.011156600277729356, 0.0016117820477168365, 0.0055172799647540405, 0.0, -0.02652034300179673, -0.014795703171054386, 0.006674583413696533, 0.012313532166714714, -0.005847953216374324, -0.001882396024816213, -0.00683632987618521, -0.024448197671033567, 0.0019465166429402103, -0.016512877613804045, -0.025432068624614, -0.003293667699382996, -0.015760013459074074, -0.008780995399507163, -0.016414826747845224, 0.0137748465632761, -0.020642824825654826, -0.019477042453367344, 0.0027210469148597483, -0.009497923707293854, 0.0027396842224958196, 0.0071038837997303705, -0.01112316442276362, 0.028257853435880387, -0.002134418818956263, 0.04786088309626102, 0.0028068541517274337, -0.04529259068326663, 0.023454185964252527, 0.031770764518946004, -0.006814751767860172, -0.004828427803725055, -0.024514787748041722, 0.013874313317058018, 0.008262321162055386, 0.017669717154601194, 0.01409153334025115, -0.002481351762139372, 0.001243762092329126, 0.04248444930366846, -0.015490889546329267, -0.01040910895378977, -0.00684937834340027, -0.00862065239594012, 0.02981368355129077, 0.031363069074364924, 0.01754385964912286, 0.050574730182516126, 0.0, 0.045295397380012536, -0.001465348422722168, -0.00943397810779667, 0.028571396277695005, -0.0028806459679825425, -0.02744527530921026, -0.029068591460501114, 0.011800719740700627, 0.07019438560591928, -0.007063541463373291, 0.01036581938261616, -0.0028163225151249804, -0.027637662705650712, 0.003734446106361533, 0.02315003942037741, 0.0030303338561392668, 0.0006042050025165668, -0.020933995755611945, 0.009868411765204366, -0.03644130984840377, 0.0006338216382062445, -0.01140204621131935, 0.004912420840142762, 0.0, 0.03294366125812043, 0.04012347374821035, 0.01899108009815431, -0.011842298884317759, 0.01591350755032761, -0.009862663518908188, 0.02031251757871333, -0.005551319031578128, -0.012512059987159985, -0.01851853366604228, 0.023237378730883718, 0.026203386299032294, 0.0, -0.01361826027145363, -0.004218623475858219, -0.021760082061902386, 0.004330732756047562, -0.013524081154804968, -0.0003973863905429864, -0.015702661378712457, 0.041599381143948344, -0.006785619937834775, 0.004294382640424255, -0.023906696287598783, -0.0021903745057302304, -0.01456794119626359, 0.0, -0.0097205251489203, -0.012678992377002207, -0.011598955525116805, 0.0027241670178661526, 0.0016719296469351885, -0.006885078843178238, -0.0018907595687596146, -0.010313573586203328, 0.009783051467340043, 0.019376621577769315, 0.014462746408549387, -0.005091649852734026, 0.0020471298248114778, 0.026557695950942373, -0.011741296568913318, -0.03463554623415421, 0.0033375021275654504, -0.020790021449543894, 0.006369491751101464, 0.01265819524907652, 0.00041667620340990474, 0.013744269910880291, 0.013763314805774085, -0.015805446877691365, 0.031706833955188474, -0.030732406640785692, -0.014823990636752105, 0.01671897758137808, 0.017677220322322773, 0.007877261514187328, 0.016232415507516196, 0.005915977962468677, -0.014899006989623431, 0.002985104992615062, 0.0, 0.022817414213591958, 0.014548981786614679, 0.0049713602298915305, 0.006659027111421301, 0.013230027687737511, 0.006342103128464505, 0.017238188916108843, 0.003097634213496514, -0.0014531883281763136, -0.0007276862768612613, 0.002184579122848751, 0.000908251367002455, 0.0, -0.0009074271950121338, -0.000908251367002455, 0.012363641912287004, -0.011494241848790776, -0.011627895694091395, 0.01636028243905585, 0.009585797983736821, 0.0, 0.000895722632280771, 0.0010739462043691805, -0.014303580058921073, 0.024668974859464177, 0.0003539855279208748, 0.012918127386590816, 0.0, 0.004192834673864443, -0.0024356191851665487, 0.00017436905313217288, -0.02266781641933535, -0.0008920470605019437, -0.0017856870378767375, 0.002862251217257139, -0.0017838438524550027, 0.01590420665134329, 0.0007036221037992618, -0.016874654504695386, 0.005721432023568118, 0.02666666666666684, -0.0012121159276922144, 0.007628270186911035, 0.002925016978094108, -0.03825698245343989, 0.011594678830873395, -0.02715572104371622, 0.0001812966569227914, 0.015585367988316223, -0.011420402912076133, 0.0019855016719254603, 0.007025819062120187, 0.013416815376164015, 0.009002617966395565, 0.0019244333562842275, -0.017635797593110403, 0.006932158122664234, 0.016769583806775623, -0.01979165659458526, 0.0017712059943315595, 0.017503497873623264, -0.0013900611193387036, 0.01252823021946381, 0.011685862196664232, 0.005945342197531289, 0.008949658364944213, -0.012217565560440735, 0.0045747281543466745, 0.010288423021288962, 0.014691105692840267, 0.0176044704888787, -0.008730753664545565, 0.007502839245947968, -0.003723482929121724, 0.009587262655353923, -0.004184808172551069, 0.001939595097038005, 0.0019357788132865483, 0.0028980889294305534, 0.009792913812584292, -0.024642337267990255, -0.02265687733040067, -0.007671766035629912, 0.04537816408301598, 0.0, -0.015916425503593623, -0.03234764861708039, -0.03038999241890894, 0.011143990706034446, 0.015154142805922532, -0.02205257371053071, 0.006591452616829585, 0.018438733712431876, 0.016074463408919604, 0.0013322536564714937, -0.012472974998793074, 0.0037049074107207147, 0.020973154899370572, -0.027280195382717864, 0.013684767563510558, -0.03666667938232415, 0.010034633887724853, -0.009934940398133252, 0.022664383920113496, 0.006767005702104534, 0.004873146088165914, -0.02056855448041628, -0.022537129959057656, 0.009432330402224132, -0.0254369475240509, 0.004971569261613684, -0.0031802174916680803, -0.021623492477838457, 0.009239099900078429, -0.00017947086156022696, 0.005026907997516261, 0.006788157756745461, 0.010645820930152539, -0.002633386825712236, 0.018130588882208976, 0.0069156556850562545, -0.010473911276982495, 0.03678637675850571, 0.0, 0.005020907733230828, -0.003330570615828199, -0.0018378746609636343, 0.008536965303049815, 0.0036514725427905237, 0.02530178184903087, -0.005161285400390514, 0.003566816141611584, 0.006138889241531276, -0.006101433218786534, 0.0032309683895337393, 0.0075684578462427154, 0.019657975838828, 0.001724147518291197, 0.00453758569116669, -0.0029594208885225237, -0.027339536889450344, 0.002088035201091021, 0.0051290222464293045, -0.0009567462840006646, 0.007023122362211698, -0.017118431263950185, 0.0, 0.01386874106805025, -0.0006361873947766661, 0.01846251493882267, 0.010782913089705026, 0.0057205124433561405, 0.012298161181126588, -0.003796507301336516, -0.002743907154918568, 0.014215841198498502, 0.00813867261410639, -0.0061294070332772455, -0.01744891100382906, -0.01255357775038679, 0.0051163074582123436, -0.020515221247727755, 0.01732281061608032, -0.0061919742310700965, -0.005918960614971991, -0.018646170987141053, -0.004151399198407901, 0.002886007828416748, 0.014708265305581225, -0.011343961034434025, 0.02167331649962656, -0.010762789499877745, -0.01907914095565455, 0.009644788581392616, -0.02913551649487589, 0.006395529560119462, 0.0027701154733807964, 0.005524864275751051, 0.006464087011591291, 0.0035324538377519143, 0.01567999267578135, -0.005198456501844473, -0.005859109067960944, 0.004778640611518226, 0.010145836573729472, -0.018204642579875085, -0.0089514284047012, 0.00435484609296255, 0.004335963638651297, -0.0019188158750448325, -0.011855140747788151, -0.01426720271986437, 0.023848697058134194, -0.004819264852378269, -0.012106537381169291, 0.00506531952171918, 0.012680907417958354, 0.01139828341687621, -0.0031746152847532683, -0.005414015234370351, 0.01168747282959548, 0.021680629239730687, -0.009293657013796253, -0.02032519161458446, 0.015959144628713062, -0.0037700546503621757, 0.011825922763385677, 0.01605109566288454, 0.00230063700766725, 0.009028370023892007, 0.005004461471674659, 0.002716165901520684, -0.016854705321655006, -0.0866371269473758, 0.015753351269507165, -0.01781887180628461, 0.02032593522563153, 0.007079296651237188, 0.0019617909134246325, 0.010768475078369644, -0.0033898156882393726, 0.0025915102536822054, -0.021647820994441402, -0.004953815141261253, 0.0014935306188970099, 0.001657038796135879, 0.008271298489487267, 0.0039376187164128496, -0.007844411717747746, -0.008071122898350547, -0.009465288662735438, 0.0028499273193072217, 0.0011701721026635692, 0.0, -0.004675217601442738, 0.008052332449615562, -0.022466275098901867, 0.0006809175976707493, 0.009697170919727549, -0.004212300024051596, 0.01962774750188978, -0.008463297971101347, 0.003347293103589166, 0.0025020468602625634, 0.013810346957197961, 0.0026259617037704963, 0.0009821799499287742, -0.0016353603650530735, -0.010319427944116888, 0.0013240952247464133, 0.007272704573702216, 0.01247131856510042, 0.016207455229087397, 0.007974481561658031, 0.0022151801892149603, -0.004420568023718707, 0.0009514360495899155, -0.00047526583974200065, -0.005389129050016983, -0.00350599554905362, 0.0063969540010822, 0.008739857530484008, -0.01055447658753561, 0.003821013509348159, 0.005392548084093285, 0.005205897369176871, 0.008003799850285986, 0.010742562290979807, -0.00723969861305318, 0.004034168324930532, 0.014217248987198117, 0.00045720569780849374, -0.0033506123733297866, -0.010849618856728416, 0.005715975560008468, 0.014132076659126191, 0.0009088941387365157, 0.005145222888460088, -0.00933446453296305, 0.010182342520839605, -0.00030095188947720786, 0.020015077383534585, 0.0061964912438678965, 0.009384155693351826, -0.0027599480261324416, 0.0010196604991747904, 0.003783500168975218, -0.006523696082010866, -0.0017509867112933675, 0.016079497372258444, 0.004747434779434956, -0.0011453924091451295, 0.01705841134706154, 0.0, -0.003382633884320141, 0.01725358841039837, 0.002363383403643393, 0.0023578109922752777, -0.004151036893566218, 0.016256747938038663, 0.0049220756543035815, -0.0006803136293579426, 0.00013617612860516992, -0.005309003464592621, -0.0034213767762983904, -0.01263386669597455, -0.0006954527217890583, -0.007098150968147365, -0.003644442391116942, 0.007034327337081647, 0.0033528619395117865, 0.03258150901181067, -0.001887904694299558, 0.000270254976603157, -0.007158276239104144, -0.004081118800701944, 0.014069099742897384, -0.0014816892984480523, 0.0, 0.00431673690382417, -0.0014775099376838075, -0.008474539742435616, 0.005155301290703962, -0.0040490678524957024, -0.0025749076981821384, 0.0, 0.0035326377937614506, 0.002030889854310214, -0.012971207360669812, 0.004380556898779364, -0.01390219755046218, -0.008016611517443928, -0.006966699503786367, 0.0, 0.0004210244156694909, 0.006872340011175648, -0.025351715721048218, 0.028011991571792905, -0.01988044347433271, -0.007517713181516172, 0.007288868476960753, -0.028660672194224857, 0.0, 0.024978076356131806, 0.010545895859686016, 0.0, 0.01537154536170271, -0.001388867696126228, 0.00041722918859865565, -0.004170763943903699, -0.0005584380435731395, 0.003771536335699377, -0.022404684061742675, -0.012099622407417798, 0.003890441457205851, 0.012343916075124861, -0.0075145156453972906, 0.04257147652762283, -0.04083314908001401, 0.0017143249511719638, 0.004563600717197858, 0.013628606632590579, -0.014285773818803471, -0.005399222339405929, -0.0007143293108259341, 0.010293084376199024, -0.007075138148506577, 0.01040335436771711, 0.02313116155646089, 0.0022056249061970234, 0.0, 0.00756537929636214, 0.005460771684353549, 0.002308189618781986, 0.0, 0.017339457932653124, 0.0026631768535341216, 0.009296107833635103, 0.00578950580797688, 0.004186285774513188, -0.007816551034694363, -0.007353008942499462, 0.01402123292834645, 0.00013037446332497815, 0.005217184497611438, -0.00012977989191742534, 0.0175188962663686, -0.003953643330054879, 0.004097307312115328, 0.0053557533633254994, -0.011795950266099808, 0.03747911733657672, 0.0, 0.02251638814296042, -0.010526348826619514, -0.0020787255011349703, 0.004778818609627367, 0.00670735428972935, -0.01586923245983307, -0.02511079479529532, 0.024621270868369738, -0.014664231904256475, -0.0157579058361339, -0.00673441931192742, 0.0413202434769504, 0.001965553190609981, 0.00367831119100126, 0.013193279049623197, 0.001205672427990745, 0.008550085219711345, 0.006447772125699469, 0.005101439085363202, -0.0074363181507903775, -0.018908269795870902, 0.00024238355232020226, 0.005210861884007434, -0.0006027175913517757, -0.0025331614066026464, -0.0010884504127198769, -0.005568996282933059, 0.01533969010948466, 0.006594669212237614, -0.005360297374633949, -0.004311384555108599, -0.012869854494579669, -0.0007310534765059273, -0.011218214539387317, 0.0038229769637248, 0.008476594583261221, -0.003654469920165049, -0.0025675398229857427, 0.007967657652484528, -0.015201264124654945, 0.0004938661950475431, 0.017403156264263364, -0.007036295388904379, -0.0012217284787452432, -0.004281326900563931, 0.011916476689435296, -0.005220350744660207, -0.018550210241302656, 0.014175570947583704, 0.010912204711740703, -0.00024253054950329478, -0.01370856786648611, -0.016236157998467338, 0.014128497199169088, 0.019602962962962822, 0.002418435127172991, -0.0019300803276756096, -0.000483453185401439, -0.0026601402590894496, -0.004849678826368331, 0.01742203061982317, -0.00047899550358165843, -0.003474313062013179, -0.01767253204267727, -0.01493086812351907, -0.002857444821011468, -0.005482213178357731, 0.005011294505239849, 0.01408622832489237, 0.018684748629030246, -0.006998935825166419, 0.0012151959291353265, -0.0021847348769175046, 0.014718393114557138, -0.03164708040752784, -0.007056198358971755, -0.012591972918074679, 0.010101049022522401, -0.02187500000000009, -0.010223681172623733, 0.0, -0.061458937306568484, 0.009767492923734133, 0.009128040259087644, 0.0074254496290520056, 0.016483458620556002, -0.02307185280428281, -0.00850198740068786, -0.028583073897232136, -0.013591161319516432, -0.007670467383851465, 0.005868823778024446, -0.007399981043228032, -0.013620027931787737, -0.010029104808137346, -0.00866251595944778, 0.019105464746195677, 0.01017300686634437, -0.026614852787593457, 0.007685436224083464, 0.006160137387289488, 0.0058309261629181375, -0.01449275362318847, 0.02058825773351325, 0.013688716532491263, -0.0007106669999671356, 0.011379735243742362, 0.014205374935388981, -0.003328218856443632, 0.008070045630932388, -0.0013802412468357783, -0.008154752596182258, 0.02090300941118106, 0.010237509938988865, -0.0008107713316618526, 0.019202242825428595, -0.009420181220636259, -0.00013396913661745113, 0.015405244505992899, -0.007255976643988582, 0.01661129568106312, 0.011372584922640927, -0.009693679376703068, 0.0066561535963751695, 0.003759897910724952, -0.012529078321422804, 0.00013083239541833436, 0.006408551787035588, 0.022222310353272157, -0.0053395090107548615, -0.009585889832280925, -0.015098699202472865, -0.004716989148205841, -0.02843596707146856, 0.014769597463650141, 0.013486475423447164, -0.019894625900838903, -0.003360666783857935, -0.010655529026584398, 0.00449900256195801, -0.01587945391014245, 0.02261756090652489, -0.015104554599248976, 0.008900472911731239, 0.01927250492757615, -0.004127797135715872, 0.011899978322685856, -0.025634281627686217, 0.005153307483335423, -0.008634637964553327, -0.01918894389892989, 0.004856368469587036, 0.02319801639951158, -0.0013495071009483883, -0.025270307386243696, 0.006100131126587582, -0.0075789314326956125, 0.010969188452515821, 0.017305345124019267, 0.017280934043075513, -0.0010617363327772855, 0.0007971992914099779, 0.015531636008310423, -0.016993503944546462, 0.009042557616641966, -0.00039534502349403144, 0.016084393477204584, -0.005968588118517304, -0.010573000289002765, 0.03931392622114083, 0.019167328758924684, -0.0051065345302553355, -0.0053830786174366985, 0.05273760355379031, -0.0076518339827683635, -0.02734935714537834, -0.007184464349522135, 0.0038677174384538215, 0.026597059582386118, 0.0014528177820682942, 0.0, -0.018133462014802038, 0.01723715223882616, -0.00399421229828445, -0.02600558228022376, 0.010979379122455057, 0.02073306590749957, -0.022971847985857274, 0.03650544074695361, 0.003820435609633188, 0.013915296663483012, 0.009970656587930726, -0.009523806148157843, -0.008091023115419649, -0.0235252151545271, -0.0009685451880456775, -0.0020600845353959674, -0.008621725532827806, 0.012371412834166984, 0.03206293378045677, -0.011723329006134042, -0.00023729859711463241, 0.00023735492110454892, -0.015065293315365547, -0.008310278833561724, 0.026111265745703438, 0.017871963243095035, 0.00441857271416235, -0.0001157039494528167, 0.0013893147316386134, -0.014568095016264881, 0.009386312224029636, -0.005695662800444423, -0.007131173764587162, -0.024373009388745537, 0.007723864167682448, 0.004790437435675532, 0.004529168611525636, -0.0008305611751077135, -0.011518836613809924, 0.003123524061785732, -0.011976047904191711, -0.0009697191642991099, 0.00024271139171738731, -0.00363904709938645, 0.006208937667641967, 0.02359342906523265, 0.03900712897491676, 0.0011376390487507493, 0.005681818181818121, -0.00022595076911191558, 0.003955678806986107, 0.016773588124014083, 0.0011071576002987804, -0.0004423901386574336, 0.00918346820400373, -0.006578209408437896, 0.00595961717128235, 0.008996156676875255, 0.0069587841812963624, 0.00032392591619867517, -0.013385123833540291, 0.0185995286636933, 0.011493015170366938, -0.022193866183803923, 0.0011946199844063976, 0.01442666413319027, 0.005132628038531761, 0.003829793727144315, 0.0071004468483630845, -0.0024202434020149655, -0.0372363533233655, -0.0029582190533248287, 0.00769227415650775, -0.0077426293140818725, 0.016045709624684212, 0.0016225152063862325, 0.01879047400044831, -0.0031799388807352003, -0.011271773163272325, 0.008603951317276648, -0.0065045917924050345, 0.004400597511721838, 0.009190004205216429, -0.007094512717272905, 0.0037326022826675853, -0.002974993630688094, -0.021206286673372432, -0.0083831971242041, -0.00032936735500432857, 0.008786330538709919, 0.02939580427317523, -0.0015864782764395402, 0.009639788326331722, -0.003777154753678791, 0.006108497627133502, 0.008897712603187946, -0.0033201878392130624, -0.01780136506280494, -0.014202399147448364, -0.029674250863772178, 0.0011080163337517934, 0.01726624476297145, -0.04145365070373708, 0.03314413416026385, 0.008679421497073125, 0.005881722360167707, -0.005630716314652839, -0.0072960705171056794, 0.018758216496029156, 0.007429684414832494, 0.002351445344633829, -0.011516334454176769, -0.00226536236662378, -0.012001304313862149, -0.020463943679069674, 0.0033515296079056345, 0.013250222400127187, -0.01098901098901095, 0.012888929578993125, 0.0004387152756273327, 0.012829011375996568, -0.008336085845677355, 0.01419217329053879, -0.0029063968571167997, 0.0009716503287693357, 0.0017255827287359082, -0.0077518692140367, 0.004774249072568404, -0.010691121815150084, -0.006876948468732658, 0.012420281509385678, -0.00803384929829598, -0.0062383679291896366, -0.027422967064711368, 0.00509573762968496, -0.010027032089098498, -0.01490844596609775, 0.0020794860241757362, 0.02409504287246622, 0.02656760735905439, -0.0025222431272701185, -0.00582672366569259, -0.001990493249677483, 0.013850415512465464, 0.014754081684383635, 0.0022617026163032072, 0.009671196534388748, -0.003937875161635462, -0.0011752642938452906, 0.003423188739118288, -0.012366776379199806, 0.011334229907984161, 0.0056569406071727, -0.003927008509746588, 0.016728819609487244, -0.007964729840911677, 0.005070734301388713, -0.006621791648723674, -0.0027510541779027786, 0.01612728533757468, 0.008979854239284935, 0.016454558754827264, 0.0009162730276128794, -0.019835184586185828, 0.005085075349375634, 0.0022715665892543146, 0.0004120831941185621, 0.0035011464911307577, -0.0069779407539332095, 0.033378148899264604, 0.0, 0.002699966430664169, 0.0028922003115217088, 0.01392205210688413, -0.007355825880094535, -0.01146127895670368, -9.997137356676511e-05, -0.001399434110028186, 0.0011011071939082129, 0.00689925804692848, -0.010923520431549538, 0.004016079638623937, 0.0009999847412112128, 0.002897112087392406, -0.01583819451695878, 0.0035424945679176645, 0.004135108687899125, -0.004419393559675022, -0.011501204177355229, 0.004592742731421184, 0.0035558109624702627, -0.02338527624154918, 0.020420868620040222, 0.006196674067685537, 0.013225618558631025, -0.0011957228562399225, -0.02075014211878723, 0.013854858702312844, -0.028838376346423056, -0.013140240583658036, 0.008073016299372515, -0.003952208806884072, -0.002401542608341689, 0.020828949599121405, -0.01209884466261546, -0.024182686745765736, -0.014571316380583288, 0.010793307971189492, 0.009930595729021885, 0.024106563069955733, 0.007743134372021121, -0.008708108480750543, -0.008887976347300652, 0.015328479638307968, 0.010989007544849327, 0.007009292918520815, 0.002017598942582799, -0.0014094370992417948, 0.005645705663981149, 0.006115294339364308, -0.007772008514878803, 0.0022092911895739142, 0.009619229009189656, -0.001290242954111509, -0.0018880534353314937, 0.0031859785647747607, 0.00019845814452601473, -0.007739618860336028, 0.004499969482421928, 0.009756131276325908, -0.0018732371175648188, -0.0022717871630983932, -0.009405054524753487, -0.029082511530252653, 0.005867212412471012, 0.009926332466086762, -0.01915086982362324, -0.006714891584573057, 0.014040545529869108, 0.0059487367287660575, 0.019269977104038105, 0.003801112821625763, 0.0022920115638358496, 0.008152711074728147, -0.0034516614285433622, -0.002968857424023419, 0.012406947890818865, 0.012156841801661988, 0.0015498224081766931, -0.0038684866535401152, 0.003592259675553766, 0.005610856014796273, -0.004328975098154886, 0.007632859087220778, -0.010163942365407963, 0.010074525354192732, 0.0034525810102774557, 0.00038230829186081117, -0.00305722461471436, 0.009199799698231148, -0.018136891814589107, 0.00812375556571343, -0.01717192010946378, -0.0007808121429283554, 0.0017583305689787831, -0.005363267044275144, -0.00039216583850343323, 0.015103971453074072, 0.010628004580880202, -0.0033460657669864835, -0.007769760753897015, 0.002320164908208522, 0.006751513755611116, -0.0002873996942538426, 0.004408232785808375, 0.0018128274576096892, 0.010476175944010402, 0.003204561471959577, 0.004603512331177395, -0.0014963402380316904, -0.0017794775497358417, 0.0015950287673553998, 0.01030443535476433, 0.004265174696159502, -0.005447293428027855, 0.0064055183214539735, 0.01614242174047309, 0.0059912491900349085, 0.00018044254756777178, 0.007488288149383182, 0.01020864518976472, -0.0056732506293695195, -0.008380091177285554, 0.02706099447985233, -0.003851495275204786, -0.010632747639882423, -0.0031086107603265356, -0.002583757315099966, -0.002590382260277413, -0.0034032318677188478, 0.016175440973249744, 0.0021223723017629315, -0.010060001700657573, 0.001515405317194407, 0.015576324199088276, 0.0027169604919723422, -0.01538328887243412, 0.012871699321806762, 0.009728313980681857, -0.01050255267848299, -0.032543851618181296, 0.018224699605995598, -0.01264475298086476, 0.0027958621542869544, -0.020595385063815308, 0.013957728390896262, 0.007154509406154919, 0.005035496476970547, -0.007336492077054002, -0.014420896963769247, -0.005121148298198319, 0.023071992969090793, 0.010332379739016018, -0.01378386362319528, -0.007394045838970076, 0.006540708654857452, 0.0030685589217158693, 0.008457822985140417, -0.016773776339211066, -0.006805807810977171, -0.09365007113565393, 0.014112919041815442, 0.023757449561624622, -0.012039983391491371, 0.013267798271460407, -0.041804050653556524, -0.04443768953299443, -0.12288133778198151, 0.07041055539594443, -0.0741283978159083, -0.14574700755910674, 0.13395149206907542, -0.1284438213468141, 0.02482680789563041, -0.0843661670953455, -0.00015385534382095223, -0.0035385131835939942, -0.055890000074208857, 0.10220768346759512, 0.0642433491547052, 0.03959286497950654, -0.05833443062791155, 0.025348885621666595, -0.03680557674831786, -0.01687091845260713, 0.021267188937400316, -0.0392071784464284, 0.06786249345257711, 0.028975358679781626, 0.03019998852113992, -0.011356141188825442, 0.011753669308608883, 0.0145214320015985, -0.010409830035750467, -0.014727188713191675, 0.014279990530712938, -0.004473636024876715, 0.026962637951264856, -0.013513455130026664, -0.0553163441534702, 0.039773472003358235, 0.03997877672504724, 0.024010181100188044, -0.03704167135693326, -0.014376384192637426, 0.005781898163320864, -0.004442173546096551, -0.01049862801053214, 0.026923060188535075, -0.016660220979504592, -0.01497241133158489, 0.0020000203450520893, 0.014637371281253975, -0.022163966444672, 0.046539717466811625, -0.0048698867020716685, 0.010302580896880853, 0.019375453557554323, -0.00037512540751483137, 0.03327490557264556, -0.0018159991361974548, 0.02704673668251889, -0.012163424369212361, 0.0059772862029812135, 0.014022582100760905, 0.0287120226845059, 0.0181135109295556, 0.01051801256711582, 0.008194059496944517, 0.03185056341882708, -0.010643959898699262, -0.019150068184381475, -0.021059539404480354, -0.0020168101420254825, 0.01044122946404169, 0.02166663275824665, 0.0073953271097824125, 0.00010797945079410454, -0.009607074649310543, 0.005558606389433063, -0.016150070005027106, 0.017847337297503207, -0.02348737074662699, 0.018066916774147845, 0.001742010503728686, 0.00858603300929861, -0.002155221670899654, 0.03909290287508704, -0.008418182792742201, 0.009747328792427012, -0.013390007630978862, 0.01630715804942451, 0.014803316022400148, -0.012343151071508407, 0.023858681738017085, 0.013820264143453498, -0.0020895431290810507, 0.0008973610237217322, -0.019725002806489034, 0.001930841555543461, 0.018967469480099197, -0.004081186904751233, 0.014292856187480885, -0.0016752640196698865, -0.019938769042987303, -0.0009064756416077291, -0.016129017372409016, 0.01424179724774266, 0.01192039933973632, -0.01337722234586236, 0.007184044028313963, -0.013461964586702235, 0.0013238786848539519, -0.01850909855520222, 0.009947146028631781, -0.016825683483218334, 0.025253032690239374, -0.012722646310432628, 0.006907197617992855, -0.0007166959776444548, 0.00922132725358149, -0.0015228581307503708, -0.017488573943961194, 0.0024837576320597687, 0.014762054966765525, -0.020854557356203007, 0.02181816596489461, -0.0020335226369607717, -0.012124324227264394, 0.004744215024918619, -0.006364146261964798, 0.007231373204274805, -0.025230759840745187, -0.0058922301472984495, 0.021486015105522505, -0.0005181126375610745, -0.005701797922283203, 0.00479615334072192, -0.017951679024881706, -0.015109893431932808, 0.005793379689210898, -0.01706665039062505, 0.014433009322101675, -0.024925136364812306, -0.013494276866077515, 0.012566780536287236, 0.009445366079369633, -0.019584408443450774, 0.027410955542923165, -0.004644634874391929, 0.0004340848059138924, 0.021043440293265325, -0.005099285472693671, 0.01388142446537044, 0.008109576589882872, -0.002716278028778718, -0.009637525432314442, 0.0030674943168920166, 0.020984897451703288, 0.002788645361675668, 0.009063805912093326, -0.005409806805073969, -0.006876085607066207, -0.010023701818306363, -0.03517748057650161, 0.005193155418681927, -0.024216983223708577, 0.01930288913865774], \"xaxis\": \"x\", \"y\": [0.0, 0.018791968560170957, -0.013175245879496256, 0.03338000914841732, -0.007751930820906638, -0.03385413513751645, 0.010781660765967649, -0.01066665649414067, -0.01617249114895114, -0.0027397233430075385, 0.008241750144279525, -0.005449585970229709, -0.04109591546526592, 0.007140568324497831, -0.004253058934230669, 0.004271224704620824, -0.007089942108455705, -0.028571401323590928, -0.02794356828735678, 0.0363087491318983, -0.007296947998455816, 0.005882347166332291, -0.04093570227515464, -0.01067315669181701, -0.013865047992786317, -0.04844002353489352, -0.009852233334184168, 0.018244802836800966, -0.05537454122866958, 0.017241362300696395, 0.03220065113325221, 0.004928739669871174, 0.039215727523399746, -0.001574837153741071, 0.011026154620878748, 0.028037356105847788, -0.024242401473340336, 0.021739109509576915, -0.08054953671428755, 0.004961326433652102, -0.032894705884013664, -0.05612519213374412, -0.010810831709504587, -0.029143954951004303, -0.04878067545928366, 0.043392694888054306, -0.007561542148248779, 0.04762228276912284, -0.0436363220214846, -0.030418311271305787, -0.011764694882648863, -0.009923794988024981, 0.020040125162987366, 0.0039292817348308695, 0.0, -0.007827805815248001, -0.013803585920825867, -0.003999996185302668, -0.006027298256949587, 0.018185086431588893, 0.00991745608131045, 0.029472751340347658, 0.04961836645774387, -0.001821084456010147, -0.010928983106626933, -0.0681372437958736, -0.009884570538870374, 0.011976074690640326, -0.005914022132273877, -0.0019872945602910086, 0.007952303998211896, 0.025644233021933527, -0.01346459804918576, -0.011695931980685526, 0.00592032355055383, -0.0019639146461469803, 0.01375562440102418, 0.015503861641813499, -0.03435111377881106, -0.01976282722596967, 0.014109669084628296, 0.045729018553195555, 0.0361186000931919, 0.01834865997430324, -0.010810831709504587, -0.08560754485387445, -0.005979272021636395, -0.0020008112946745538, -0.004016060411629163, -0.036290287692390844, 0.016736384977954266, -0.00823044459961808, -0.0186755937438573, -0.023252494204594076, 0.00432900030777672, -0.015089635625491704, -0.008752757604875039, -0.03310914188481873, 0.004566205571678861, -0.002276355520674289, -0.02505337554135878, 0.009345785021543263, -0.01620749568114721, -0.03294127071640973, -0.004866194445208194, -0.00733107948195455, 0.004926103745908295, -0.017160761910995026, -0.007477335875206603, -0.01759193642011514, -0.007668572681559072, -0.005154695555459776, 0.012949279287175264, -0.01789884450057555, 0.015625047536257597, 0.012816404371593704, -0.03290750999822878, -0.02879996624691905, -0.03503630693561355, 0.0, -0.016759760910114108, 0.0028363683160670394, -0.02266297064412337, -0.0318796136799544, -0.026950865427342263, -0.01846161159573878, -0.025078545860640622, -0.04179568296083369, 0.016773146963611207, -0.02640275452812757, -0.01016412177031989, -0.05137536489472694, -0.04692586731714288, -0.03409701630900419, -0.04313122042656059, 0.14754093715305938, 0.0892800107901437, 0.17377663266773813, -0.15083798138576865, -0.08224209775726543, 0.025095451297769245, -0.038467088523071014, -0.0036305725139580414, 0.3102131122734839, -0.06963374492046615, 0.0299401633595604, -0.04942326962521015, -0.04281369713415817, -0.03194901563851127, 0.003305616305839809, 0.029599980675546478, -0.04791841990282841, -0.0335570147625901, -0.010422285645976803, 0.03508796733128361, 0.07119225288993158, -0.0569620448949717, 0.006711402952518153, -0.050005356470743556, -0.042105460410204576, -0.025635299710062065, 0.007518789579387564, 0.0074626792643006645, -0.018524505146794823, -0.037736042576598905, -0.027444862318482866, -0.004038695335090603, 0.04048605271266115, -0.04279556713083432, -0.03252029368516418, 0.021001670532787342, -0.012339174332413716, -0.050000049670535396, -0.04385960784535148, -0.03669732095175393, 0.05714291877487354, 0.02702700090373522, -0.09649124182932711, -0.029126186624347072, -0.04500800371170033, -0.005227277535969521, 0.026307357315105584, -0.0358895051618352, -0.042553214424603136, -0.011111100809073515, 0.01123594452133525, -0.08680886922435938, -0.011408089682555245, 0.07691853989397002, 0.03642544617038368, 0.07237246882988413, 0.026982169097085507, -0.03566111502678759, -0.09603785555960975, -0.02729079438970483, -0.007368373636861381, -0.03867597227037878, -0.013918926793072828, -0.019596819814918898, -0.039997509759165384, 0.0, -0.013333320617675781, 0.04728645830816247, 0.04032045941735429, -0.048065115026744154, -0.04234069506858784, 0.0033958796930042556, -0.03983247386748312, 0.037960133156590414, 0.002546889495844473, -0.039866205336999694, -0.022954453949428744, -0.05064465035016574, 0.005729671894697974, -0.024630354133757915, 0.029129559439093455, -0.018861993310203773, 0.05671391328349151, -0.044585290826721136, -0.0009508732156936484, -0.015252816719004136, 0.03776861470364712, -0.04666269598918571, 0.03426770579006844, -0.05393690329854517, -0.1169934918525608, -0.09399283455140783, 0.009984016418457031, 0.07303089103862437, -0.07612133795851406, 0.04742878294841191, -0.052451708935615904, 0.02012627287601987, 0.04810750341583914, -0.0552961551519594, -0.024930656299305465, 0.12391696640423966, 0.04317088467054164, 0.1546891503452119, -0.009443052611292968, -0.03808361217379308, 0.07723115174762785, 0.08454112356682608, 0.3728983160503987, 0.10802606060777298, -0.016714901289392348, 0.016999038540613354, 0.010026093025311988, -0.0865998008058454, -0.13285511801120042, 0.004189449006631429, 0.0, -0.056863322423592155, -0.006625932619825914, 0.05032879801306556, 0.014811706803142588, -0.013902187715694403, -0.021129275792772684, -0.00718286114031641, -0.0072534177288321455, -0.0693450470970961, 0.004718546619125297, 0.013269638828722785, -0.01001911541273015, 0.10116543435347669, 0.02825971661966875, -0.03779358987879877, 0.035712295630837554, 0.003442802323360361, -0.05016272049822057, -0.02748967995793339, -0.05803803784057748, 0.20300078215048645, 0.1391951865030927, 0.09682324909210727, -0.10930247592606057, 0.051925627881037384, 0.00953370112695806, 0.014449857938605648, 0.03997030547506131, 0.0005257059038057399, -0.014726888497577306, 0.014947011468851024, 0.03685095154070672, 0.05583922167657773, 0.06297854507807776, 0.13794619954152765, 0.005565666364921729, -0.0007892512855771638, -0.011473441114120742, 0.06842044364144151, 0.016855888670482377, -0.0051577429688105525, 0.03666106203626751, -0.013220582689557614, 0.033661017873482635, 0.0017479432798983563, -0.03879845898980727, 0.08582118926163695, 0.028129262972531377, 0.029319331262529724, 0.0, -0.056328336663360234, 0.013409561002667436, 0.005963759097684873, -0.037835774143567424, 0.014362339475908925, -0.026290332347919554, -0.020079615200898404, -0.028611416148002777, -0.009085780961218592, 0.04220019506109329, 0.010213024939636384, 0.013589680636887369, -0.018566272999018585, 0.002098959382091925, -0.003490938299124724, 0.0070153031774258245, 0.0020872578381823104, 0.01008520652890632, -0.007226227965992704, -0.007287622470045885, 0.012929706653591166, 0.191726850227679, -0.0627926077439458, -0.011112596376201878, 0.08960407123954606, -0.01175102748256951, -0.07074362794148503, -0.11076319846926119, 0.19297926254590125, 0.0308858142311641, -0.001431518860775527, 0.008572325419428317, -0.02266297125639516, -0.025214270881915968, 0.013382426504867873, 0.003808428779113582, 0.018124326207318298, -0.009760768086581773, 0.014785580273829702, -0.03571589723803503, 0.02400733240898334, -0.01620749568114721, -0.01176098092846034, 0.025889534082391252, 0.008414605723680246, -0.02675637440245693, 0.0236477061787026, 0.010393789745051008, 0.06602337977570061, 0.020102551011902836, 0.0, -0.009459598326737373, -0.02388167410074915, -0.046204175249100254, -0.007412313944755944, -0.0011466054880883148, -0.025585309584691185, 0.053103299194756204, 0.030813272850912954, 0.023909548550264725, -0.0034513612279643002, 0.010655906494676959, -0.025033392465405258, -0.0002698129794993509, 0.027302501244238497, 0.006581981436816653, 0.006532160553641031, 0.012986274364870098, 0.006413124344284427, -0.002550263963011168, -0.003831766312240692, 0.015386314325158024, 0.05555729486616201, -0.0038277535541079155, 0.0038424615499623727, 0.004783163323508255, 0.015475911293119093, -0.0021068111671096457, -0.0007097882206708039, 0.011051464131535571, 0.00348868919500811, -0.0034765605557613988, 0.0006964958390338616, 0.04996882533526392, 0.0028784222689626215, -0.005960733917889316, -0.0217578114280661, 0.04403024093684871, 0.0, -0.046736807537199554, 0.012540223975446851, 0.12612645586107596, 0.06000145264048684, 0.0009418714999660516, 0.06503533800000438, 0.030085622107917542, 0.013745802672001428, 0.01644042852507921, -0.008669958585232562, 0.045249028469003916, 0.017059838720440146, -0.022152948715681298, -0.008090067937484902, 0.008156050943721294, 0.017799902496728137, 0.0, -0.018123520932237125, 0.005181404116228805, 0.013208204548387448, -0.029413575198608433, -0.009007143467263723, 0.04561875808022675, 0.03935922153523541, 0.0035002511617314713, 0.0018197022751080816, -0.0030286748797161422, -0.0001514306900690654, -0.002882945221840738, -0.05631621956406885, -0.006936733851829802, 0.007958165449743149, 0.007090961372332005, 0.02720160781662173, 0.018689658499879025, 0.06590252732007751, 0.010330408013303094, -0.011642335746655741, 0.021834036247577737, 0.04456710470258285, 0.009420004051901687, 0.0018670701778926713, 0.01810132048511015, 0.0171235595398187, 0.015292240130165613, 0.024682985820011494, 0.022238407833484075, 0.027190162971333143, 0.06470476196631014, -0.0014370264023885193, -0.02069076025570049, 0.028021180930679623, -0.01077131819024213, 0.011110448954063434, 0.010878617168504467, 0.00011130203307851971, 0.011085924894913335, 0.05590058647647056, -0.15495824019241478, -0.1626498731357463, 0.3092079458665693, -0.043960960633119384, 0.06288040708897547, -0.003892931430672708, -0.0010840220648110632, 0.008804155432659888, 0.012820689876273939, 0.009681715018832637, 0.032451189654821855, -0.0322488846893475, -0.001052895381846719, -0.027764623183699655, -0.005320124489405331, 0.0016375616313388797, 0.016783942995639123, 0.028401474428066953, 0.005941794648441245, 0.01937244631102475, -0.010061535452886905, 0.0, 0.008316056193811594, 0.029937571052333523, 0.028176426073246663, -0.03365413959209729, -0.014926971868857719, -0.0121199716124325, 0.042433737922945136, 0.003922236563877801, 0.02970206324231106, 0.007685583576540589, -0.025330067103592757, 0.017295054532498133, -0.021749070796674874, 0.03048349692879393, 0.008006811910176603, -0.020558973221419086, -0.010020204790997522, 0.025735759397677915, -0.0062977294335706535, 0.00047443036071492806, 0.0018897546037619506, -0.010377644695063082, 0.011726229854440495, 0.0003762581806860954, -0.04200843711453717, -0.003048012535902367, -0.05325267127119793, 0.034373362859090095, -0.006445119865046256, -0.045509804978415835, 0.023786864020676646, 0.011306334527559692, 0.06666775173721495, 0.019229522118201725, -0.019716826758190975, 0.020113399165046397, 0.00518763475164663, 0.00797912598661421, 0.1163871256657254, 0.042535786280059495, 0.04352004078126992, -0.022385357826016805, -0.02533094264606106, -0.06187142868367357, 0.09768415432340705, -0.007734619370650897, 0.0, 0.0, 0.094409693935265, 0.00726799700115377, -0.021429007393973132, 0.0, 0.009343060945635306, 0.09921947087686434, -0.01644797074167348, 0.030100148750319855, 0.012987815946358783, 0.04839716202173472, 0.07612379074881459, 0.08806688135320484, 0.011332234114884487, 0.05891422786166478, 0.014774804670497632, 0.033107444009448095, -0.07906948553774185, -0.01510143247750484, 5.117306024748913e-05, -0.05086662698218958, -0.04916147041485408, 0.053919965570623285, -0.07811806042101577, -0.005497275142966607, 0.017289040852892734, 0.015549417149332445, 0.11531585973585767, -0.06149495926106119, 0.06313142711489084, -0.058870540753838685, -0.008914118227751344, 0.03641228295361465, -0.03650775453525257, -0.0032952620489984374, -0.026721389840146714, 0.020945184704791897, 0.0036040703879227642, -0.021547862200780088, 0.0332583431691329, 0.004371844517466528, 0.016540596188412415, 0.00626335390354793, -0.0023938442798371318, -0.013596475027731092, 0.012485900049455045, -0.041855847120985445, -0.04156597998220335, 0.10313225249417934, 0.03762906660319221, 0.04626960359360277, 0.03980553772893369, -0.019607560985878125, -0.0023808084430854137, 0.007827871461361546, 0.05134065188190062, 0.0036488992227281525, 0.027784379413726246, 0.004454157021079874, -0.013043816896556981, 0.14097150442179252, 0.015439166284313854, 0.03125545010514652, 0.03237525951325426, -0.058925737653459764, 0.005693161558298021, 0.028295221620740385, 0.03486304678979901, -0.00517447274541416, -0.1623309807522022, 0.05744757124350852, -0.1071234053642417, 0.09018386829345615, 0.03220510041041513, -0.00380492109647268, 0.025207843069894098, 0.0, 0.01960360986130194, -0.03461138841814615, -0.013465983177749385, -0.024715039067627287, -0.018674806206986916, 4.217270424189401e-05, 0.052700329924720846, 0.03094699261573175, -0.020259160640728302, -0.014643835642981107, 0.029640400785879706, 0.005206685560678492, 0.0, 0.007779578875596771, -0.0077195242279830545, -0.04331158676928881, -0.003538003484693908, -0.024490362546427002, 0.023808072110415246, 0.025787230343429446, -0.01992003050787572, -0.02032496522731142, 0.03103758778871124, 0.030264022866076656, 0.015619993209838867, 0.0, 0.0, -0.002303971131167648, 0.10058424644020958, 0.04318503863612255, 0.020715811123939165, 0.036220166053349656, -0.04126873559499045, 0.046359639598272384, 0.04442713619766048, 0.04229691252539003, 0.00319999872251997, 0.009502608844523808, -0.038122953425368644, -0.0002978911745522561, 0.03405953531709072, -0.007678355166257034, 0.01242208453839222, 0.05347752736718947, 0.0006842995252522854, 0.009454776365196427, 0.004133612829856359, 0.0015006817363987235, 0.055208822752911724, 0.01780925472448658, -0.014048004150390647, 0.028119866254690207, -0.021952566013608732, 0.04387703597894954, 0.07655205328196169, 0.019295037755612032, 0.07867793202158002, -0.07959001012624412, 0.015518956139841666, 0.03275460241370376, -0.010635064369056701, -0.010432060237664742, 0.030255252746896666, 0.003503864145915747, 0.03178799588867576, 0.0040681217492202215, 0.03830706688665564, 0.10291196780190015, -0.006796608508472746, 0.10219313022308452, 0.05501736995405815, 0.04158438705816514, 0.0, -0.07598557157850017, -0.007853964955440662, -0.11852244562216419, 0.04752730538254957, 0.13416064767187397, 0.014513155309165304, -0.023321952073984575, -0.02953850805523972, -0.04248275547103608, 0.00834118418259111, -0.014186299124487878, -0.043303392120905504, 0.03050248805383493, -0.07676704996108474, 0.03571939542565228, 0.04890237124561381, 0.049455306310588254, 0.014253782393947034, 0.006457499709273895, -0.013838446216955624, 0.016579530354333905, -0.023961900046685858, 0.023525953695437085, -0.0329082843632994, 0.0, -0.05584627622133731, -0.04676315126394781, -0.07936725936170208, 0.10846398223188158, -0.010321258781031406, 0.03514553497264994, -0.04485751918987013, -0.005780258874628852, 0.00028832012938040386, -0.04562404091901495, -0.025578567255935325, -0.011720001697540172, 0.007907681434921487, 0.0508234918755428, 0.0, -0.08150703762098954, -0.07362139863862305, -0.09526456866347988, 0.06884011792514766, -0.06168355909047152, -0.051427679183082664, 0.04239035327976959, 0.07391808534714528, 0.0, 0.03787330481432605, 0.040348052978515625, 0.0, 0.021925176793686108, -0.004456712186623579, -0.026849736963857507, 0.04666730992083101, -0.03026595271830268, -0.013763363105301352, -0.009697470794516105, -0.023714111122129955, 0.024464685417503018, -0.008757235958653853, -0.0034662080580329935, 0.014085547963481382, 0.10546645158023504, 0.08532693090681831, -0.002858732859626234, -0.0005734076018119039, -0.01319561320765028, 0.005813864516596823, 0.003033566470882487, -0.008930172108391976, -0.02718530224690352, 0.04034914627620112, 0.037198416613937635, 0.009004829419297922, 0.0, 0.03609326018931869, 0.02397991230583507, 0.03777479950181051, 0.0, -0.011468415825322098, -0.01261031451609107, 0.024010131970711335, -0.01970764386156587, 0.0001261859170884616, -0.024041692778194124, 0.010168912723785173, 0.0018043726873753219, -0.0010304202947398755, 0.01727906429545545, -0.0025389683339196445, 0.0010165437995528492, -0.016373694281844986, -0.009547632271278639, 0.0032563316953262422, -0.029090881347656472, 0.08333439637316009, 0.0, 0.022347443349989504, 0.021739074348078313, 0.000711084834088993, -0.0011830676417661223, 0.015375630399492968, -0.023293690353259233, -0.03851745118302241, 0.012525327993614166, -0.032337082427553177, -0.03797468354430378, -0.027764169793379923, 0.07199898811552008, -0.007574885599906045, 0.046434926028958046, 0.008873304072229748, -0.041570276592169275, 0.02363179546127725, 0.06841384084743996, 0.08426153599502673, -0.0298965170341684, -0.00492065902177663, 0.012413425567669778, 0.007158110939380569, -0.026281720252673724, -0.013493816181726181, 0.009530395271734271, -0.019883185543433157, 0.027876687746356765, 0.02073129770851101, -0.011126386904560248, -0.020210169428246716, 0.014494600173494687, 0.018679524516011403, -0.0215750110305436, -0.00771596461670554, 0.03333333333333344, 0.025699820569766496, -0.006185970708237232, 0.05485228671778786, -0.03300163269042966, 0.0031040721390056536, 0.009382267588192716, 0.00010129920121682012, -0.009395406312794341, -0.005156290899846927, 0.02269515410888645, -0.005979134141472109, -0.014982257934311183, -0.017902493845879608, 0.020757786511414356, 0.027252990973032576, -0.012663588894719968, -0.021170518536764105, 0.0086313694429212, -0.01340374504168007, -0.013793123791163375, 0.026809146946854545, 0.03054376888157484, 0.012416109766633321, 0.0032630331932359535, 0.030164010919420114, 0.007658609697318575, 0.013389530414755102, -0.03945497094955319, -0.0517058645721552, 0.005142384757285567, -0.008699242283502717, 0.14600073276907533, 0.014776089568022233, -0.027789387406732535, -0.007764761376229279, -0.004600461682293666, -0.015533972226766335, 0.0539104075986907, -0.025486519569264177, -0.03895893135252504, 0.04224955580468204, 0.04081147336926372, -0.018596515320895013, 0.009922100115688837, -0.008762554831802438, -0.06249999999999989, -0.004857889811197946, 0.03761048264554212, 0.06502720992934607, 0.07681441310391723, -0.026701073638905504, -0.055279520412913175, -0.0693599411856205, -0.008553382922963038, 0.006922366206147057, 0.03558494461730222, 0.021908361261541165, 0.06218385177530328, 0.0035162307059866116, -0.017025568757415788, 0.04992635208013363, -0.015932680272135902, -0.0006574236553770207, 0.009867653973690382, -0.00048729752520704217, 0.008063223929644758, -0.017859366903700047, 0.01662271166670992, 0.035936864346179265, -0.020001590375154477, -0.007176541210657583, -0.0014441516087169148, -0.03498254535575418, 0.014165306091308727, -0.029991146254435663, -0.029985964618844396, 0.07737170836424534, 0.01840060030888635, 0.01671313488568016, 0.03335030349189472, -0.03825696309407556, 0.015910537758687893, 0.01550749138712626, -0.008778847626975672, 0.030348403494448783, -0.005681777347838479, -0.01090165905486351, -0.013303498581298978, 0.0015408085018491224, 0.017383399376502462, 0.015121747999862878, 0.019291491743298694, 0.0008044737437167271, 0.00759340855104873, 0.05724522687386768, -0.04023147785977621, 0.049703656234039606, -0.05415335930893583, 0.014169056052944162, 0.005957420836103955, -0.02234857555585823, -0.01709034074166016, -0.01944413067374673, 0.03531615511159458, -0.04285553126189967, 0.013591082894718332, -0.01095122700596407, -0.005798849332316891, -0.0043951092344343134, -0.015827151689748353, 0.021418250354866553, -0.034138791951827785, 0.020767439370080076, -0.02909855707417197, -0.066897435130155, 0.032458289194915224, 0.027660811476986513, -0.02667600800330794, -0.022651558573807296, 0.0025202659670762184, -0.03324895206050227, 0.0049373908228287355, 0.024913130135371553, 0.04659901662951116, -0.04355987341945222, -0.004369355519900586, 0.04650250719365023, -0.02104771521783655, 0.014414322913540722, -0.008037702170080596, 0.01653575741601343, -0.013529849095556434, 0.0011442541977113585, 0.06336057715339094, 0.06855713398738628, 0.001150488141627548, 0.01792003353210947, 0.046055216184804015, 0.011176504850120228, -0.043609051123750686, 0.04907713749839182, -0.004643962064606377, 0.061333312988281374, 0.016018086649412178, -0.00537910974181921, 0.05047236990763526, -0.011241664547892105, 0.011727614711102508, -0.0062690520678448935, 0.001310439336867475, -0.008442215303475775, -0.0020988152940999427, 0.016942993430238085, -0.0027770856673281497, 0.0066937992277857905, 0.017831411893492577, -0.08360406302296042, -0.047949611482938304, -0.022067124181393893, -0.007927915855232004, 0.048769447400429655, -0.0008461213030267478, 0.013625097512172557, 0.006428899313482894, -0.002234902900381752, -0.005828238604138614, 0.030662163993839364, 0.014688014984130637, -0.02574781891534339, 0.06701647645184794, 0.007584373407905076, 0.006998407809057472, -0.03860035099490877, -0.015186579687070378, 0.016468828403329194, 0.0006679423680733265, 0.0025459061154209373, -0.005926592759690874, -0.023244040139090094, 0.02404631571783411, 0.02195950273393854, -0.002975282214936925, 0.018506571294008012, -0.0031062278217623973, 0.034278560734517294, 0.006310846536520698, 0.005255280753745595, 0.02708685668361621, -0.032829941892866144, -0.015614361804753285, 0.04063266447220748, 0.027171789346054798, -0.010699935007218886, -0.03043481577997631, 0.015526502652925434, -0.008057843443762702, -0.003338744790906123, 0.009713789846754528, -0.01797019620019269, 0.007882848245333696, -0.01134120152649265, -0.011131410761309413, -0.002971452985490841, -0.0016047614978976776, -0.0413317857312101, -0.029641157138847074, 0.046591069164670706, -0.012500060729258355, -0.0005961204883141447, 0.0640458306569549, -0.010949306595320785, 0.01657676271628672, -0.0015082394610489436, -0.009675164452279006, -0.008866156259681013, -0.03305016059535493, -0.017088061097074725, 0.01918463363126688, -0.027471026252297692, -0.0032052423880916114, -0.021236937787010746, 0.05821302819316321, -0.03936964162078094, 0.02787045108135322, 0.0066471853012111115, -0.042203832627265014, -0.008613477138556425, 0.1042809811836869, -0.023608772876624773, 0.027633893797854414, -0.014004759378521414, -0.014430913058194328, 0.010146390467532074, 0.011014324543586529, 0.020717316921321283, 0.009676774206070604, -0.020375762375655304, -0.008777839091662742, -0.00440067335604355, 0.003910662436044987, 0.018227695753366913, 0.0015519289377237122, 0.005147966893381373, 0.0034126644952254814, -0.049107115571916826, -0.0010968180302550756, 0.020102791182184943, -0.04864414235643322, 0.01660764785039981, 0.012060593059939118, -0.009025156666395029, -0.03000662054850045, 0.017574460831907057, -0.0004145240640108794, 0.005858472113073221, -0.01911831367976402, -0.002579368002677107, 0.014369367125237398, -0.01600383432829111, -0.007047722138554202, -0.008068463912883739, -0.004894846976420175, -0.01769936818048934, 0.06870123985413756, -0.021077318730636785, 0.02272729139423446, 0.008538943285133493, 0.014727115575708938, 0.022571847098214137, -0.0024587147389522057, 0.07142316796105463, -0.0027171612852784355, 0.028886238118029928, 0.020178308252539523, -0.0402568958956272, 0.007026107407215765, -0.03927806349323015, 0.003227577276516458, -0.03474367749717033, -0.009833527451429402, -0.029452600017445874, -0.034682080924855585, 0.010899161150355496, 0.024759128827189558, 0.03705160328418522, 0.004681994749191842, 0.0011095535805514256, -0.019950167284431553, 0.00650317220757568, 0.06179775280898858, 0.0014289977058532521, 0.019125275999588576, 0.016123584137434754, -0.006427764892578125, -0.0011305003075029463, -0.01711867912795828, -0.006172707968254643, 0.04441874677273372, 0.020407802353660687, 0.02316165361693856, -0.019644201319904298, 0.03195120793240713, 0.009350661527454784, -0.019236020247743957, 0.0028915935532214387, 0.009129456318248463, 0.012618655250186128, -0.012556197966092197, -0.01652423884215659, 0.009393413327845934, 0.0009594484258590441, 0.011838382411220039, -0.004357702681996867, 0.010752437613366084, 0.039488604718155296, 0.0011330959359163728, 0.022523019291898816, 0.01468503201760707, 0.017873403663891896, -0.011692668453980426, 0.0055467111071820785, -0.0060332238619260625, 0.01452453325057701, 0.04440203283587074, 0.010679338386004211, -0.036235114340839925, 0.03906808864138056, -0.021629596180461452, 0.015743476300200232, -0.005410381852234081, 0.030759180316910495, 0.04682534838479646, 0.002843410111614819, -0.003137697509118076, 0.04845990494559049, 0.02549814041338605, -0.026626969610183515, 0.0608695209890171, -0.007923418385799352, 0.022858661111700096, 0.017232078625903924, -0.03599789979603796, 0.03926415093549118, -0.02377801182203454, -0.017320686777640093, 0.034425776720556245, 0.0071885103272564255, -0.034364340175385144, 0.00027380609265548195, -0.05774495231210952, -0.01887892884454001, -0.0023682066088901443, 0.01513348100852463, 0.02046187610853134, 0.06731591189895969, -0.026033211210459983, 0.008817847526901179, -0.0199398942929796, 0.03678928805822235, -0.013440859939393479, -0.01907358987431762, -0.04999997880723761, -0.04970762353846614, 0.06461533766526428, 0.011560738251999991, -0.02571432931082618, 0.022580659595866193, -0.0005735720784721954, 0.006025908417926384, 0.0213918987627697, 0.020943869624070688, -0.015590800695117979, 0.021672651928870357, -0.0013597834223033622, -0.004085008738897278, 0.006289295711120024, 0.006521784876155623, 0.011069110077700728, -0.025367176063707086, 0.021917787316727333, 0.03967827272140623, -0.009798794878272177, -0.010416705989173769, 0.04342109278628703, -0.017906755910375383, 0.04006166996166782, 0.04123452269000771, -0.008773985011866436, 0.022966485693652894, 0.00958839718208404, -0.003937877603793938, 0.0023255459097928366, 0.014385215047148847, -0.005260739611493981, -0.005518548383630528, -0.028901734104046284, 0.015952337355840562, -0.03562213987092788, 0.06974480742315037, 0.014084482631472106, 0.05712363960407796, -0.04704381162557114, -0.020680459860597633, 0.02633968717750701, -0.022123893431876485, -0.008823515450602448, 0.027619243244542346, -0.035983983016717236, -0.020737361618345718, 0.04117647058823537, 0.016497164796301256, -0.010226747202180642, 0.010781660765967427, 0.010888926188151071, -0.02615964821934824, -0.028442400524447686, 0.05947949591400192, 0.0, -0.012499993725826553, -0.00244282952106456, -0.00734634972860615, -0.011661817806329022, 0.018606755173645073, 0.01136115266573312, 0.009911826720659489, 0.01635768865779408, 0.021030115644270486, 0.005254308330791657, 0.0259251059230452, 0.004687172277699769, -0.02880320874077924, 0.013575557574799335, 0.0018545261663243107, -0.0006170049353335649, 0.003087086343030565, 0.00718092864317077, -0.0073334815488401706, -0.02113685181556635, 0.03417192960260196, -0.008919570749524208, 0.0008181819600474594, -0.002861217837221819, 0.030744004342140308, 0.03559357492424842, -0.005376393704870863, 0.04691120349355593, -0.004241186505214545, -0.006296299121998028, -0.0037271853057803117, 0.01664794996053298, 0.030358814575948134, -0.00160714558192665, -0.003934917211653621, 0.01598138312610531, -0.007599863755037406, -0.04185222128151278, 0.05929372651754239, 0.005264067875504264, -0.013789507818165014, -0.012389394034326706, 0.013082429251208616, 0.019989405492948142, -0.006243506959837886, -0.02565440533296004, -0.02865846742509648, -0.03411393121403672, 0.03608246183864483, 0.030772031598654603, 0.019842699992873802, -0.012620463026021156, 0.04473631388517263, -0.010705136274472782, -0.0061834524699999616, -0.02281368269788886, -0.0015917960935718511, -0.10983172150831721, 0.005373143438083039, 0.04018208156973424, 0.005708834280039099, -0.007568547260743963, -0.08884651629413931, -0.05147518387415184, -0.10964043723682959, 0.16427157997650688, -0.08320918722596826, -0.21077069278370542, 0.2352941176470591, -0.18880953107561382, 0.0440270036230106, -0.190047801149278, 0.060395689113951434, 0.0032733349907390075, -0.014355645661789818, 0.21416754110491087, 0.09051253182121033, 0.02799997329711945, -0.051556395597104565, 0.0666666275415666, -0.06274030988914459, -0.038727932065322435, -0.04242262998952595, -0.00975197771170877, 0.07484523857313574, 0.04947642282463138, 0.04664502182008734, -0.007387930537597787, 0.006242456470779478, 0.02362208737941396, 0.02214445022033651, 0.03922465862155544, -0.02150536644281853, 0.08723927733430759, 0.042698013910268395, -0.0213649462444625, -0.04224782900779944, 0.04474459442997869, 0.046464631051728045, -0.02277992900686243, -0.018174598742747516, 0.03501001684223337, -0.024105713391790018, 0.09860559138863234, 0.02973706879915272, -0.022010917060193758, -0.01062297700508208, -0.0027297820527072414, 0.005474438708708451, 0.007259556024611813, -0.006666647421347371, 0.011246125881962943, 0.05076236468259521, -0.028678734255094818, 0.024428811113761384, -0.010979574191050556, 0.04770164661254217, 0.06754969748314643, 0.04466496748574178, -0.03132423680571206, -0.013793126833393177, -0.010100974772253357, -0.02982733913850033, 0.009385143013187491, -0.03029816218798509, -0.01719293910844033, 0.04928511804161828, 0.0, 0.0355882873997031, -0.010061884311685088, 0.02971067534814975, 0.002277927552843506, 0.01803034002130688, 0.03735666640323165, 0.024390310646628777, -0.007002800970792311, -0.009167863355287076, -0.006405650508785721, -0.00157593990748095, -0.004878805501133843, 0.01528486245582017, 0.017611103526143257, 0.00907189828382804, -0.030428831048067706, 0.09415119283572615, 0.035202147132531225, 0.009823662018981771, 0.003991016383216195, 0.0, 0.012422360248447006, -0.01619631527391674, 0.022698923520791503, 0.060975609756097615, -0.031034447680944655, 0.004151820420530861, -0.050206732703964585, -0.009079643570636398, -0.00401656460623534, 0.013232552891607963, -0.0023632144005009126, 0.03839922536105522, -0.03097612921953674, 0.023045479264655278, -0.0008477618394444608, 0.0060606060606061, 0.035060285085655174, -0.0030264477377170973, -0.04343258790928506, -0.011473238592760726, -0.011482903194294458, 0.004871339015005471, 0.016283470946941936, -0.0013454086041763125, 0.09614204932541304, 0.002234602773655725, -0.026198423122322567, 0.0, -0.003090974788584666, 0.010564976453838693, 0.02443183552135131, 0.02029952079955688, 0.028266996947495793, -0.014379367562086576, 0.02263463401331678, -0.019091573060594946, -0.05357717914423332, 0.003050809526174092, -0.012166207530712292, 0.0400273053838871, -0.0323464588481992, -0.00770538589434322, 0.031175098394969458, -0.007973435175748889, -0.00457695527716806, -0.023214082509033007, 0.0006889229510849137, 0.017668577574903033, 0.008906436783626237, -0.033634982441479666, 0.03260869085752782, -0.020492740968822032, 0.00011434933223841703, 0.019661562932167698, 0.030269110650344544, -0.04189334505110909, 0.023736470930751263, -0.009318796800292461, -0.004031361680278067, 0.03294355998141674, 0.0683574462996357, 0.05960263253361875, -0.012307680570162294, -0.006619940586982009, 0.014112136696258215, -0.006957877825145009, 0.013623992767369808, 0.0069123806259090426, -0.004576618422092782, -0.012643675052983805, -0.011641487740788992, -0.0007851806420958729, -0.032220101280583946, 0.029638711914687477, -0.028785545426484815, 0.027608620720497745], \"yaxis\": \"y\"}, {\"type\": \"scatter\", \"x\": [0.0, -0.01988994202483263, 0.005613172235394481, 0.03370544510750739, 0.007476568727849742, -0.020202011464537706, -0.01472747667199803, -0.0040572802472165215, -0.003430528505702024, 0.011187617531948302, 0.012765924981299914, -0.027100780297953375, 0.004534637837298128, 0.027730028005880092, 0.006483947912349075, -0.017040725540849677, -0.0023255943366989884, 0.0031786719695732213, -0.02133498771182396, 0.0010791978218103182, -0.016601993101138968, 0.014470507313747216, 0.029608794431185137, 0.002728821783811286, 0.002302713194420214, -0.012113655349120789, 0.013107800039856787, -0.01585973185670375, -0.004452906809841339, 0.025133126432390407, 0.026179062820921528, 0.010528456452515211, -0.002203979376635079, 0.000803231247794356, -0.0008025865851701841, 0.012249008427646757, -0.0009918515614339984, -0.0009928363076759927, -0.0059630897151412565, -0.00839828400403031, 0.004839719252436092, -0.015251898621380877, -0.002445464288384991, -0.008171634722052068, -0.016477842422907174, -0.016753910723780963, 0.012140568382570827, -0.0014730575368246956, -0.005057991034938869, 0.003600974093187048, 0.03250310397030454, 0.024121021041346946, -0.010978029018197444, 0.015539868206249308, 0.0021860216816111944, -0.007733479819321154, 0.004996003106035651, -0.023463914967069566, -0.009163118659065828, 0.02383887897759207, -0.006423117157454694, 0.026262610849707935, 0.013779542784496446, 0.011650455808176474, 0.0019194297840148256, 0.00038315052627124757, 0.0009574729201791143, 0.007269964889751179, -0.0007597514599818611, -0.0015206582422836457, 0.013706477011891316, -0.004131478323063376, -0.01093716820117785, -0.004003795641906671, 0.015122455502441401, 0.01904586384084106, 0.017394496868686993, -0.01855220928076029, 0.004447770247199001, -0.009594104251733349, 0.017511151664773017, 0.022153111000219328, 0.010567729151720107, -0.017546931866340265, -0.001984495936242947, 0.003253801629948816, 0.0003603686083544222, -0.006123922006206484, -0.00743022553723427, 0.00547743718373539, 0.009442536056751383, -0.019787704103287118, -0.01027713995304047, -0.010940110314282103, 0.003936990698761189, -0.011577944737965251, 0.0013224956436921342, -0.014339590972324623, 0.007848388863683775, -0.00493831203599604, -0.01985113433180985, 0.0021421735855942092, 0.022541777459186285, -0.011022387459722838, -0.012874749651333284, -0.002335973026666438, 0.0019511897389481447, 0.01947419726806765, -0.005157529148733131, -0.006720473819370243, -0.0019330847671756857, 0.010652706288635239, -0.010348810125893837, 0.01878391231928589, -0.007413027658693783, 0.001531942062186209, -0.0007648358721005222, -0.0001913188261448706, -0.011291868949050543, 0.013937305900692865, -0.016609444995059675, -0.0009706705239717062, -0.004275114844925265, 0.005464456872072088, -0.012228281492965287, -0.004716012313774054, 0.0015794277186065298, -0.010053189949441932, 0.015531636008310423, 0.009803921568627416, 0.0038835099599892065, -0.006576405175444666, 0.0031152617895386925, -0.014751594128061485, -0.012805313882484848, -0.003592103432116023, -0.011415976193477784, -0.02269041568143504, -0.009535714825135488, -0.008999588031846306, 0.01752907830627115, 0.011623108545951055, -0.006360306988417275, 0.019409428469661538, -0.013773553167663266, -0.0020537785364864725, 0.003910241327687469, -0.0049200055304510215, -0.030696366921372786, 0.01764084685469891, 0.005639107179207459, -0.02512986211474122, -0.009160637361653068, -0.008815305573173782, -0.0049891442483546156, 0.0037061693394633277, -0.01933100286599443, 0.00044289351917203845, -0.01926054830976054, -0.031602657681547464, 0.003729600040121017, 0.03715741809319906, 0.03672188524970332, -0.010799136247064522, -0.010043648299898456, -0.025805072335796986, 0.02082866248089199, 0.016189832330138598, -0.01571368890219471, 0.0053215451571360095, 0.007940022257168167, -0.012472640816375336, -0.005539552273058135, 0.02718354226761832, -0.004338328738871078, 0.025925895144863098, 0.0006370520110359212, -0.028225764993756286, -0.012666560809305616, -0.005972140305935292, -0.023364469718441527, 0.002506279605406281, -0.0031818043101917715, -0.025307811101342947, 0.004678380419636197, 0.011175774940858973, 0.013815299790582491, 0.03247786383878282, 0.014738275343947782, 0.001300619059279029, 0.02836114769948339, 0.0018947400544819804, 0.004202579581806809, -0.03892028823433713, -0.0137165483111098, 0.010816814276365827, 0.0013102764226720076, 0.0032715710113615515, -0.009782625281292479, 0.0002195858704281406, 0.01624227044477977, -0.0073434159436387425, -0.003916455804207963, -0.005024018094564653, 0.011196534462629026, -0.040816348503311284, 0.0049796563871311594, 0.05022521318916051, -0.009650455771641586, 0.005846696751394598, -0.019806285651917666, -0.01691193671004032, 0.0037980784186222305, 0.018918283292848947, -0.009829553522087475, -0.002426662384915179, 0.004865046441111742, 0.009903186103420225, 0.004140388841432641, 0.013454837396879693, -0.005139222153016765, 0.007102923752854373, -0.02949350376390525, 0.005285216456138553, -0.023220182647531784, -0.01995961844814631, -0.003890205507427358, -0.0016080794116061226, 0.034744642614821464, -0.019346291371268864, -0.0034013087612613235, -0.02047785006269731, 0.03716613977175087, -0.007390858225691632, -0.009025305248944293, -0.011156600277729356, 0.0016117820477168365, 0.0055172799647540405, 0.0, -0.02652034300179673, -0.014795703171054386, 0.006674583413696533, 0.012313532166714714, -0.005847953216374324, -0.001882396024816213, -0.00683632987618521, -0.024448197671033567, 0.0019465166429402103, -0.016512877613804045, -0.025432068624614, -0.003293667699382996, -0.015760013459074074, -0.008780995399507163, -0.016414826747845224, 0.0137748465632761, -0.020642824825654826, -0.019477042453367344, 0.0027210469148597483, -0.009497923707293854, 0.0027396842224958196, 0.0071038837997303705, -0.01112316442276362, 0.028257853435880387, -0.002134418818956263, 0.04786088309626102, 0.0028068541517274337, -0.04529259068326663, 0.023454185964252527, 0.031770764518946004, -0.006814751767860172, -0.004828427803725055, -0.024514787748041722, 0.013874313317058018, 0.008262321162055386, 0.017669717154601194, 0.01409153334025115, -0.002481351762139372, 0.001243762092329126, 0.04248444930366846, -0.015490889546329267, -0.01040910895378977, -0.00684937834340027, -0.00862065239594012, 0.02981368355129077, 0.031363069074364924, 0.01754385964912286, 0.050574730182516126, 0.0, 0.045295397380012536, -0.001465348422722168, -0.00943397810779667, 0.028571396277695005, -0.0028806459679825425, -0.02744527530921026, -0.029068591460501114, 0.011800719740700627, 0.07019438560591928, -0.007063541463373291, 0.01036581938261616, -0.0028163225151249804, -0.027637662705650712, 0.003734446106361533, 0.02315003942037741, 0.0030303338561392668, 0.0006042050025165668, -0.020933995755611945, 0.009868411765204366, -0.03644130984840377, 0.0006338216382062445, -0.01140204621131935, 0.004912420840142762, 0.0, 0.03294366125812043, 0.04012347374821035, 0.01899108009815431, -0.011842298884317759, 0.01591350755032761, -0.009862663518908188, 0.02031251757871333, -0.005551319031578128, -0.012512059987159985, -0.01851853366604228, 0.023237378730883718, 0.026203386299032294, 0.0, -0.01361826027145363, -0.004218623475858219, -0.021760082061902386, 0.004330732756047562, -0.013524081154804968, -0.0003973863905429864, -0.015702661378712457, 0.041599381143948344, -0.006785619937834775, 0.004294382640424255, -0.023906696287598783, -0.0021903745057302304, -0.01456794119626359, 0.0, -0.0097205251489203, -0.012678992377002207, -0.011598955525116805, 0.0027241670178661526, 0.0016719296469351885, -0.006885078843178238, -0.0018907595687596146, -0.010313573586203328, 0.009783051467340043, 0.019376621577769315, 0.014462746408549387, -0.005091649852734026, 0.0020471298248114778, 0.026557695950942373, -0.011741296568913318, -0.03463554623415421, 0.0033375021275654504, -0.020790021449543894, 0.006369491751101464, 0.01265819524907652, 0.00041667620340990474, 0.013744269910880291, 0.013763314805774085, -0.015805446877691365, 0.031706833955188474, -0.030732406640785692, -0.014823990636752105, 0.01671897758137808, 0.017677220322322773, 0.007877261514187328, 0.016232415507516196, 0.005915977962468677, -0.014899006989623431, 0.002985104992615062, 0.0, 0.022817414213591958, 0.014548981786614679, 0.0049713602298915305, 0.006659027111421301, 0.013230027687737511, 0.006342103128464505, 0.017238188916108843, 0.003097634213496514, -0.0014531883281763136, -0.0007276862768612613, 0.002184579122848751, 0.000908251367002455, 0.0, -0.0009074271950121338, -0.000908251367002455, 0.012363641912287004, -0.011494241848790776, -0.011627895694091395, 0.01636028243905585, 0.009585797983736821, 0.0, 0.000895722632280771, 0.0010739462043691805, -0.014303580058921073, 0.024668974859464177, 0.0003539855279208748, 0.012918127386590816, 0.0, 0.004192834673864443, -0.0024356191851665487, 0.00017436905313217288, -0.02266781641933535, -0.0008920470605019437, -0.0017856870378767375, 0.002862251217257139, -0.0017838438524550027, 0.01590420665134329, 0.0007036221037992618, -0.016874654504695386, 0.005721432023568118, 0.02666666666666684, -0.0012121159276922144, 0.007628270186911035, 0.002925016978094108, -0.03825698245343989, 0.011594678830873395, -0.02715572104371622, 0.0001812966569227914, 0.015585367988316223, -0.011420402912076133, 0.0019855016719254603, 0.007025819062120187, 0.013416815376164015, 0.009002617966395565, 0.0019244333562842275, -0.017635797593110403, 0.006932158122664234, 0.016769583806775623, -0.01979165659458526, 0.0017712059943315595, 0.017503497873623264, -0.0013900611193387036, 0.01252823021946381, 0.011685862196664232, 0.005945342197531289, 0.008949658364944213, -0.012217565560440735, 0.0045747281543466745, 0.010288423021288962, 0.014691105692840267, 0.0176044704888787, -0.008730753664545565, 0.007502839245947968, -0.003723482929121724, 0.009587262655353923, -0.004184808172551069, 0.001939595097038005, 0.0019357788132865483, 0.0028980889294305534, 0.009792913812584292, -0.024642337267990255, -0.02265687733040067, -0.007671766035629912, 0.04537816408301598, 0.0, -0.015916425503593623, -0.03234764861708039, -0.03038999241890894, 0.011143990706034446, 0.015154142805922532, -0.02205257371053071, 0.006591452616829585, 0.018438733712431876, 0.016074463408919604, 0.0013322536564714937, -0.012472974998793074, 0.0037049074107207147, 0.020973154899370572, -0.027280195382717864, 0.013684767563510558, -0.03666667938232415, 0.010034633887724853, -0.009934940398133252, 0.022664383920113496, 0.006767005702104534, 0.004873146088165914, -0.02056855448041628, -0.022537129959057656, 0.009432330402224132, -0.0254369475240509, 0.004971569261613684, -0.0031802174916680803, -0.021623492477838457, 0.009239099900078429, -0.00017947086156022696, 0.005026907997516261, 0.006788157756745461, 0.010645820930152539, -0.002633386825712236, 0.018130588882208976, 0.0069156556850562545, -0.010473911276982495, 0.03678637675850571, 0.0, 0.005020907733230828, -0.003330570615828199, -0.0018378746609636343, 0.008536965303049815, 0.0036514725427905237, 0.02530178184903087, -0.005161285400390514, 0.003566816141611584, 0.006138889241531276, -0.006101433218786534, 0.0032309683895337393, 0.0075684578462427154, 0.019657975838828, 0.001724147518291197, 0.00453758569116669, -0.0029594208885225237, -0.027339536889450344, 0.002088035201091021, 0.0051290222464293045, -0.0009567462840006646, 0.007023122362211698, -0.017118431263950185, 0.0, 0.01386874106805025, -0.0006361873947766661, 0.01846251493882267, 0.010782913089705026, 0.0057205124433561405, 0.012298161181126588, -0.003796507301336516, -0.002743907154918568, 0.014215841198498502, 0.00813867261410639, -0.0061294070332772455, -0.01744891100382906, -0.01255357775038679, 0.0051163074582123436, -0.020515221247727755, 0.01732281061608032, -0.0061919742310700965, -0.005918960614971991, -0.018646170987141053, -0.004151399198407901, 0.002886007828416748, 0.014708265305581225, -0.011343961034434025, 0.02167331649962656, -0.010762789499877745, -0.01907914095565455, 0.009644788581392616, -0.02913551649487589, 0.006395529560119462, 0.0027701154733807964, 0.005524864275751051, 0.006464087011591291, 0.0035324538377519143, 0.01567999267578135, -0.005198456501844473, -0.005859109067960944, 0.004778640611518226, 0.010145836573729472, -0.018204642579875085, -0.0089514284047012, 0.00435484609296255, 0.004335963638651297, -0.0019188158750448325, -0.011855140747788151, -0.01426720271986437, 0.023848697058134194, -0.004819264852378269, -0.012106537381169291, 0.00506531952171918, 0.012680907417958354, 0.01139828341687621, -0.0031746152847532683, -0.005414015234370351, 0.01168747282959548, 0.021680629239730687, -0.009293657013796253, -0.02032519161458446, 0.015959144628713062, -0.0037700546503621757, 0.011825922763385677, 0.01605109566288454, 0.00230063700766725, 0.009028370023892007, 0.005004461471674659, 0.002716165901520684, -0.016854705321655006, -0.0866371269473758, 0.015753351269507165, -0.01781887180628461, 0.02032593522563153, 0.007079296651237188, 0.0019617909134246325, 0.010768475078369644, -0.0033898156882393726, 0.0025915102536822054, -0.021647820994441402, -0.004953815141261253, 0.0014935306188970099, 0.001657038796135879, 0.008271298489487267, 0.0039376187164128496, -0.007844411717747746, -0.008071122898350547, -0.009465288662735438, 0.0028499273193072217, 0.0011701721026635692, 0.0, -0.004675217601442738, 0.008052332449615562, -0.022466275098901867, 0.0006809175976707493, 0.009697170919727549, -0.004212300024051596, 0.01962774750188978, -0.008463297971101347, 0.003347293103589166, 0.0025020468602625634, 0.013810346957197961, 0.0026259617037704963, 0.0009821799499287742, -0.0016353603650530735, -0.010319427944116888, 0.0013240952247464133, 0.007272704573702216, 0.01247131856510042, 0.016207455229087397, 0.007974481561658031, 0.0022151801892149603, -0.004420568023718707, 0.0009514360495899155, -0.00047526583974200065, -0.005389129050016983, -0.00350599554905362, 0.0063969540010822, 0.008739857530484008, -0.01055447658753561, 0.003821013509348159, 0.005392548084093285, 0.005205897369176871, 0.008003799850285986, 0.010742562290979807, -0.00723969861305318, 0.004034168324930532, 0.014217248987198117, 0.00045720569780849374, -0.0033506123733297866, -0.010849618856728416, 0.005715975560008468, 0.014132076659126191, 0.0009088941387365157, 0.005145222888460088, -0.00933446453296305, 0.010182342520839605, -0.00030095188947720786, 0.020015077383534585, 0.0061964912438678965, 0.009384155693351826, -0.0027599480261324416, 0.0010196604991747904, 0.003783500168975218, -0.006523696082010866, -0.0017509867112933675, 0.016079497372258444, 0.004747434779434956, -0.0011453924091451295, 0.01705841134706154, 0.0, -0.003382633884320141, 0.01725358841039837, 0.002363383403643393, 0.0023578109922752777, -0.004151036893566218, 0.016256747938038663, 0.0049220756543035815, -0.0006803136293579426, 0.00013617612860516992, -0.005309003464592621, -0.0034213767762983904, -0.01263386669597455, -0.0006954527217890583, -0.007098150968147365, -0.003644442391116942, 0.007034327337081647, 0.0033528619395117865, 0.03258150901181067, -0.001887904694299558, 0.000270254976603157, -0.007158276239104144, -0.004081118800701944, 0.014069099742897384, -0.0014816892984480523, 0.0, 0.00431673690382417, -0.0014775099376838075, -0.008474539742435616, 0.005155301290703962, -0.0040490678524957024, -0.0025749076981821384, 0.0, 0.0035326377937614506, 0.002030889854310214, -0.012971207360669812, 0.004380556898779364, -0.01390219755046218, -0.008016611517443928, -0.006966699503786367, 0.0, 0.0004210244156694909, 0.006872340011175648, -0.025351715721048218, 0.028011991571792905, -0.01988044347433271, -0.007517713181516172, 0.007288868476960753, -0.028660672194224857, 0.0, 0.024978076356131806, 0.010545895859686016, 0.0, 0.01537154536170271, -0.001388867696126228, 0.00041722918859865565, -0.004170763943903699, -0.0005584380435731395, 0.003771536335699377, -0.022404684061742675, -0.012099622407417798, 0.003890441457205851, 0.012343916075124861, -0.0075145156453972906, 0.04257147652762283, -0.04083314908001401, 0.0017143249511719638, 0.004563600717197858, 0.013628606632590579, -0.014285773818803471, -0.005399222339405929, -0.0007143293108259341, 0.010293084376199024, -0.007075138148506577, 0.01040335436771711, 0.02313116155646089, 0.0022056249061970234, 0.0, 0.00756537929636214, 0.005460771684353549, 0.002308189618781986, 0.0, 0.017339457932653124, 0.0026631768535341216, 0.009296107833635103, 0.00578950580797688, 0.004186285774513188, -0.007816551034694363, -0.007353008942499462, 0.01402123292834645, 0.00013037446332497815, 0.005217184497611438, -0.00012977989191742534, 0.0175188962663686, -0.003953643330054879, 0.004097307312115328, 0.0053557533633254994, -0.011795950266099808, 0.03747911733657672, 0.0, 0.02251638814296042, -0.010526348826619514, -0.0020787255011349703, 0.004778818609627367, 0.00670735428972935, -0.01586923245983307, -0.02511079479529532, 0.024621270868369738, -0.014664231904256475, -0.0157579058361339, -0.00673441931192742, 0.0413202434769504, 0.001965553190609981, 0.00367831119100126, 0.013193279049623197, 0.001205672427990745, 0.008550085219711345, 0.006447772125699469, 0.005101439085363202, -0.0074363181507903775, -0.018908269795870902, 0.00024238355232020226, 0.005210861884007434, -0.0006027175913517757, -0.0025331614066026464, -0.0010884504127198769, -0.005568996282933059, 0.01533969010948466, 0.006594669212237614, -0.005360297374633949, -0.004311384555108599, -0.012869854494579669, -0.0007310534765059273, -0.011218214539387317, 0.0038229769637248, 0.008476594583261221, -0.003654469920165049, -0.0025675398229857427, 0.007967657652484528, -0.015201264124654945, 0.0004938661950475431, 0.017403156264263364, -0.007036295388904379, -0.0012217284787452432, -0.004281326900563931, 0.011916476689435296, -0.005220350744660207, -0.018550210241302656, 0.014175570947583704, 0.010912204711740703, -0.00024253054950329478, -0.01370856786648611, -0.016236157998467338, 0.014128497199169088, 0.019602962962962822, 0.002418435127172991, -0.0019300803276756096, -0.000483453185401439, -0.0026601402590894496, -0.004849678826368331, 0.01742203061982317, -0.00047899550358165843, -0.003474313062013179, -0.01767253204267727, -0.01493086812351907, -0.002857444821011468, -0.005482213178357731, 0.005011294505239849, 0.01408622832489237, 0.018684748629030246, -0.006998935825166419, 0.0012151959291353265, -0.0021847348769175046, 0.014718393114557138, -0.03164708040752784, -0.007056198358971755, -0.012591972918074679, 0.010101049022522401, -0.02187500000000009, -0.010223681172623733, 0.0, -0.061458937306568484, 0.009767492923734133, 0.009128040259087644, 0.0074254496290520056, 0.016483458620556002, -0.02307185280428281, -0.00850198740068786, -0.028583073897232136, -0.013591161319516432, -0.007670467383851465, 0.005868823778024446, -0.007399981043228032, -0.013620027931787737, -0.010029104808137346, -0.00866251595944778, 0.019105464746195677, 0.01017300686634437, -0.026614852787593457, 0.007685436224083464, 0.006160137387289488, 0.0058309261629181375, -0.01449275362318847, 0.02058825773351325, 0.013688716532491263, -0.0007106669999671356, 0.011379735243742362, 0.014205374935388981, -0.003328218856443632, 0.008070045630932388, -0.0013802412468357783, -0.008154752596182258, 0.02090300941118106, 0.010237509938988865, -0.0008107713316618526, 0.019202242825428595, -0.009420181220636259, -0.00013396913661745113, 0.015405244505992899, -0.007255976643988582, 0.01661129568106312, 0.011372584922640927, -0.009693679376703068, 0.0066561535963751695, 0.003759897910724952, -0.012529078321422804, 0.00013083239541833436, 0.006408551787035588, 0.022222310353272157, -0.0053395090107548615, -0.009585889832280925, -0.015098699202472865, -0.004716989148205841, -0.02843596707146856, 0.014769597463650141, 0.013486475423447164, -0.019894625900838903, -0.003360666783857935, -0.010655529026584398, 0.00449900256195801, -0.01587945391014245, 0.02261756090652489, -0.015104554599248976, 0.008900472911731239, 0.01927250492757615, -0.004127797135715872, 0.011899978322685856, -0.025634281627686217, 0.005153307483335423, -0.008634637964553327, -0.01918894389892989, 0.004856368469587036, 0.02319801639951158, -0.0013495071009483883, -0.025270307386243696, 0.006100131126587582, -0.0075789314326956125, 0.010969188452515821, 0.017305345124019267, 0.017280934043075513, -0.0010617363327772855, 0.0007971992914099779, 0.015531636008310423, -0.016993503944546462, 0.009042557616641966, -0.00039534502349403144, 0.016084393477204584, -0.005968588118517304, -0.010573000289002765, 0.03931392622114083, 0.019167328758924684, -0.0051065345302553355, -0.0053830786174366985, 0.05273760355379031, -0.0076518339827683635, -0.02734935714537834, -0.007184464349522135, 0.0038677174384538215, 0.026597059582386118, 0.0014528177820682942, 0.0, -0.018133462014802038, 0.01723715223882616, -0.00399421229828445, -0.02600558228022376, 0.010979379122455057, 0.02073306590749957, -0.022971847985857274, 0.03650544074695361, 0.003820435609633188, 0.013915296663483012, 0.009970656587930726, -0.009523806148157843, -0.008091023115419649, -0.0235252151545271, -0.0009685451880456775, -0.0020600845353959674, -0.008621725532827806, 0.012371412834166984, 0.03206293378045677, -0.011723329006134042, -0.00023729859711463241, 0.00023735492110454892, -0.015065293315365547, -0.008310278833561724, 0.026111265745703438, 0.017871963243095035, 0.00441857271416235, -0.0001157039494528167, 0.0013893147316386134, -0.014568095016264881, 0.009386312224029636, -0.005695662800444423, -0.007131173764587162, -0.024373009388745537, 0.007723864167682448, 0.004790437435675532, 0.004529168611525636, -0.0008305611751077135, -0.011518836613809924, 0.003123524061785732, -0.011976047904191711, -0.0009697191642991099, 0.00024271139171738731, -0.00363904709938645, 0.006208937667641967, 0.02359342906523265, 0.03900712897491676, 0.0011376390487507493, 0.005681818181818121, -0.00022595076911191558, 0.003955678806986107, 0.016773588124014083, 0.0011071576002987804, -0.0004423901386574336, 0.00918346820400373, -0.006578209408437896, 0.00595961717128235, 0.008996156676875255, 0.0069587841812963624, 0.00032392591619867517, -0.013385123833540291, 0.0185995286636933, 0.011493015170366938, -0.022193866183803923, 0.0011946199844063976, 0.01442666413319027, 0.005132628038531761, 0.003829793727144315, 0.0071004468483630845, -0.0024202434020149655, -0.0372363533233655, -0.0029582190533248287, 0.00769227415650775, -0.0077426293140818725, 0.016045709624684212, 0.0016225152063862325, 0.01879047400044831, -0.0031799388807352003, -0.011271773163272325, 0.008603951317276648, -0.0065045917924050345, 0.004400597511721838, 0.009190004205216429, -0.007094512717272905, 0.0037326022826675853, -0.002974993630688094, -0.021206286673372432, -0.0083831971242041, -0.00032936735500432857, 0.008786330538709919, 0.02939580427317523, -0.0015864782764395402, 0.009639788326331722, -0.003777154753678791, 0.006108497627133502, 0.008897712603187946, -0.0033201878392130624, -0.01780136506280494, -0.014202399147448364, -0.029674250863772178, 0.0011080163337517934, 0.01726624476297145, -0.04145365070373708, 0.03314413416026385, 0.008679421497073125, 0.005881722360167707, -0.005630716314652839, -0.0072960705171056794, 0.018758216496029156, 0.007429684414832494, 0.002351445344633829, -0.011516334454176769, -0.00226536236662378, -0.012001304313862149, -0.020463943679069674, 0.0033515296079056345, 0.013250222400127187, -0.01098901098901095, 0.012888929578993125, 0.0004387152756273327, 0.012829011375996568, -0.008336085845677355, 0.01419217329053879, -0.0029063968571167997, 0.0009716503287693357, 0.0017255827287359082, -0.0077518692140367, 0.004774249072568404, -0.010691121815150084, -0.006876948468732658, 0.012420281509385678, -0.00803384929829598, -0.0062383679291896366, -0.027422967064711368, 0.00509573762968496, -0.010027032089098498, -0.01490844596609775, 0.0020794860241757362, 0.02409504287246622, 0.02656760735905439, -0.0025222431272701185, -0.00582672366569259, -0.001990493249677483, 0.013850415512465464, 0.014754081684383635, 0.0022617026163032072, 0.009671196534388748, -0.003937875161635462, -0.0011752642938452906, 0.003423188739118288, -0.012366776379199806, 0.011334229907984161, 0.0056569406071727, -0.003927008509746588, 0.016728819609487244, -0.007964729840911677, 0.005070734301388713, -0.006621791648723674, -0.0027510541779027786, 0.01612728533757468, 0.008979854239284935, 0.016454558754827264, 0.0009162730276128794, -0.019835184586185828, 0.005085075349375634, 0.0022715665892543146, 0.0004120831941185621, 0.0035011464911307577, -0.0069779407539332095, 0.033378148899264604, 0.0, 0.002699966430664169, 0.0028922003115217088, 0.01392205210688413, -0.007355825880094535, -0.01146127895670368, -9.997137356676511e-05, -0.001399434110028186, 0.0011011071939082129, 0.00689925804692848, -0.010923520431549538, 0.004016079638623937, 0.0009999847412112128, 0.002897112087392406, -0.01583819451695878, 0.0035424945679176645, 0.004135108687899125, -0.004419393559675022, -0.011501204177355229, 0.004592742731421184, 0.0035558109624702627, -0.02338527624154918, 0.020420868620040222, 0.006196674067685537, 0.013225618558631025, -0.0011957228562399225, -0.02075014211878723, 0.013854858702312844, -0.028838376346423056, -0.013140240583658036, 0.008073016299372515, -0.003952208806884072, -0.002401542608341689, 0.020828949599121405, -0.01209884466261546, -0.024182686745765736, -0.014571316380583288, 0.010793307971189492, 0.009930595729021885, 0.024106563069955733, 0.007743134372021121, -0.008708108480750543, -0.008887976347300652, 0.015328479638307968, 0.010989007544849327, 0.007009292918520815, 0.002017598942582799, -0.0014094370992417948, 0.005645705663981149, 0.006115294339364308, -0.007772008514878803, 0.0022092911895739142, 0.009619229009189656, -0.001290242954111509, -0.0018880534353314937, 0.0031859785647747607, 0.00019845814452601473, -0.007739618860336028, 0.004499969482421928, 0.009756131276325908, -0.0018732371175648188, -0.0022717871630983932, -0.009405054524753487, -0.029082511530252653, 0.005867212412471012, 0.009926332466086762, -0.01915086982362324, -0.006714891584573057, 0.014040545529869108, 0.0059487367287660575, 0.019269977104038105, 0.003801112821625763, 0.0022920115638358496, 0.008152711074728147, -0.0034516614285433622, -0.002968857424023419, 0.012406947890818865, 0.012156841801661988, 0.0015498224081766931, -0.0038684866535401152, 0.003592259675553766, 0.005610856014796273, -0.004328975098154886, 0.007632859087220778, -0.010163942365407963, 0.010074525354192732, 0.0034525810102774557, 0.00038230829186081117, -0.00305722461471436, 0.009199799698231148, -0.018136891814589107, 0.00812375556571343, -0.01717192010946378, -0.0007808121429283554, 0.0017583305689787831, -0.005363267044275144, -0.00039216583850343323, 0.015103971453074072, 0.010628004580880202, -0.0033460657669864835, -0.007769760753897015, 0.002320164908208522, 0.006751513755611116, -0.0002873996942538426, 0.004408232785808375, 0.0018128274576096892, 0.010476175944010402, 0.003204561471959577, 0.004603512331177395, -0.0014963402380316904, -0.0017794775497358417, 0.0015950287673553998, 0.01030443535476433, 0.004265174696159502, -0.005447293428027855, 0.0064055183214539735, 0.01614242174047309, 0.0059912491900349085, 0.00018044254756777178, 0.007488288149383182, 0.01020864518976472, -0.0056732506293695195, -0.008380091177285554, 0.02706099447985233, -0.003851495275204786, -0.010632747639882423, -0.0031086107603265356, -0.002583757315099966, -0.002590382260277413, -0.0034032318677188478, 0.016175440973249744, 0.0021223723017629315, -0.010060001700657573, 0.001515405317194407, 0.015576324199088276, 0.0027169604919723422, -0.01538328887243412, 0.012871699321806762, 0.009728313980681857, -0.01050255267848299, -0.032543851618181296, 0.018224699605995598, -0.01264475298086476, 0.0027958621542869544, -0.020595385063815308, 0.013957728390896262, 0.007154509406154919, 0.005035496476970547, -0.007336492077054002, -0.014420896963769247, -0.005121148298198319, 0.023071992969090793, 0.010332379739016018, -0.01378386362319528, -0.007394045838970076, 0.006540708654857452, 0.0030685589217158693, 0.008457822985140417, -0.016773776339211066, -0.006805807810977171, -0.09365007113565393, 0.014112919041815442, 0.023757449561624622, -0.012039983391491371, 0.013267798271460407, -0.041804050653556524, -0.04443768953299443, -0.12288133778198151, 0.07041055539594443, -0.0741283978159083, -0.14574700755910674, 0.13395149206907542, -0.1284438213468141, 0.02482680789563041, -0.0843661670953455, -0.00015385534382095223, -0.0035385131835939942, -0.055890000074208857, 0.10220768346759512, 0.0642433491547052, 0.03959286497950654, -0.05833443062791155, 0.025348885621666595, -0.03680557674831786, -0.01687091845260713, 0.021267188937400316, -0.0392071784464284, 0.06786249345257711, 0.028975358679781626, 0.03019998852113992, -0.011356141188825442, 0.011753669308608883, 0.0145214320015985, -0.010409830035750467, -0.014727188713191675, 0.014279990530712938, -0.004473636024876715, 0.026962637951264856, -0.013513455130026664, -0.0553163441534702, 0.039773472003358235, 0.03997877672504724, 0.024010181100188044, -0.03704167135693326, -0.014376384192637426, 0.005781898163320864, -0.004442173546096551, -0.01049862801053214, 0.026923060188535075, -0.016660220979504592, -0.01497241133158489, 0.0020000203450520893, 0.014637371281253975, -0.022163966444672, 0.046539717466811625, -0.0048698867020716685, 0.010302580896880853, 0.019375453557554323, -0.00037512540751483137, 0.03327490557264556, -0.0018159991361974548, 0.02704673668251889, -0.012163424369212361, 0.0059772862029812135, 0.014022582100760905, 0.0287120226845059, 0.0181135109295556, 0.01051801256711582, 0.008194059496944517, 0.03185056341882708, -0.010643959898699262, -0.019150068184381475, -0.021059539404480354, -0.0020168101420254825, 0.01044122946404169, 0.02166663275824665, 0.0073953271097824125, 0.00010797945079410454, -0.009607074649310543, 0.005558606389433063, -0.016150070005027106, 0.017847337297503207, -0.02348737074662699, 0.018066916774147845, 0.001742010503728686, 0.00858603300929861, -0.002155221670899654, 0.03909290287508704, -0.008418182792742201, 0.009747328792427012, -0.013390007630978862, 0.01630715804942451, 0.014803316022400148, -0.012343151071508407, 0.023858681738017085, 0.013820264143453498, -0.0020895431290810507, 0.0008973610237217322, -0.019725002806489034, 0.001930841555543461, 0.018967469480099197, -0.004081186904751233, 0.014292856187480885, -0.0016752640196698865, -0.019938769042987303, -0.0009064756416077291, -0.016129017372409016, 0.01424179724774266, 0.01192039933973632, -0.01337722234586236, 0.007184044028313963, -0.013461964586702235, 0.0013238786848539519, -0.01850909855520222, 0.009947146028631781, -0.016825683483218334, 0.025253032690239374, -0.012722646310432628, 0.006907197617992855, -0.0007166959776444548, 0.00922132725358149, -0.0015228581307503708, -0.017488573943961194, 0.0024837576320597687, 0.014762054966765525, -0.020854557356203007, 0.02181816596489461, -0.0020335226369607717, -0.012124324227264394, 0.004744215024918619, -0.006364146261964798, 0.007231373204274805, -0.025230759840745187, -0.0058922301472984495, 0.021486015105522505, -0.0005181126375610745, -0.005701797922283203, 0.00479615334072192, -0.017951679024881706, -0.015109893431932808, 0.005793379689210898, -0.01706665039062505, 0.014433009322101675, -0.024925136364812306, -0.013494276866077515, 0.012566780536287236, 0.009445366079369633, -0.019584408443450774, 0.027410955542923165, -0.004644634874391929, 0.0004340848059138924, 0.021043440293265325, -0.005099285472693671, 0.01388142446537044, 0.008109576589882872, -0.002716278028778718, -0.009637525432314442, 0.0030674943168920166, 0.020984897451703288, 0.002788645361675668, 0.009063805912093326, -0.005409806805073969, -0.006876085607066207, -0.010023701818306363, -0.03517748057650161, 0.005193155418681927, -0.024216983223708577, 0.01930288913865774], \"y\": [0.0034252907778759356, -0.018815237385892993, 0.009701825673428366, 0.04111403317088921, 0.01178543768793187, -0.019164187078865805, -0.013042673748912489, -0.0011114773783038323, -0.00041065634315746655, 0.0159350568945454, 0.017699888146168227, -0.02687824991240006, 0.00849583047110412, 0.03443244344211639, 0.010675509304253155, -0.01562930153059576, 0.0008248585454300188, 0.006979617048631919, -0.020431058048383535, 0.004632027807088188, -0.015138719850188515, 0.01960591740079981, 0.03653324180256269, 0.0064766037309749915, 0.006000137782942359, -0.010119951969536151, 0.018082165875225018, -0.014308738440935286, -0.0015538589446958736, 0.03152864098197729, 0.032698185753781764, 0.015197996397672716, 0.000960845917392194, 0.004323447603385333, 0.002527854800985962, 0.01712188258157241, 0.002316222558430653, 0.002315121435234723, -0.003242514718344255, -0.005965499385603082, 0.008836966297299445, -0.01362907169418483, 0.0006908224063033341, -0.005712064773634799, -0.014999897089804502, -0.015308591042408368, 0.01700062713127595, 0.00177814783529225, -0.0022304518041889945, 0.007451826684141492, 0.0397695997939074, 0.030396925342680754, -0.008850117730457682, 0.020801654975963806, 0.0058696557094470424, -0.00522212888331828, 0.00901171972006879, -0.02281158115497633, -0.006820721922939113, 0.030081439832100085, -0.003756908037042965, 0.03279160745832628, 0.018833294933937872, 0.016452593230492037, 0.005571558078024985, 0.003853721894460363, 0.004495917500704147, 0.011554417483135047, 0.0025757521657424833, 0.0017249216957161114, 0.018751594274810608, -0.0011944441558595, -0.008804427996893637, -0.0010516719817251661, 0.020334912590120536, 0.02472198790382436, 0.022875462981476358, -0.017319411871017612, 0.008398696900694199, -0.0073026412367276266, 0.023005903999079664, 0.028196448406206085, 0.015241910330234372, -0.016195331136146917, 0.0012062678312131409, 0.007063625505038261, 0.0038282476177419473, -0.0034223541112702767, -0.004883036120095728, 0.009550049502564436, 0.013983742323153876, -0.018700917023837676, -0.008066397849633516, -0.008807717807858113, 0.007827553610365582, -0.009520931272534654, 0.00490407847737121, -0.012608947857849606, 0.01220119939264417, -0.002096629184531456, -0.018771843413775507, 0.0058206256613365015, 0.028631047326412827, -0.008899718436523828, -0.01097099212050831, 0.0008132533056442065, 0.005607071412920211, 0.02520094162022147, -0.002341753296191627, -0.0040894062014800595, 0.001263754753605633, 0.015336930034388251, -0.008146537977536224, 0.02442907904640204, -0.0048638058025030845, 0.005138277197684333, 0.0025700668796425985, 0.003211361962205091, -0.009201047150580632, 0.01900970243802158, -0.015147052406231664, 0.0023399067632226935, -0.0013550555898107289, 0.009535535182373772, -0.010248124589511357, -0.0018480581617148287, 0.00519137469176816, -0.007815981515785438, 0.02079244989985645, 0.014387836243831085, 0.007767752537270827, -0.00392831157743629, 0.006908713076505361, -0.01306964139719161, -0.010893350457665929, -0.0005913261358085923, -0.009339821344168813, -0.02194667000413779, -0.0072373513688589975, -0.006637865305470157, 0.02302594920457213, 0.01642201407872945, -0.0036866749849956667, 0.025128518468696636, -0.011976015910606548, 0.001128797438385878, 0.007797643008314283, -0.0020761592227967344, -0.030898761659673653, 0.023150926519540052, 0.009730825599500455, -0.024674409332699675, -0.0068179473866975164, -0.006431804412629049, -0.002153468729321286, 0.0075694538664923105, -0.01819024299986341, 0.003920525292606973, -0.01811146214971164, -0.03191215753338023, 0.00759565359886074, 0.04497395907278439, 0.044486955115713045, -0.008650083476475993, -0.007805312237557499, -0.025429415652934627, 0.026715477040940905, 0.021528431624420166, -0.014145436182998933, 0.009375734212768124, 0.012303661987355954, -0.010521362209188454, -0.002768923774876456, 0.03382137421739294, -0.0014257400788297552, 0.03241509881353309, 0.004137629364662202, -0.02813618489177687, -0.010738199596592557, -0.003252634904677739, -0.022700383502911606, 0.006227761598591518, -0.0001325380123775111, -0.02487338826603637, 0.00865656049972016, 0.01592181475033375, 0.018873277690042232, 0.0397413767927913, 0.019905330159750913, 0.004879616526141826, 0.035138148632346156, 0.005543950525205298, 0.008124529691340848, -0.04009458301245822, -0.011912274240768291, 0.015520432244624197, 0.004890415193240058, 0.00708349486550544, -0.007513441613226352, 0.003670827226877419, 0.021587066856442256, -0.004785967400195177, -0.0009540103536655204, -0.002192463954035613, 0.01594502762486183, -0.0422147189967499, 0.008993441151849402, 0.05958610145646929, -0.007365652358832739, 0.009962948032083144, -0.01872169453315008, -0.015485292482443774, 0.007672224727311693, 0.02457932993291499, -0.007565915816508302, 0.0007118463119100342, 0.008865286643952372, 0.014498831825365037, 0.008054989271811697, 0.01847021598130937, -0.002321282786357284, 0.011367635485227606, -0.029553744570261505, 0.009335112199054946, -0.022539044638261854, -0.018893148143658094, -0.000924657806326396, 0.00162716912429088, 0.042276042662937066, -0.018207338295149512, -0.00037798341991011983, -0.019472624182571986, 0.04498371147614609, -0.004839016393944551, -0.006666621773962998, -0.009049792476713892, 0.005227552643765165, 0.009594600889001955, 0.0034252907778759356, -0.026229216746976224, -0.013118963230897094, 0.010888674040049715, 0.01719403171273533, -0.0031137714298868696, 0.001320433873163869, -0.004218954085094776, -0.023912186032119316, 0.005601846052119929, -0.015039072726862269, -0.025012330498367652, -0.0002576213763559442, -0.014197235359218918, -0.006393439475075007, -0.014929434245105185, 0.018828043714995957, -0.019657095603216993, -0.01835354149273671, 0.006467910030828939, -0.007195094110409081, 0.006488749888725928, 0.011368708990095417, -0.009012405184527884, 0.03502264709011188, 0.0010386271165636982, 0.05694235569019574, 0.006563857935846877, -0.04721996185501736, 0.029651283937884743, 0.03895071273164028, -0.0041948258837493585, -0.001973758873520707, -0.023986645700291218, 0.018939265413685853, 0.012664050059998235, 0.023183208701020093, 0.019182156420483647, 0.0006506937639088849, 0.0048160402234468744, 0.05093053690080437, -0.013896306480015965, -0.008213962899056227, -0.004233544615435601, -0.006214147193466351, 0.036762344644615724, 0.03849483598719703, 0.023042477401164226, 0.059976924241409345, 0.0034252907778759356, 0.05407368180191922, 0.0017867680097050718, -0.0071235914431418456, 0.035373244311321474, 0.000204211113552366, -0.02726345721921729, -0.029078616284860123, 0.01662061530009534, 0.08191522343116335, -0.004473017455298776, 0.015016138937804471, 0.00027613628875314744, -0.027478580888433923, 0.007601072371452994, 0.029311193465699242, 0.006813748390720837, 0.00410090050858217, -0.01998267700813497, 0.01445994786846357, -0.03732263985943692, 0.004134017227542436, -0.009324245121768132, 0.008918259732288956, 0.0034252907778759356, 0.040262221982307445, 0.0482905421099911, 0.024660729838284497, -0.009816526696081976, 0.02121945088229127, -0.00760293874075182, 0.026138334321311137, -0.0027820811246532145, -0.010565439923288067, -0.017281756484358715, 0.02940885450426308, 0.03272538377171907, 0.0034252907778759356, -0.011802370556212274, -0.00129188809122391, -0.020906389894669187, 0.008267827961261362, -0.011697061385695418, 0.0029809414077402456, -0.01413310543078872, 0.049940871706781464, -0.004162251264611049, 0.008227182002149613, -0.023306690211469607, 0.0009760586070091848, -0.012864284428482989, 0.0034252907778759356, -0.007444002509720024, -0.010752100322453429, -0.009544425106895946, 0.006471398866477688, 0.0052948084644572875, -0.004273464187336878, 0.0013110819286287915, -0.008107137196357368, 0.014364499721538408, 0.02509183447021219, 0.019597239314638817, -0.002268088408870785, 0.005714349663355224, 0.03312156560986435, -0.009703587963653604, -0.03530347175579514, 0.007157217697124095, -0.019821687870762533, 0.01054752675535652, 0.017579426953239743, 0.0038912096239711283, 0.01879385352490321, 0.0188151491385723, -0.01424803808278003, 0.038879226877030965, -0.030939060540063366, -0.013150593699037535, 0.02212011106965049, 0.023191598590383316, 0.012233484202518689, 0.021576047266265014, 0.01004041687156942, -0.013234475457299825, 0.006763174396499564, 0.0034252907778759356, 0.0289392587325434, 0.019693665958425904, 0.008984164557754325, 0.010871279299610329, 0.01821883834222812, 0.01051690135522395, 0.022700682611719866, 0.00688900227991603, 0.0018003651798166546, 0.0026116068005815262, 0.005868042669612941, 0.0044408789622145325, 0.0034252907778759356, 0.002410624165874736, 0.0024097025935373387, 0.01725006340987595, -0.00942733640625754, -0.009576785414549933, 0.02171902546542577, 0.014143934892741936, 0.0034252907778759356, 0.0044268695861647625, 0.004626155555401424, -0.012568681187752992, 0.03100963614440485, 0.003821110187176455, 0.01787007777654721, 0.0034252907778759356, 0.008113633133710114, 0.0007018310002515518, 0.0036202667025032696, -0.021921399969434773, 0.002427821919106464, 0.0014285718931254967, 0.006625801806500966, 0.001430632905532268, 0.0212090508064363, 0.004212066686858481, -0.015443604279584949, 0.00982287956412716, 0.03324341444527424, 0.0020699274292078317, 0.01195506717043741, 0.006695985202202782, -0.0393528879948047, 0.016390224550228902, -0.026939683535582647, 0.003628013007998797, 0.020852531905782967, -0.009344771210766552, 0.005645438317699651, 0.011281418590090787, 0.01842770053196745, 0.01349183487233805, 0.005577152970651527, -0.016294698982295363, 0.011176688834759453, 0.022176697920422147, -0.018705336619124765, 0.005405817254604008, 0.022997345685666123, 0.0018709527393128117, 0.017434102703536163, 0.016492183933137432, 0.010073251361288001, 0.01343261652438358, -0.010236142251965286, 0.008540658647289825, 0.014929595902549685, 0.019852586016373214, 0.02311025120799264, -0.0063372601900868976, 0.011814812846336602, -0.0007382320141489642, 0.014145572658719841, -0.001254076507629042, 0.005594106520431871, 0.005589839229649965, 0.006665874806508846, 0.014375527595168792, -0.024129268976274067, -0.021909168102934914, -0.005153121787039962, 0.054166229843882946, 0.0034252907778759356, -0.014372132122464711, -0.03274519122763566, -0.03055617992956098, 0.01588627426615857, 0.02037034468764129, -0.021233448100312205, 0.010795718875741666, 0.024043107356907796, 0.021399428445909578, 0.004914989688563822, -0.01052173588516319, 0.007568042803468311, 0.026877045521060745, -0.02707886820684897, 0.01872731921168929, -0.037574643483185746, 0.014645814061172567, -0.007683757275365316, 0.028768143374450935, 0.01099201876100123, 0.008874343504359505, -0.01957404801549912, -0.021775269030651717, 0.013972330568073864, -0.025017785984371536, 0.008984398292769633, -0.0001307636642158684, -0.02075365820307056, 0.01375626415522534, 0.0032246101149497855, 0.009046276940422402, 0.011015670557792581, 0.015329230966735819, 0.0004806912516315204, 0.023698546082343203, 0.011158236145056642, -0.008286423537314801, 0.044559068207649294, 0.0034252907778759356, 0.00903956756707865, -0.00029888546609034604, 0.0013702167556587726, 0.012971151546024417, 0.007508293022214803, 0.03171722803462336, -0.0023459534603083414, 0.00741363195823016, 0.010289671724792412, -0.0033972076071046055, 0.0070380938405473535, 0.011888186229029242, 0.02540643907585959, 0.005353197424922603, 0.008499126701274354, 0.00011612660145671801, -0.027145222671337427, 0.005760089222176405, 0.009160459014258375, 0.002355476564826358, 0.011278403195164592, -0.015716190487886094, 0.0034252907778759356, 0.018933034638310135, 0.0027139189873850436, 0.024069699040013416, 0.015482524628012074, 0.009821851308259053, 0.017176844189641962, -0.0008198863802027674, 0.000357109669980172, 0.019321154936360482, 0.012525788771471834, -0.0034284873568520896, -0.01608572620363401, -0.010611864240723964, 0.009146241596978695, -0.019514411880703297, 0.022795304873520928, -0.0034984487234012065, -0.003193170457112574, -0.01742447793779991, -0.0012167192730314714, 0.006652365965356297, 0.01987177354592801, -0.00925929545973278, 0.02765995196544561, -0.008609441283881383, -0.017908616140252596, 0.014209896977846217, -0.029153450495538823, 0.010576641703206272, 0.006522777493809997, 0.009603081511123488, 0.010653301249442849, 0.0073752087297557474, 0.02095833930451387, -0.002387517429058624, -0.0031262456759703055, 0.008768669404737237, 0.01477015864030129, -0.01693076986340519, -0.006584014191045586, 0.00829479100359254, 0.008273677027675154, 0.0012797099382364282, -0.009830886206322473, -0.012528004787952355, 0.030092418209841893, -0.001963513047905076, -0.010111992802712213, 0.009089227924632499, 0.017604823238007494, 0.01617061919739348, -0.00012449939051851003, -0.0026285508144602825, 0.016493984910084684, 0.027668128922524574, -0.006966687253115008, -0.019301924614395657, 0.021270481334058122, -0.0007903075645246402, 0.016648796806865904, 0.02137329910811826, 0.00599781623319149, 0.013520630298655006, 0.009021177692293091, 0.006462452181102697, -0.015421297509323889, -0.09345058042855858, 0.02104036739025572, -0.016499408839623114, 0.026153337660878604, 0.011341216141305479, 0.005618925430353696, 0.015466380337730457, -0.00036513209968435864, 0.0063230647739869195, -0.020780861854947222, -0.0021139644411574624, 0.005095326303950311, 0.005278157818308041, 0.012674088324731981, 0.007828255846915676, -0.005346170673291155, -0.0055996744990410114, -0.007158602268114061, 0.006612021474758402, 0.004733753395476995, 0.0034252907778759356, -0.001802442345067162, 0.01242924495763742, -0.021696040568805662, 0.004186678970425462, 0.014268469841938414, -0.0012848173361748594, 0.025372638365018952, -0.006038196679736795, 0.007168165767145332, 0.006223028629160971, 0.018867739532603584, 0.00636158768395894, 0.004523544398274001, 0.0015966641176541657, -0.00811368342016711, 0.004905867096334679, 0.011557480941942356, 0.01737046525048902, 0.021548137191178915, 0.012342193679959881, 0.005902260158910261, -0.0015176983725511918, 0.004489167194936916, 0.002893858193464056, -0.0026007235898605928, -0.0004950420543376206, 0.010578234484085666, 0.013198021503353915, -0.00837651002706637, 0.00769787027874627, 0.009455128239896598, 0.009246419211147126, 0.012374976793310812, 0.015437405186519565, -0.004669992793075701, 0.007936215653171394, 0.019322729097018335, 0.003936528879326912, -0.0003212957512288839, -0.008706532102651404, 0.009816778257681848, 0.0192274911340875, 0.004441597696479138, 0.009178574242292068, -0.00701231739010533, 0.014810978847008494, 0.0030887725031871166, 0.025805742751680082, 0.010354081110886029, 0.013918462589569039, 0.0003391730944206188, 0.00456545438524424, 0.007655923625405611, -0.0038693733424460834, 0.001467373091726573, 0.021405057321211132, 0.008733775678729624, 0.002144536308991366, 0.022499658994726994, 0.0034252907778759356, -0.00035710155278115925, 0.022717902012662633, 0.006067977975500247, 0.006061747018576494, -0.0012163141511349227, 0.02160325529460679, 0.008929055548887697, 0.0026645779303955015, 0.003577560151999553, -0.0025111287917941065, -0.0004004230656901625, -0.010701641704798745, 0.0026476497055083824, -0.004511717098802056, -0.0006498504940128033, 0.011290932369903178, 0.007174392726078738, 0.039857270714799053, 0.001314274191117724, 0.0037274843896540374, -0.004578947952486745, -0.0011381331633993404, 0.019157071628726176, 0.0017684959752090217, 0.0034252907778759356, 0.008252178084295323, 0.0017731692513134815, -0.006050766999532514, 0.00918984370645998, -0.0011022944457516745, 0.0005460814212560451, 0.0034252907778759356, 0.007375414425619811, 0.005696190459026664, -0.011078849166970956, 0.008323540303121324, -0.01211986343993458, -0.00553872098289773, -0.004364730748030424, 0.0034252907778759356, 0.0038960717063794446, 0.01110980144053757, -0.024922481517784187, 0.03474772936004472, -0.01880461630013796, -0.004980863022466995, 0.011575555089429014, -0.028622489267554882, 0.0034252907778759356, 0.03135526714390785, 0.015217496787661662, 0.0034252907778759356, 0.020613439798661103, 0.0018722872008479544, 0.0038918279607490437, -0.0012383725371307736, 0.002800856728731796, 0.007642545910649793, -0.021627170725200057, -0.010104260619869257, 0.007775503196316058, 0.017228006380428058, -0.004977287602688602, 0.05102784897054069, -0.042233505059517604, 0.00534221403038163, 0.008528216173652152, 0.018664521202309985, -0.012548770612632567, -0.002612009700530984, 0.0026265422880213745, 0.014934808134693403, -0.004485984632477634, 0.015058109793839251, 0.029290084622667772, 0.005891575636008793, 0.0034252907778759356, 0.011884743857239671, 0.009531414480506435, 0.006006261409150152, 0.0034252907778759356, 0.02281391956393211, 0.0064032009066321595, 0.01382000926570593, 0.00989899828370247, 0.008106310287807325, -0.005315017424813258, -0.004796694096184057, 0.019103547931382022, 0.003571072848019493, 0.009259040248328815, 0.00328017354537336, 0.023014563854884606, -0.0009955926878375664, 0.008006816382975538, 0.009413985132365552, -0.00976470061496313, 0.04533367661613727, 0.0034252907778759356, 0.028602657509998318, -0.00834505813756075, 0.0011009022504978113, 0.008768868438598396, 0.010925317766333547, -0.014319361821898722, -0.02465308864435304, 0.030956294512934256, -0.012971954737443732, -0.014194878658163629, -0.0041049997672927855, 0.04962874565147745, 0.005623132332093086, 0.007538303452142811, 0.018177746763381825, 0.004773449136383442, 0.012985821969681396, 0.010635058276250029, 0.00912961608521562, -0.00488984875651349, -0.017717551488741826, 0.00369631913055195, 0.009251970430540865, 0.002751344240046802, 0.0005927612744425158, 0.002208207689914243, -0.002801847467165752, 0.02057781990428258, 0.010799315607229087, -0.002568484597531483, -0.0013956116411967543, -0.010965518455903912, 0.002607841666503371, -0.009118688289481109, 0.007700065773449444, 0.012903646236453938, -0.0006610630728091111, 0.0005543200292724986, 0.01233456332367373, -0.013572453230989445, 0.003977521900841248, 0.022885145741283152, -0.004442551449625084, 0.002059178870355642, -0.001362001783933072, 0.016750052363072754, -0.0024119991255542594, -0.017317176585801473, 0.019276125561789436, 0.015627095887075258, 0.0031540980559430134, -0.011903350670091666, -0.014729650487688341, 0.019223488654850122, 0.02534492479826532, 0.006129535691761832, 0.001267114256676801, 0.0028847032702622737, 0.0004507761071951737, -0.0019975213343170527, 0.022906250661341578, 0.0028896877593037286, -0.000459615342462773, -0.01633577469579681, -0.013270101928450465, 0.00023015416366270296, -0.002704808366748207, 0.009028818251288227, 0.019176224460332687, 0.0243181962271761, -0.004400776746186388, 0.004784098121441283, 0.0009823647251107881, 0.019883098255697642, -0.031961830121014945, -0.004464806545480741, -0.010654796935412013, 0.014720078112526826, -0.021034888793036676, -0.008006621329924472, 0.0034252907778759356, -0.06529684146240379, 0.014347102474888698, 0.013632079526118338, 0.011728277352567491, 0.021856758563407623, -0.022373185227903217, -0.006081458412087986, -0.028535720431950816, -0.011772069059957764, -0.005151669661065062, 0.009987690022699667, -0.004849217342750632, -0.011804347118003936, -0.007789050001211678, -0.006260958177734953, 0.02478863242257009, 0.014800539908248929, -0.026334895665001204, 0.012018989069161757, 0.01031343096871446, 0.009945313681176942, -0.012780211215275283, 0.02644666134765707, 0.018731734868392743, 0.0026306374094499786, 0.016149879007881878, 0.019309451774070414, -0.00029625577663415937, 0.012449051476301726, 0.0018819331207886982, -0.005693187524249003, 0.026798610264502813, 0.014872665930637956, 0.002518702784120654, 0.02489684770012736, -0.007108164044857811, 0.0032754892172531715, 0.020651121495608493, -0.0046881945558067085, 0.021999703361388043, 0.016141883664424473, -0.007413984113873016, 0.010868066193597616, 0.0076295320608305, -0.010584469478125386, 0.003571584898361654, 0.010591202892179147, 0.02827382571371983, -0.0025452394723443766, -0.007293456040161818, -0.013457767223480858, -0.0018491504380856883, -0.028371228574840687, 0.019940353916206285, 0.018505592978388666, -0.01882047480066791, -0.0003325383883488013, -0.008489504806733206, 0.008455983831841117, -0.014330791239500665, 0.02871578683408849, -0.013464314608925547, 0.013377618352138274, 0.024975413352038626, -0.0011903279271255974, 0.016731604225321068, -0.025238440960846275, 0.009187614271659327, -0.006229785571508881, -0.01803139555556366, 0.008855583112898403, 0.02936484034683715, 0.0019162994168967751, -0.024831452375480755, 0.010246333189873426, -0.0050493160243808835, 0.015690813945680136, 0.02277577531593886, 0.022748479342297522, 0.0022380788301413286, 0.004316702792581868, 0.02079244989985645, -0.015576499303157965, 0.013536494575973543, 0.0029832240228071065, 0.021410532046065103, -0.0032486629210382633, -0.008397222852858578, 0.047385322549611274, 0.024857807501899407, -0.002284732152186276, -0.002593958119351086, 0.062395405203718446, -0.005130834171396057, -0.02715620348155142, -0.004608230964301462, 0.0077500936612647465, 0.03316558122100388, 0.005049802038822464, 0.0034252907778759356, -0.016851177204952814, 0.022699523420291683, -0.0010409560820273701, -0.025653621789914403, 0.015702208945298956, 0.026608582899156102, -0.022261361876285156, 0.04424493128008356, 0.007697224083052456, 0.018985092157136015, 0.014574275947278788, -0.0072240353287527015, -0.005621926516550058, -0.02288012577636796, 0.0023422832705780844, 0.0011217461988110105, -0.006215347153282441, 0.017258752696486957, 0.03927741045057305, -0.009683497000817824, 0.0031599483185685284, 0.0036906962175219716, -0.013420413440743913, -0.00586709379598798, 0.032622376444788985, 0.023409356158943476, 0.00836604881378658, 0.0032959129776162933, 0.0049787942209111175, -0.012864456426876277, 0.01392087397826067, -0.002943483387803471, -0.004548642517355248, -0.023828112025884175, 0.012061958413206193, 0.00878186037329743, 0.00848971489421228, 0.002496574184149637, -0.009454837771691725, 0.006917951781091709, -0.00996608212664428, 0.0023409705542365555, 0.0036966857138902615, -0.000643817588661247, 0.010367998448510232, 0.02980698273806689, 0.047042268116034035, 0.0046973755970450976, 0.009778584172918079, 0.00317263722877133, 0.007848450272446593, 0.022181175466420393, 0.004663291862063764, 0.002930619132986257, 0.013694057925473499, -0.003930329034030675, 0.010089213346262676, 0.013484609989964268, 0.011206461551349509, 0.0037874981414367107, -0.011541682138571898, 0.024222904997225535, 0.01627654631517408, -0.021391438466862204, 0.004761090519022505, 0.01955689284905659, 0.009164490937564499, 0.007707688139498988, 0.011364865861061346, 0.0007190238878826897, -0.03821164128408818, 0.00011747046910244412, 0.012026635105961383, -0.005232359662053379, 0.02136727654987571, 0.005239554243235635, 0.024436416184665806, -0.00013045212714392915, -0.009178576452123315, 0.013046053943131984, -0.0038480113148194163, 0.008345949308437167, 0.01370136634894039, -0.004507648880758017, 0.007599010645343231, 9.87134782667121e-05, -0.020287147167858403, -0.005948629543787591, 0.0030569989082438274, 0.013249986674846774, 0.036295080544882265, 0.00165132307378163, 0.014204305794454683, -0.0007982467554776204, 0.010255688440421237, 0.01337453183133187, -0.0002872756566983047, -0.016479833155544736, -0.012455542752837744, -0.029755852296874837, 0.004664252080324987, 0.022732054088395223, -0.04292733734021745, 0.04048638669936025, 0.013130443161420938, 0.010002112954605237, -0.0028708615498623576, -0.004733026708315856, 0.02440034650006686, 0.011733012603796524, 0.006054629081004151, -0.009452039907740087, 0.0008922087078962783, -0.009994323329654813, -0.019457074347567917, 0.007172902940006305, 0.018241419658407976, -0.008862397546601265, 0.017837429382631026, 0.003915853265754653, 0.017770430068123042, -0.0058959506714411, 0.019294689963617058, 0.0001754169936742135, 0.004511770390302639, 0.005354802248017446, -0.005242691530035658, 0.008763758875306138, -0.008529303938150174, -0.004264372968186356, 0.017313396654029443, -0.005557995918442654, -0.003550325211948071, -0.02723851259446965, 0.009123240833571945, -0.007786732328988123, -0.01324502992859251, 0.005750529706632115, 0.03036787708321808, 0.03313264834459443, 0.0006049698720689855, -0.0030900329786006982, 0.0011995617574507731, 0.01891254337520885, 0.01992300448777011, 0.0059542805895686935, 0.014239425813155276, -0.0009779610429898724, 0.002111134175785079, 0.0072530307213711995, -0.010402986751200476, 0.016098995868038212, 0.0097507665755185, -0.0009658101741196337, 0.02213111622507413, -0.005480707948638581, 0.009095282621000667, -0.003979061807676059, 0.000349118014410287, 0.021458492850946614, 0.013466380936208711, 0.02182444332202247, 0.0044498486197682655, -0.018754008732994983, 0.009111318488840447, 0.005965310283267744, 0.0038860738145065745, 0.007340201492258957, -0.004377300485044976, 0.04074805721539219, 0.0034252907778759356, 0.006444338262652223, 0.006659290273869998, 0.018992645956389612, -0.004799843938443055, -0.009390477971531735, 0.003313504823617931, 0.0018604720519810984, 0.004656526420839066, 0.011139900639998621, -0.008789167338797595, 0.007915989252473738, 0.00454345335333645, 0.00666478252163271, -0.01428465582618595, 0.007386436069772996, 0.008049085111647501, -0.0015163851107725355, -0.009435121540288086, 0.00856080218055321, 0.007401326191006993, -0.02272364893337833, 0.026259490249427763, 0.01035428554075617, 0.018213908143842016, 0.0020882578279023166, -0.01977709561515221, 0.01891751165962186, -0.028821194432046983, -0.01126785867498202, 0.012452373217261323, -0.000993988633238409, 0.0007399347345737493, 0.026715798090698597, -0.01010339096146809, -0.02361529712194376, -0.012868058490862175, 0.015494147972822513, 0.014529480710585064, 0.030380758733471146, 0.012083505963308691, -0.006311938806679238, -0.006513063392501072, 0.020565284583685717, 0.01571297525116174, 0.011262939392831118, 0.005681328832168894, 0.0018492869131280345, 0.009738203890812931, 0.010263288385639856, -0.0052652108861513365, 0.005895675199426237, 0.014181316784664957, 0.001982567379125209, 0.0013141078719245487, 0.006987787134605936, 0.003647202633986401, -0.005228993433975058, 0.008457065022614979, 0.014334398112108054, 0.0013306751767543806, 0.0008850246313031078, -0.007091249681538626, -0.029094181423409256, 0.009985888226549205, 0.014524713616781582, -0.01798882189983808, -0.004083164260197949, 0.01912514288915234, 0.010077047056993669, 0.02497258679123112, 0.007675617734962294, 0.005988171437534582, 0.012541486292281311, -0.0004342867471600893, 0.00010557485961081199, 0.017298487273253473, 0.017018823737136635, 0.005158270636482838, -0.0009003722261592476, 0.007442082399791046, 0.009699235722719426, -0.0014152810282441614, 0.011960198385322408, -0.00793982261212562, 0.01469041988668806, 0.007285896560482066, 0.0038527801250925883, 6.764466354698597e-06, 0.013712319469768992, -0.01685501233723551, 0.012509108831706816, -0.015776000625774243, 0.002552202538919292, 0.005391420216150029, -0.002571805221654451, 0.002986778922727526, 0.02031424410249894, 0.015309309087764414, -0.0003162118285959495, -0.005262697485591473, 0.006019651933940402, 0.010974695981886624, 0.00310392629192968, 0.008354486916447672, 0.005452357527325709, 0.015139537397623058, 0.0070085661630260605, 0.008572844527704924, 0.001752113592895953, 0.0014355152163241145, 0.005208819466803218, 0.01494750056779114, 0.00819452227361873, -0.002665761812981798, 0.010587810932734646, 0.021475418068453024, 0.010124583625525672, 0.0036270579603097926, 0.011798542106454164, 0.014840389955813185, -0.002918422554474733, -0.005945156537188031, 0.033684343776488976, -0.0008813728128911581, -0.008464031124008418, -5.069447531985552e-05, 0.0005361859598186124, 0.0005287780810214558, -0.00038013379839172117, 0.02151233950219066, 0.005798484268959465, -0.00782359827729067, 0.0051197861461635165, 0.020842419324822187, 0.006463340675965915, -0.013775989597482184, 0.017818162859895875, 0.014303293378547795, -0.008318449769262905, -0.03296458142828847, 0.023803778777354373, -0.0107138145268913, 0.00655156690813318, -0.019604049427518894, 0.019032538450714623, 0.011425317512336823, 0.009055880403265508, -0.004778225273567163, -0.012699862561891966, -0.0023010729699276715, 0.02922392351308927, 0.014978747409244618, -0.01198754485203608, -0.0048425807182048185, 0.01073897801073696, 0.006856490880691745, 0.012882656217671404, -0.015330804369069261, -0.004184824933283864, -0.10129231181900752, 0.019206069476507076, 0.029990387117269535, -0.010037573486658152, 0.018261072639844583, -0.043319147429096184, -0.0462640287966842, -0.13397811896206574, 0.08215694008861806, -0.07946357422240546, -0.15954604530527353, 0.15320712162593297, -0.1401979748183425, 0.03118612183157506, -0.090911239364376, 0.003253252865290565, -0.0005314026111412264, -0.05906976924651091, 0.11771184123018967, 0.07526089564923227, 0.047697226189332996, -0.06180308171701116, 0.03176989851403535, -0.0377299556895461, -0.015439426702215122, 0.027205828395125572, -0.04041537780582461, 0.07930774910838614, 0.0358249468436614, 0.03719430299577669, -0.009272915060355203, 0.016568004464993485, 0.019662860349802556, -0.008214769198221665, -0.013042351759238777, 0.019392885413403647, -0.0015770379308503585, 0.03357436350900458, -0.011685179581160457, -0.058428318876993894, 0.04789917728579839, 0.04812874484507927, 0.03027298637745213, -0.03799395187342985, -0.012650089287602445, 0.009890491570358567, -0.00154185722773224, -0.008314061285476206, 0.033530108460621245, -0.015203829078113379, -0.013316554697787229, 0.0056616728023537646, 0.019792501291502906, -0.021358005187397503, 0.05546505518554432, -0.00202011736944621, 0.014945426950747184, 0.025090528413791564, 0.0030058331856736725, 0.04063261262985618, 0.0013946775220125412, 0.03366840099783473, -0.01017560267438224, 0.010108970497723172, 0.01910505654850338, 0.03553048989591606, 0.02367944986343554, 0.015186318257682446, 0.012587721256047544, 0.03903994223658439, -0.008476568443508095, -0.017987925523161294, -0.020123057359920517, 0.0011701347443042387, 0.015100460955318785, 0.027652478341932095, 0.011694594964889202, 0.0035460312010252982, -0.007317144471189081, 0.00964081125556985, -0.014633388646387881, 0.023381819928027837, -0.022837808930059773, 0.023627349227630802, 0.005373171451504252, 0.013026018056011997, 0.0010153657911181001, 0.04713817874463576, -0.00598774980595218, 0.014324555353852644, -0.011547143101421516, 0.021659622854683928, 0.019978057322007317, -0.010376569413209632, 0.03010358287557417, 0.018878828728336093, 0.0010888061992021564, 0.0044287016021123445, -0.018630805710511494, 0.00558431848857642, 0.02463432892594583, -0.001138209315960488, 0.019407271528824984, 0.0015520446635987181, -0.018869834763354732, 0.0024116881735155617, -0.014609848021277985, 0.01935017846209596, 0.0167544385907645, -0.011532846855944263, 0.011458342525437135, -0.011627603904089855, 0.004905624965836217, -0.017271206335539545, 0.014547986918603827, -0.015388845880540392, 0.031662717717916115, -0.010800913261913302, 0.011148778506693508, 0.002623895929376093, 0.01373639114380749, 0.0017224618252277878, -0.016130076495654233, 0.006202577986598514, 0.019931920049773795, -0.019893850607478124, 0.02782191968801508, 0.0011514471727753182, -0.01013188169183159, 0.008730175414791621, -0.0036909679824994055, 0.011511265046257501, -0.024787231115390135, -0.003163280992458435, 0.027450515360477955, 0.002845947776609513, -0.0029503435561173443, 0.00878825178193034, -0.016647911167175043, -0.013470284382920774, 0.009903329978816548, -0.015658290169720538, 0.019563987910093592, -0.024445489167851633, -0.011663734836929392, 0.01747720888282835, 0.013986906796819347, -0.018473595956610973, 0.03407566311114223, -0.0017682453624188873, 0.003910675568808896, 0.026955637217329454, -0.002276626403629558, 0.01894721695492824, 0.012493254189652091, 0.00038800399623242906, -0.007351193916690806, 0.006855300461255699, 0.026890175803971787, 0.00654349723758698, 0.01356025398727942, -0.0026238450345150944, -0.004263408133840928, -0.007783008488000905, -0.03590945170228481, 0.009232171421561297, -0.023653646745218353, 0.025009388358172395]}],\n",
              "                        {\"legend\": {\"tracegroupgap\": 0}, \"template\": {\"data\": {\"bar\": [{\"error_x\": {\"color\": \"#2a3f5f\"}, \"error_y\": {\"color\": \"#2a3f5f\"}, \"marker\": {\"line\": {\"color\": \"#E5ECF6\", \"width\": 0.5}}, \"type\": \"bar\"}], \"barpolar\": [{\"marker\": {\"line\": {\"color\": \"#E5ECF6\", \"width\": 0.5}}, \"type\": \"barpolar\"}], \"carpet\": [{\"aaxis\": {\"endlinecolor\": \"#2a3f5f\", \"gridcolor\": \"white\", \"linecolor\": \"white\", \"minorgridcolor\": \"white\", \"startlinecolor\": \"#2a3f5f\"}, \"baxis\": {\"endlinecolor\": \"#2a3f5f\", \"gridcolor\": \"white\", \"linecolor\": \"white\", \"minorgridcolor\": \"white\", \"startlinecolor\": \"#2a3f5f\"}, \"type\": \"carpet\"}], \"choropleth\": [{\"colorbar\": {\"outlinewidth\": 0, \"ticks\": \"\"}, \"type\": \"choropleth\"}], \"contour\": [{\"colorbar\": {\"outlinewidth\": 0, \"ticks\": \"\"}, \"colorscale\": [[0.0, \"#0d0887\"], [0.1111111111111111, \"#46039f\"], [0.2222222222222222, \"#7201a8\"], [0.3333333333333333, \"#9c179e\"], [0.4444444444444444, \"#bd3786\"], [0.5555555555555556, \"#d8576b\"], [0.6666666666666666, \"#ed7953\"], [0.7777777777777778, \"#fb9f3a\"], [0.8888888888888888, \"#fdca26\"], [1.0, \"#f0f921\"]], \"type\": \"contour\"}], \"contourcarpet\": [{\"colorbar\": {\"outlinewidth\": 0, \"ticks\": \"\"}, \"type\": \"contourcarpet\"}], \"heatmap\": [{\"colorbar\": {\"outlinewidth\": 0, \"ticks\": \"\"}, \"colorscale\": [[0.0, \"#0d0887\"], [0.1111111111111111, \"#46039f\"], [0.2222222222222222, \"#7201a8\"], [0.3333333333333333, \"#9c179e\"], [0.4444444444444444, \"#bd3786\"], [0.5555555555555556, \"#d8576b\"], [0.6666666666666666, \"#ed7953\"], [0.7777777777777778, \"#fb9f3a\"], [0.8888888888888888, \"#fdca26\"], [1.0, \"#f0f921\"]], \"type\": \"heatmap\"}], \"heatmapgl\": [{\"colorbar\": {\"outlinewidth\": 0, \"ticks\": \"\"}, \"colorscale\": [[0.0, \"#0d0887\"], [0.1111111111111111, \"#46039f\"], [0.2222222222222222, \"#7201a8\"], [0.3333333333333333, \"#9c179e\"], [0.4444444444444444, \"#bd3786\"], [0.5555555555555556, \"#d8576b\"], [0.6666666666666666, \"#ed7953\"], [0.7777777777777778, \"#fb9f3a\"], [0.8888888888888888, \"#fdca26\"], [1.0, \"#f0f921\"]], \"type\": \"heatmapgl\"}], \"histogram\": [{\"marker\": {\"colorbar\": {\"outlinewidth\": 0, \"ticks\": \"\"}}, \"type\": \"histogram\"}], \"histogram2d\": [{\"colorbar\": {\"outlinewidth\": 0, \"ticks\": \"\"}, \"colorscale\": [[0.0, \"#0d0887\"], [0.1111111111111111, \"#46039f\"], [0.2222222222222222, \"#7201a8\"], [0.3333333333333333, \"#9c179e\"], [0.4444444444444444, \"#bd3786\"], [0.5555555555555556, \"#d8576b\"], [0.6666666666666666, \"#ed7953\"], [0.7777777777777778, \"#fb9f3a\"], [0.8888888888888888, \"#fdca26\"], [1.0, \"#f0f921\"]], \"type\": \"histogram2d\"}], \"histogram2dcontour\": [{\"colorbar\": {\"outlinewidth\": 0, \"ticks\": \"\"}, \"colorscale\": [[0.0, \"#0d0887\"], [0.1111111111111111, \"#46039f\"], [0.2222222222222222, \"#7201a8\"], [0.3333333333333333, \"#9c179e\"], [0.4444444444444444, \"#bd3786\"], [0.5555555555555556, \"#d8576b\"], [0.6666666666666666, \"#ed7953\"], [0.7777777777777778, \"#fb9f3a\"], [0.8888888888888888, \"#fdca26\"], [1.0, \"#f0f921\"]], \"type\": \"histogram2dcontour\"}], \"mesh3d\": [{\"colorbar\": {\"outlinewidth\": 0, \"ticks\": \"\"}, \"type\": \"mesh3d\"}], \"parcoords\": [{\"line\": {\"colorbar\": {\"outlinewidth\": 0, \"ticks\": \"\"}}, \"type\": \"parcoords\"}], \"pie\": [{\"automargin\": true, \"type\": \"pie\"}], \"scatter\": [{\"marker\": {\"colorbar\": {\"outlinewidth\": 0, \"ticks\": \"\"}}, \"type\": \"scatter\"}], \"scatter3d\": [{\"line\": {\"colorbar\": {\"outlinewidth\": 0, \"ticks\": \"\"}}, \"marker\": {\"colorbar\": {\"outlinewidth\": 0, \"ticks\": \"\"}}, \"type\": \"scatter3d\"}], \"scattercarpet\": [{\"marker\": {\"colorbar\": {\"outlinewidth\": 0, \"ticks\": \"\"}}, \"type\": \"scattercarpet\"}], \"scattergeo\": [{\"marker\": {\"colorbar\": {\"outlinewidth\": 0, \"ticks\": \"\"}}, \"type\": \"scattergeo\"}], \"scattergl\": [{\"marker\": {\"colorbar\": {\"outlinewidth\": 0, \"ticks\": \"\"}}, \"type\": \"scattergl\"}], \"scattermapbox\": [{\"marker\": {\"colorbar\": {\"outlinewidth\": 0, \"ticks\": \"\"}}, \"type\": \"scattermapbox\"}], \"scatterpolar\": [{\"marker\": {\"colorbar\": {\"outlinewidth\": 0, \"ticks\": \"\"}}, \"type\": \"scatterpolar\"}], \"scatterpolargl\": [{\"marker\": {\"colorbar\": {\"outlinewidth\": 0, \"ticks\": \"\"}}, \"type\": \"scatterpolargl\"}], \"scatterternary\": [{\"marker\": {\"colorbar\": {\"outlinewidth\": 0, \"ticks\": \"\"}}, \"type\": \"scatterternary\"}], \"surface\": [{\"colorbar\": {\"outlinewidth\": 0, \"ticks\": \"\"}, \"colorscale\": [[0.0, \"#0d0887\"], [0.1111111111111111, \"#46039f\"], [0.2222222222222222, \"#7201a8\"], [0.3333333333333333, \"#9c179e\"], [0.4444444444444444, \"#bd3786\"], [0.5555555555555556, \"#d8576b\"], [0.6666666666666666, \"#ed7953\"], [0.7777777777777778, \"#fb9f3a\"], [0.8888888888888888, \"#fdca26\"], [1.0, \"#f0f921\"]], \"type\": \"surface\"}], \"table\": [{\"cells\": {\"fill\": {\"color\": \"#EBF0F8\"}, \"line\": {\"color\": \"white\"}}, \"header\": {\"fill\": {\"color\": \"#C8D4E3\"}, \"line\": {\"color\": \"white\"}}, \"type\": \"table\"}]}, \"layout\": {\"annotationdefaults\": {\"arrowcolor\": \"#2a3f5f\", \"arrowhead\": 0, \"arrowwidth\": 1}, \"coloraxis\": {\"colorbar\": {\"outlinewidth\": 0, \"ticks\": \"\"}}, \"colorscale\": {\"diverging\": [[0, \"#8e0152\"], [0.1, \"#c51b7d\"], [0.2, \"#de77ae\"], [0.3, \"#f1b6da\"], [0.4, \"#fde0ef\"], [0.5, \"#f7f7f7\"], [0.6, \"#e6f5d0\"], [0.7, \"#b8e186\"], [0.8, \"#7fbc41\"], [0.9, \"#4d9221\"], [1, \"#276419\"]], \"sequential\": [[0.0, \"#0d0887\"], [0.1111111111111111, \"#46039f\"], [0.2222222222222222, \"#7201a8\"], [0.3333333333333333, \"#9c179e\"], [0.4444444444444444, \"#bd3786\"], [0.5555555555555556, \"#d8576b\"], [0.6666666666666666, \"#ed7953\"], [0.7777777777777778, \"#fb9f3a\"], [0.8888888888888888, \"#fdca26\"], [1.0, \"#f0f921\"]], \"sequentialminus\": [[0.0, \"#0d0887\"], [0.1111111111111111, \"#46039f\"], [0.2222222222222222, \"#7201a8\"], [0.3333333333333333, \"#9c179e\"], [0.4444444444444444, \"#bd3786\"], [0.5555555555555556, \"#d8576b\"], [0.6666666666666666, \"#ed7953\"], [0.7777777777777778, \"#fb9f3a\"], [0.8888888888888888, \"#fdca26\"], [1.0, \"#f0f921\"]]}, \"colorway\": [\"#636efa\", \"#EF553B\", \"#00cc96\", \"#ab63fa\", \"#FFA15A\", \"#19d3f3\", \"#FF6692\", \"#B6E880\", \"#FF97FF\", \"#FECB52\"], \"font\": {\"color\": \"#2a3f5f\"}, \"geo\": {\"bgcolor\": \"white\", \"lakecolor\": \"white\", \"landcolor\": \"#E5ECF6\", \"showlakes\": true, \"showland\": true, \"subunitcolor\": \"white\"}, \"hoverlabel\": {\"align\": \"left\"}, \"hovermode\": \"closest\", \"mapbox\": {\"style\": \"light\"}, \"paper_bgcolor\": \"white\", \"plot_bgcolor\": \"#E5ECF6\", \"polar\": {\"angularaxis\": {\"gridcolor\": \"white\", \"linecolor\": \"white\", \"ticks\": \"\"}, \"bgcolor\": \"#E5ECF6\", \"radialaxis\": {\"gridcolor\": \"white\", \"linecolor\": \"white\", \"ticks\": \"\"}}, \"scene\": {\"xaxis\": {\"backgroundcolor\": \"#E5ECF6\", \"gridcolor\": \"white\", \"gridwidth\": 2, \"linecolor\": \"white\", \"showbackground\": true, \"ticks\": \"\", \"zerolinecolor\": \"white\"}, \"yaxis\": {\"backgroundcolor\": \"#E5ECF6\", \"gridcolor\": \"white\", \"gridwidth\": 2, \"linecolor\": \"white\", \"showbackground\": true, \"ticks\": \"\", \"zerolinecolor\": \"white\"}, \"zaxis\": {\"backgroundcolor\": \"#E5ECF6\", \"gridcolor\": \"white\", \"gridwidth\": 2, \"linecolor\": \"white\", \"showbackground\": true, \"ticks\": \"\", \"zerolinecolor\": \"white\"}}, \"shapedefaults\": {\"line\": {\"color\": \"#2a3f5f\"}}, \"ternary\": {\"aaxis\": {\"gridcolor\": \"white\", \"linecolor\": \"white\", \"ticks\": \"\"}, \"baxis\": {\"gridcolor\": \"white\", \"linecolor\": \"white\", \"ticks\": \"\"}, \"bgcolor\": \"#E5ECF6\", \"caxis\": {\"gridcolor\": \"white\", \"linecolor\": \"white\", \"ticks\": \"\"}}, \"title\": {\"x\": 0.05}, \"xaxis\": {\"automargin\": true, \"gridcolor\": \"white\", \"linecolor\": \"white\", \"ticks\": \"\", \"title\": {\"standoff\": 15}, \"zerolinecolor\": \"white\", \"zerolinewidth\": 2}, \"yaxis\": {\"automargin\": true, \"gridcolor\": \"white\", \"linecolor\": \"white\", \"ticks\": \"\", \"title\": {\"standoff\": 15}, \"zerolinecolor\": \"white\", \"zerolinewidth\": 2}}}, \"title\": {\"text\": \"BOVA x MGLU\"}, \"xaxis\": {\"anchor\": \"y\", \"domain\": [0.0, 1.0], \"title\": {\"text\": \"BOVA\"}}, \"yaxis\": {\"anchor\": \"x\", \"domain\": [0.0, 1.0], \"title\": {\"text\": \"MGLU\"}}},\n",
              "                        {\"responsive\": true}\n",
              "                    ).then(function(){\n",
              "                            \n",
              "var gd = document.getElementById('f4d2bf42-5d92-4798-973c-642bea5e0db4');\n",
              "var x = new MutationObserver(function (mutations, observer) {{\n",
              "        var display = window.getComputedStyle(gd).display;\n",
              "        if (!display || display === 'none') {{\n",
              "            console.log([gd, 'removed!']);\n",
              "            Plotly.purge(gd);\n",
              "            observer.disconnect();\n",
              "        }}\n",
              "}});\n",
              "\n",
              "// Listen for the removal of the full notebook cells\n",
              "var notebookContainer = gd.closest('#notebook-container');\n",
              "if (notebookContainer) {{\n",
              "    x.observe(notebookContainer, {childList: true});\n",
              "}}\n",
              "\n",
              "// Listen for the clearing of the current output cell\n",
              "var outputEl = gd.closest('.output');\n",
              "if (outputEl) {{\n",
              "    x.observe(outputEl, {childList: true});\n",
              "}}\n",
              "\n",
              "                        })\n",
              "                };\n",
              "                \n",
              "            </script>\n",
              "        </div>\n",
              "</body>\n",
              "</html>"
            ]
          },
          "metadata": {}
        }
      ]
    },
    {
      "cell_type": "markdown",
      "metadata": {
        "id": "hM-6wgrQt3U6"
      },
      "source": [
        "**BETA com covariância e variância**"
      ]
    },
    {
      "cell_type": "code",
      "metadata": {
        "colab": {
          "base_uri": "https://localhost:8080/",
          "height": 112
        },
        "id": "K9zrZU8nE3I5",
        "outputId": "53b68772-c898-430b-9c65-a92ee4fb4014"
      },
      "source": [
        "matriz_covariancia = dataset_taxa_retorno.drop(columns = ['GOL', 'CVC', 'WEGE', 'TOTS']).cov() * 246\n",
        "matriz_covariancia"
      ],
      "execution_count": 12,
      "outputs": [
        {
          "output_type": "execute_result",
          "data": {
            "text/html": [
              "\n",
              "  <div id=\"df-c7217630-926e-443b-97f0-c704517b29a3\">\n",
              "    <div class=\"colab-df-container\">\n",
              "      <div>\n",
              "<style scoped>\n",
              "    .dataframe tbody tr th:only-of-type {\n",
              "        vertical-align: middle;\n",
              "    }\n",
              "\n",
              "    .dataframe tbody tr th {\n",
              "        vertical-align: top;\n",
              "    }\n",
              "\n",
              "    .dataframe thead th {\n",
              "        text-align: right;\n",
              "    }\n",
              "</style>\n",
              "<table border=\"1\" class=\"dataframe\">\n",
              "  <thead>\n",
              "    <tr style=\"text-align: right;\">\n",
              "      <th></th>\n",
              "      <th>MGLU</th>\n",
              "      <th>BOVA</th>\n",
              "    </tr>\n",
              "  </thead>\n",
              "  <tbody>\n",
              "    <tr>\n",
              "      <th>MGLU</th>\n",
              "      <td>0.438249</td>\n",
              "      <td>0.082301</td>\n",
              "    </tr>\n",
              "    <tr>\n",
              "      <th>BOVA</th>\n",
              "      <td>0.082301</td>\n",
              "      <td>0.073603</td>\n",
              "    </tr>\n",
              "  </tbody>\n",
              "</table>\n",
              "</div>\n",
              "      <button class=\"colab-df-convert\" onclick=\"convertToInteractive('df-c7217630-926e-443b-97f0-c704517b29a3')\"\n",
              "              title=\"Convert this dataframe to an interactive table.\"\n",
              "              style=\"display:none;\">\n",
              "        \n",
              "  <svg xmlns=\"http://www.w3.org/2000/svg\" height=\"24px\"viewBox=\"0 0 24 24\"\n",
              "       width=\"24px\">\n",
              "    <path d=\"M0 0h24v24H0V0z\" fill=\"none\"/>\n",
              "    <path d=\"M18.56 5.44l.94 2.06.94-2.06 2.06-.94-2.06-.94-.94-2.06-.94 2.06-2.06.94zm-11 1L8.5 8.5l.94-2.06 2.06-.94-2.06-.94L8.5 2.5l-.94 2.06-2.06.94zm10 10l.94 2.06.94-2.06 2.06-.94-2.06-.94-.94-2.06-.94 2.06-2.06.94z\"/><path d=\"M17.41 7.96l-1.37-1.37c-.4-.4-.92-.59-1.43-.59-.52 0-1.04.2-1.43.59L10.3 9.45l-7.72 7.72c-.78.78-.78 2.05 0 2.83L4 21.41c.39.39.9.59 1.41.59.51 0 1.02-.2 1.41-.59l7.78-7.78 2.81-2.81c.8-.78.8-2.07 0-2.86zM5.41 20L4 18.59l7.72-7.72 1.47 1.35L5.41 20z\"/>\n",
              "  </svg>\n",
              "      </button>\n",
              "      \n",
              "  <style>\n",
              "    .colab-df-container {\n",
              "      display:flex;\n",
              "      flex-wrap:wrap;\n",
              "      gap: 12px;\n",
              "    }\n",
              "\n",
              "    .colab-df-convert {\n",
              "      background-color: #E8F0FE;\n",
              "      border: none;\n",
              "      border-radius: 50%;\n",
              "      cursor: pointer;\n",
              "      display: none;\n",
              "      fill: #1967D2;\n",
              "      height: 32px;\n",
              "      padding: 0 0 0 0;\n",
              "      width: 32px;\n",
              "    }\n",
              "\n",
              "    .colab-df-convert:hover {\n",
              "      background-color: #E2EBFA;\n",
              "      box-shadow: 0px 1px 2px rgba(60, 64, 67, 0.3), 0px 1px 3px 1px rgba(60, 64, 67, 0.15);\n",
              "      fill: #174EA6;\n",
              "    }\n",
              "\n",
              "    [theme=dark] .colab-df-convert {\n",
              "      background-color: #3B4455;\n",
              "      fill: #D2E3FC;\n",
              "    }\n",
              "\n",
              "    [theme=dark] .colab-df-convert:hover {\n",
              "      background-color: #434B5C;\n",
              "      box-shadow: 0px 1px 3px 1px rgba(0, 0, 0, 0.15);\n",
              "      filter: drop-shadow(0px 1px 2px rgba(0, 0, 0, 0.3));\n",
              "      fill: #FFFFFF;\n",
              "    }\n",
              "  </style>\n",
              "\n",
              "      <script>\n",
              "        const buttonEl =\n",
              "          document.querySelector('#df-c7217630-926e-443b-97f0-c704517b29a3 button.colab-df-convert');\n",
              "        buttonEl.style.display =\n",
              "          google.colab.kernel.accessAllowed ? 'block' : 'none';\n",
              "\n",
              "        async function convertToInteractive(key) {\n",
              "          const element = document.querySelector('#df-c7217630-926e-443b-97f0-c704517b29a3');\n",
              "          const dataTable =\n",
              "            await google.colab.kernel.invokeFunction('convertToInteractive',\n",
              "                                                     [key], {});\n",
              "          if (!dataTable) return;\n",
              "\n",
              "          const docLinkHtml = 'Like what you see? Visit the ' +\n",
              "            '<a target=\"_blank\" href=https://colab.research.google.com/notebooks/data_table.ipynb>data table notebook</a>'\n",
              "            + ' to learn more about interactive tables.';\n",
              "          element.innerHTML = '';\n",
              "          dataTable['output_type'] = 'display_data';\n",
              "          await google.colab.output.renderOutput(dataTable, element);\n",
              "          const docLink = document.createElement('div');\n",
              "          docLink.innerHTML = docLinkHtml;\n",
              "          element.appendChild(docLink);\n",
              "        }\n",
              "      </script>\n",
              "    </div>\n",
              "  </div>\n",
              "  "
            ],
            "text/plain": [
              "          MGLU      BOVA\n",
              "MGLU  0.438249  0.082301\n",
              "BOVA  0.082301  0.073603"
            ]
          },
          "metadata": {},
          "execution_count": 12
        }
      ]
    },
    {
      "cell_type": "code",
      "metadata": {
        "colab": {
          "base_uri": "https://localhost:8080/"
        },
        "id": "9JLrYxc9FsbH",
        "outputId": "8c3db4af-5e3a-4402-984a-b94982167a2e"
      },
      "source": [
        "cov_mglu_bova = matriz_covariancia.iloc[1, 0]\n",
        "cov_mglu_bova"
      ],
      "execution_count": 13,
      "outputs": [
        {
          "output_type": "execute_result",
          "data": {
            "text/plain": [
              "0.08230097398370839"
            ]
          },
          "metadata": {},
          "execution_count": 13
        }
      ]
    },
    {
      "cell_type": "code",
      "metadata": {
        "colab": {
          "base_uri": "https://localhost:8080/"
        },
        "id": "XsZjFkcMF7zR",
        "outputId": "4dbe113a-70b8-42a6-d0f3-323197aaf71a"
      },
      "source": [
        "variancia_bova = dataset_taxa_retorno['BOVA'].var() * 246\n",
        "variancia_bova"
      ],
      "execution_count": 14,
      "outputs": [
        {
          "output_type": "execute_result",
          "data": {
            "text/plain": [
              "0.07360264059690455"
            ]
          },
          "metadata": {},
          "execution_count": 14
        }
      ]
    },
    {
      "cell_type": "code",
      "metadata": {
        "colab": {
          "base_uri": "https://localhost:8080/"
        },
        "id": "isbOGLavGN6F",
        "outputId": "5aacc08e-77b1-44df-89e1-2804f6868bdd"
      },
      "source": [
        "beta_mglu = cov_mglu_bova / variancia_bova\n",
        "beta_mglu"
      ],
      "execution_count": 15,
      "outputs": [
        {
          "output_type": "execute_result",
          "data": {
            "text/plain": [
              "1.1181796375274293"
            ]
          },
          "metadata": {},
          "execution_count": 15
        }
      ]
    },
    {
      "cell_type": "markdown",
      "metadata": {
        "id": "HP923JDRL9li"
      },
      "source": [
        "**Cálculo CAPM para uma ação**"
      ]
    },
    {
      "cell_type": "code",
      "metadata": {
        "colab": {
          "base_uri": "https://localhost:8080/"
        },
        "id": "7-ue72XTGxlw",
        "outputId": "638a6637-9ae2-4750-dd8f-5911f0681c0b"
      },
      "source": [
        "beta"
      ],
      "execution_count": 16,
      "outputs": [
        {
          "output_type": "execute_result",
          "data": {
            "text/plain": [
              "1.118179637527429"
            ]
          },
          "metadata": {},
          "execution_count": 16
        }
      ]
    },
    {
      "cell_type": "code",
      "metadata": {
        "colab": {
          "base_uri": "https://localhost:8080/"
        },
        "id": "pMU_YVWaHuu2",
        "outputId": "aa8f70cd-f0e5-4a3d-b446-1528a0aa1041"
      },
      "source": [
        "rm = dataset_taxa_retorno['BOVA'].mean() * 246\n",
        "rm"
      ],
      "execution_count": 17,
      "outputs": [
        {
          "output_type": "execute_result",
          "data": {
            "text/plain": [
              "0.15123523377924633"
            ]
          },
          "metadata": {},
          "execution_count": 17
        }
      ]
    },
    {
      "cell_type": "code",
      "metadata": {
        "colab": {
          "base_uri": "https://localhost:8080/"
        },
        "id": "aNeQYgRQH5o3",
        "outputId": "1a96ed2c-9f16-473f-d5c4-8e4703b23f29"
      },
      "source": [
        "taxa_selic_historico = np.array([12.75, 14.25, 12.25, 6.5, 5.0, 2.0])\n",
        "rf = taxa_selic_historico.mean() / 100\n",
        "rf"
      ],
      "execution_count": 18,
      "outputs": [
        {
          "output_type": "execute_result",
          "data": {
            "text/plain": [
              "0.08791666666666666"
            ]
          },
          "metadata": {},
          "execution_count": 18
        }
      ]
    },
    {
      "cell_type": "code",
      "metadata": {
        "colab": {
          "base_uri": "https://localhost:8080/"
        },
        "id": "hzWvFHYQIIUl",
        "outputId": "8b8f3c3d-8a21-4205-9adf-0c6d9c21e5bf"
      },
      "source": [
        "capm_mglu = rf + (beta * (rm - rf))\n",
        "capm_mglu"
      ],
      "execution_count": 19,
      "outputs": [
        {
          "output_type": "execute_result",
          "data": {
            "text/plain": [
              "0.15871819908936718"
            ]
          },
          "metadata": {},
          "execution_count": 19
        }
      ]
    },
    {
      "cell_type": "markdown",
      "metadata": {
        "id": "SLawHzfNWUiZ"
      },
      "source": [
        "**Cálculo do BETA para todas as ações**"
      ]
    },
    {
      "cell_type": "code",
      "metadata": {
        "id": "Zu6y-DlPJX5u"
      },
      "source": [
        "betas = []\n",
        "alphas = []\n",
        "for ativo in dataset_taxa_retorno.columns[0:-1]:\n",
        "  #print(ativo)\n",
        "  beta, alpha = np.polyfit(dataset_taxa_retorno['BOVA'], dataset_taxa_retorno[ativo], 1)\n",
        "  betas.append(beta)\n",
        "  alphas.append(alpha)"
      ],
      "execution_count": 20,
      "outputs": []
    },
    {
      "cell_type": "code",
      "metadata": {
        "colab": {
          "base_uri": "https://localhost:8080/"
        },
        "id": "LLYo0lirKK5z",
        "outputId": "05bd4573-343d-4640-db67-c3314c355f13"
      },
      "source": [
        "betas"
      ],
      "execution_count": 21,
      "outputs": [
        {
          "output_type": "execute_result",
          "data": {
            "text/plain": [
              "[1.7619906958231593,\n",
              " 1.1238231711157995,\n",
              " 0.6915568417073886,\n",
              " 1.118179637527429,\n",
              " 0.7053530627240404]"
            ]
          },
          "metadata": {},
          "execution_count": 21
        }
      ]
    },
    {
      "cell_type": "code",
      "metadata": {
        "colab": {
          "base_uri": "https://localhost:8080/"
        },
        "id": "5wgeuLU0KNur",
        "outputId": "cff6c37a-5805-424c-e692-2daf87078620"
      },
      "source": [
        "alphas"
      ],
      "execution_count": 22,
      "outputs": [
        {
          "output_type": "execute_result",
          "data": {
            "text/plain": [
              "[0.00026701154086702586,\n",
              " -0.0002084674945157852,\n",
              " 0.0011327889341878129,\n",
              " 0.0034252907778759356,\n",
              " -9.779312788267474e-06]"
            ]
          },
          "metadata": {},
          "execution_count": 22
        }
      ]
    },
    {
      "cell_type": "code",
      "metadata": {
        "id": "OqO7_nyuKaQW"
      },
      "source": [
        "def visualiza_betas_alphas(betas, alphas):\n",
        "  for i, ativo in enumerate(dataset_taxa_retorno.columns[0:-1]):\n",
        "    #print(i, ativo)\n",
        "    print(ativo, 'beta:', betas[i], 'alpha:', alphas[i] * 100)"
      ],
      "execution_count": 23,
      "outputs": []
    },
    {
      "cell_type": "code",
      "metadata": {
        "colab": {
          "base_uri": "https://localhost:8080/"
        },
        "id": "Y5jwVaXfKoof",
        "outputId": "7d26c4d4-8666-4335-9e99-7ef2fa8f3cc5"
      },
      "source": [
        "visualiza_betas_alphas(betas, alphas)"
      ],
      "execution_count": 24,
      "outputs": [
        {
          "output_type": "stream",
          "name": "stdout",
          "text": [
            "GOL beta: 1.7619906958231593 alpha: 0.026701154086702587\n",
            "CVC beta: 1.1238231711157995 alpha: -0.02084674945157852\n",
            "WEGE beta: 0.6915568417073886 alpha: 0.11327889341878128\n",
            "MGLU beta: 1.118179637527429 alpha: 0.34252907778759356\n",
            "TOTS beta: 0.7053530627240404 alpha: -0.0009779312788267475\n"
          ]
        }
      ]
    },
    {
      "cell_type": "code",
      "metadata": {
        "colab": {
          "base_uri": "https://localhost:8080/"
        },
        "id": "GHPzw84zLy3M",
        "outputId": "41369b9f-84ba-4a35-a0ba-82a51a05e997"
      },
      "source": [
        "np.array(alphas).mean() * 100"
      ],
      "execution_count": 25,
      "outputs": [
        {
          "output_type": "execute_result",
          "data": {
            "text/plain": [
              "0.09213688891253444"
            ]
          },
          "metadata": {},
          "execution_count": 25
        }
      ]
    },
    {
      "cell_type": "markdown",
      "metadata": {
        "id": "P3EBWIdrcpsq"
      },
      "source": [
        "**Cálculo CAPM para o portfólio**"
      ]
    },
    {
      "cell_type": "code",
      "metadata": {
        "colab": {
          "base_uri": "https://localhost:8080/"
        },
        "id": "D6U4fLAqMW6p",
        "outputId": "2183451e-0b6b-4ee2-fae4-ef3f94519d81"
      },
      "source": [
        "rf"
      ],
      "execution_count": 26,
      "outputs": [
        {
          "output_type": "execute_result",
          "data": {
            "text/plain": [
              "0.08791666666666666"
            ]
          },
          "metadata": {},
          "execution_count": 26
        }
      ]
    },
    {
      "cell_type": "code",
      "metadata": {
        "colab": {
          "base_uri": "https://localhost:8080/"
        },
        "id": "cGx-ChhVMaD-",
        "outputId": "b3bd5b58-df74-4ae3-fc7e-2e586db3bb45"
      },
      "source": [
        "rm"
      ],
      "execution_count": 27,
      "outputs": [
        {
          "output_type": "execute_result",
          "data": {
            "text/plain": [
              "0.15123523377924633"
            ]
          },
          "metadata": {},
          "execution_count": 27
        }
      ]
    },
    {
      "cell_type": "code",
      "metadata": {
        "id": "cfVz6XnQMeNp"
      },
      "source": [
        "capm_empresas = []\n",
        "for i, ativo in enumerate(dataset_taxa_retorno.columns[0:-1]):\n",
        "  #print(i, ativo)\n",
        "  capm_empresas.append(rf + (betas[i] * (rm - rf)))"
      ],
      "execution_count": 29,
      "outputs": []
    },
    {
      "cell_type": "code",
      "metadata": {
        "colab": {
          "base_uri": "https://localhost:8080/"
        },
        "id": "r047-dQlMzvF",
        "outputId": "9ac31717-4381-4eac-f21c-fd47d7e9865b"
      },
      "source": [
        "capm_empresas"
      ],
      "execution_count": 30,
      "outputs": [
        {
          "output_type": "execute_result",
          "data": {
            "text/plain": [
              "[0.19948339279188632,\n",
              " 0.15907553954963452,\n",
              " 0.13170505496047957,\n",
              " 0.15871819908936718,\n",
              " 0.13257861190682244]"
            ]
          },
          "metadata": {},
          "execution_count": 30
        }
      ]
    },
    {
      "cell_type": "code",
      "metadata": {
        "id": "Sakwt3d_M3Ie"
      },
      "source": [
        "def visualiza_capm(capm):\n",
        "  for i, ativo in enumerate(dataset_taxa_retorno.columns[0:-1]):\n",
        "    print(ativo, 'CAPM:', capm[i] * 100)"
      ],
      "execution_count": 31,
      "outputs": []
    },
    {
      "cell_type": "code",
      "metadata": {
        "colab": {
          "base_uri": "https://localhost:8080/"
        },
        "id": "8ZE4y880NDSe",
        "outputId": "6a8cf96d-e6d2-4411-e005-b41bd609638c"
      },
      "source": [
        "visualiza_capm(capm_empresas)"
      ],
      "execution_count": 32,
      "outputs": [
        {
          "output_type": "stream",
          "name": "stdout",
          "text": [
            "GOL CAPM: 19.94833927918863\n",
            "CVC CAPM: 15.907553954963452\n",
            "WEGE CAPM: 13.170505496047957\n",
            "MGLU CAPM: 15.871819908936718\n",
            "TOTS CAPM: 13.257861190682243\n"
          ]
        }
      ]
    },
    {
      "cell_type": "code",
      "metadata": {
        "id": "s6IqRPNANTbZ"
      },
      "source": [
        "pesos = np.array([0.2, 0.2, 0.2, 0.2, 0.2])"
      ],
      "execution_count": 33,
      "outputs": []
    },
    {
      "cell_type": "code",
      "metadata": {
        "colab": {
          "base_uri": "https://localhost:8080/"
        },
        "id": "0PxtAgr0Nb6P",
        "outputId": "f9e13108-2f08-4db1-f05b-cc16374aea92"
      },
      "source": [
        "capm_portfolio = np.sum(capm_empresas * pesos) * 100\n",
        "capm_portfolio"
      ],
      "execution_count": 34,
      "outputs": [
        {
          "output_type": "execute_result",
          "data": {
            "text/plain": [
              "15.631215965963802"
            ]
          },
          "metadata": {},
          "execution_count": 34
        }
      ]
    },
    {
      "cell_type": "code",
      "metadata": {
        "colab": {
          "base_uri": "https://localhost:8080/",
          "height": 423
        },
        "id": "TwuNf7oqzQjH",
        "outputId": "7809a1f4-ef45-4931-8339-24ce9d5b8c33"
      },
      "source": [
        "dataset = pd.read_csv('acoes_ex.csv')\n",
        "dataset.drop(labels = ['Date'], axis = 1, inplace = True)\n",
        "dataset_normalizado = dataset.copy()\n",
        "\n",
        "for i in dataset.columns:\n",
        "  dataset_normalizado[i] = dataset[i] / dataset[i][0]\n",
        "\n",
        "dataset_taxa_retorno = (dataset_normalizado / dataset_normalizado.shift(1)) - 1\n",
        "dataset_taxa_retorno.fillna(0, inplace=True)\n",
        "dataset_taxa_retorno"
      ],
      "execution_count": 36,
      "outputs": [
        {
          "output_type": "execute_result",
          "data": {
            "text/html": [
              "\n",
              "  <div id=\"df-8f4753a6-ebe1-4a0e-b5cc-a219c28a9280\">\n",
              "    <div class=\"colab-df-container\">\n",
              "      <div>\n",
              "<style scoped>\n",
              "    .dataframe tbody tr th:only-of-type {\n",
              "        vertical-align: middle;\n",
              "    }\n",
              "\n",
              "    .dataframe tbody tr th {\n",
              "        vertical-align: top;\n",
              "    }\n",
              "\n",
              "    .dataframe thead th {\n",
              "        text-align: right;\n",
              "    }\n",
              "</style>\n",
              "<table border=\"1\" class=\"dataframe\">\n",
              "  <thead>\n",
              "    <tr style=\"text-align: right;\">\n",
              "      <th></th>\n",
              "      <th>AMBEV</th>\n",
              "      <th>ODONTOPREV</th>\n",
              "      <th>VIVO</th>\n",
              "      <th>PETROBRAS</th>\n",
              "      <th>BBRASIL</th>\n",
              "      <th>BOVA</th>\n",
              "    </tr>\n",
              "  </thead>\n",
              "  <tbody>\n",
              "    <tr>\n",
              "      <th>0</th>\n",
              "      <td>0.000000</td>\n",
              "      <td>0.000000</td>\n",
              "      <td>0.000000</td>\n",
              "      <td>0.000000</td>\n",
              "      <td>0.000000</td>\n",
              "      <td>0.000000</td>\n",
              "    </tr>\n",
              "    <tr>\n",
              "      <th>1</th>\n",
              "      <td>-0.018102</td>\n",
              "      <td>0.026681</td>\n",
              "      <td>-0.019831</td>\n",
              "      <td>-0.081111</td>\n",
              "      <td>-0.020751</td>\n",
              "      <td>-0.019890</td>\n",
              "    </tr>\n",
              "    <tr>\n",
              "      <th>2</th>\n",
              "      <td>0.038144</td>\n",
              "      <td>-0.007276</td>\n",
              "      <td>-0.024818</td>\n",
              "      <td>-0.025393</td>\n",
              "      <td>0.013977</td>\n",
              "      <td>0.005613</td>\n",
              "    </tr>\n",
              "    <tr>\n",
              "      <th>3</th>\n",
              "      <td>0.014084</td>\n",
              "      <td>0.014660</td>\n",
              "      <td>0.034301</td>\n",
              "      <td>0.048387</td>\n",
              "      <td>0.044020</td>\n",
              "      <td>0.033705</td>\n",
              "    </tr>\n",
              "    <tr>\n",
              "      <th>4</th>\n",
              "      <td>-0.001208</td>\n",
              "      <td>-0.003096</td>\n",
              "      <td>0.040653</td>\n",
              "      <td>0.067456</td>\n",
              "      <td>0.003407</td>\n",
              "      <td>0.007477</td>\n",
              "    </tr>\n",
              "    <tr>\n",
              "      <th>...</th>\n",
              "      <td>...</td>\n",
              "      <td>...</td>\n",
              "      <td>...</td>\n",
              "      <td>...</td>\n",
              "      <td>...</td>\n",
              "      <td>...</td>\n",
              "    </tr>\n",
              "    <tr>\n",
              "      <th>1441</th>\n",
              "      <td>-0.033803</td>\n",
              "      <td>0.031688</td>\n",
              "      <td>-0.019174</td>\n",
              "      <td>-0.016832</td>\n",
              "      <td>-0.021493</td>\n",
              "      <td>-0.010024</td>\n",
              "    </tr>\n",
              "    <tr>\n",
              "      <th>1442</th>\n",
              "      <td>-0.025510</td>\n",
              "      <td>-0.073571</td>\n",
              "      <td>-0.020009</td>\n",
              "      <td>-0.061430</td>\n",
              "      <td>-0.050030</td>\n",
              "      <td>-0.035177</td>\n",
              "    </tr>\n",
              "    <tr>\n",
              "      <th>1443</th>\n",
              "      <td>-0.035901</td>\n",
              "      <td>-0.010023</td>\n",
              "      <td>-0.008449</td>\n",
              "      <td>0.037017</td>\n",
              "      <td>-0.005780</td>\n",
              "      <td>0.005193</td>\n",
              "    </tr>\n",
              "    <tr>\n",
              "      <th>1444</th>\n",
              "      <td>-0.055081</td>\n",
              "      <td>-0.017913</td>\n",
              "      <td>0.009941</td>\n",
              "      <td>-0.017072</td>\n",
              "      <td>-0.037468</td>\n",
              "      <td>-0.024217</td>\n",
              "    </tr>\n",
              "    <tr>\n",
              "      <th>1445</th>\n",
              "      <td>0.040230</td>\n",
              "      <td>-0.007930</td>\n",
              "      <td>0.002578</td>\n",
              "      <td>0.036316</td>\n",
              "      <td>0.010738</td>\n",
              "      <td>0.017759</td>\n",
              "    </tr>\n",
              "  </tbody>\n",
              "</table>\n",
              "<p>1446 rows × 6 columns</p>\n",
              "</div>\n",
              "      <button class=\"colab-df-convert\" onclick=\"convertToInteractive('df-8f4753a6-ebe1-4a0e-b5cc-a219c28a9280')\"\n",
              "              title=\"Convert this dataframe to an interactive table.\"\n",
              "              style=\"display:none;\">\n",
              "        \n",
              "  <svg xmlns=\"http://www.w3.org/2000/svg\" height=\"24px\"viewBox=\"0 0 24 24\"\n",
              "       width=\"24px\">\n",
              "    <path d=\"M0 0h24v24H0V0z\" fill=\"none\"/>\n",
              "    <path d=\"M18.56 5.44l.94 2.06.94-2.06 2.06-.94-2.06-.94-.94-2.06-.94 2.06-2.06.94zm-11 1L8.5 8.5l.94-2.06 2.06-.94-2.06-.94L8.5 2.5l-.94 2.06-2.06.94zm10 10l.94 2.06.94-2.06 2.06-.94-2.06-.94-.94-2.06-.94 2.06-2.06.94z\"/><path d=\"M17.41 7.96l-1.37-1.37c-.4-.4-.92-.59-1.43-.59-.52 0-1.04.2-1.43.59L10.3 9.45l-7.72 7.72c-.78.78-.78 2.05 0 2.83L4 21.41c.39.39.9.59 1.41.59.51 0 1.02-.2 1.41-.59l7.78-7.78 2.81-2.81c.8-.78.8-2.07 0-2.86zM5.41 20L4 18.59l7.72-7.72 1.47 1.35L5.41 20z\"/>\n",
              "  </svg>\n",
              "      </button>\n",
              "      \n",
              "  <style>\n",
              "    .colab-df-container {\n",
              "      display:flex;\n",
              "      flex-wrap:wrap;\n",
              "      gap: 12px;\n",
              "    }\n",
              "\n",
              "    .colab-df-convert {\n",
              "      background-color: #E8F0FE;\n",
              "      border: none;\n",
              "      border-radius: 50%;\n",
              "      cursor: pointer;\n",
              "      display: none;\n",
              "      fill: #1967D2;\n",
              "      height: 32px;\n",
              "      padding: 0 0 0 0;\n",
              "      width: 32px;\n",
              "    }\n",
              "\n",
              "    .colab-df-convert:hover {\n",
              "      background-color: #E2EBFA;\n",
              "      box-shadow: 0px 1px 2px rgba(60, 64, 67, 0.3), 0px 1px 3px 1px rgba(60, 64, 67, 0.15);\n",
              "      fill: #174EA6;\n",
              "    }\n",
              "\n",
              "    [theme=dark] .colab-df-convert {\n",
              "      background-color: #3B4455;\n",
              "      fill: #D2E3FC;\n",
              "    }\n",
              "\n",
              "    [theme=dark] .colab-df-convert:hover {\n",
              "      background-color: #434B5C;\n",
              "      box-shadow: 0px 1px 3px 1px rgba(0, 0, 0, 0.15);\n",
              "      filter: drop-shadow(0px 1px 2px rgba(0, 0, 0, 0.3));\n",
              "      fill: #FFFFFF;\n",
              "    }\n",
              "  </style>\n",
              "\n",
              "      <script>\n",
              "        const buttonEl =\n",
              "          document.querySelector('#df-8f4753a6-ebe1-4a0e-b5cc-a219c28a9280 button.colab-df-convert');\n",
              "        buttonEl.style.display =\n",
              "          google.colab.kernel.accessAllowed ? 'block' : 'none';\n",
              "\n",
              "        async function convertToInteractive(key) {\n",
              "          const element = document.querySelector('#df-8f4753a6-ebe1-4a0e-b5cc-a219c28a9280');\n",
              "          const dataTable =\n",
              "            await google.colab.kernel.invokeFunction('convertToInteractive',\n",
              "                                                     [key], {});\n",
              "          if (!dataTable) return;\n",
              "\n",
              "          const docLinkHtml = 'Like what you see? Visit the ' +\n",
              "            '<a target=\"_blank\" href=https://colab.research.google.com/notebooks/data_table.ipynb>data table notebook</a>'\n",
              "            + ' to learn more about interactive tables.';\n",
              "          element.innerHTML = '';\n",
              "          dataTable['output_type'] = 'display_data';\n",
              "          await google.colab.output.renderOutput(dataTable, element);\n",
              "          const docLink = document.createElement('div');\n",
              "          docLink.innerHTML = docLinkHtml;\n",
              "          element.appendChild(docLink);\n",
              "        }\n",
              "      </script>\n",
              "    </div>\n",
              "  </div>\n",
              "  "
            ],
            "text/plain": [
              "         AMBEV  ODONTOPREV      VIVO  PETROBRAS   BBRASIL      BOVA\n",
              "0     0.000000    0.000000  0.000000   0.000000  0.000000  0.000000\n",
              "1    -0.018102    0.026681 -0.019831  -0.081111 -0.020751 -0.019890\n",
              "2     0.038144   -0.007276 -0.024818  -0.025393  0.013977  0.005613\n",
              "3     0.014084    0.014660  0.034301   0.048387  0.044020  0.033705\n",
              "4    -0.001208   -0.003096  0.040653   0.067456  0.003407  0.007477\n",
              "...        ...         ...       ...        ...       ...       ...\n",
              "1441 -0.033803    0.031688 -0.019174  -0.016832 -0.021493 -0.010024\n",
              "1442 -0.025510   -0.073571 -0.020009  -0.061430 -0.050030 -0.035177\n",
              "1443 -0.035901   -0.010023 -0.008449   0.037017 -0.005780  0.005193\n",
              "1444 -0.055081   -0.017913  0.009941  -0.017072 -0.037468 -0.024217\n",
              "1445  0.040230   -0.007930  0.002578   0.036316  0.010738  0.017759\n",
              "\n",
              "[1446 rows x 6 columns]"
            ]
          },
          "metadata": {},
          "execution_count": 36
        }
      ]
    },
    {
      "cell_type": "code",
      "metadata": {
        "id": "3Hnuh41Az6KE"
      },
      "source": [
        "betas = []\n",
        "alphas = []\n",
        "for ativo in dataset_taxa_retorno.columns[0:-1]:\n",
        "  beta, alpha = np.polyfit(dataset_taxa_retorno['BOVA'], dataset_taxa_retorno[ativo], 1)\n",
        "  betas.append(beta)\n",
        "  alphas.append(alpha)"
      ],
      "execution_count": 37,
      "outputs": []
    },
    {
      "cell_type": "code",
      "metadata": {
        "colab": {
          "base_uri": "https://localhost:8080/"
        },
        "id": "O-wxdwoqz-Us",
        "outputId": "b14e576d-f879-4cdd-cbb9-1f4d8a275a97"
      },
      "source": [
        "# O retorno do BBRASIL é 37% mais volátil que o mercado\n",
        "# O retorno da PETROBRAS excedeu o mercado em 0.01%\n",
        "# O retorno da AMBEV ficou abaixo do mercado em 0.03%\n",
        "visualiza_betas_alphas(betas, alphas)"
      ],
      "execution_count": 38,
      "outputs": [
        {
          "output_type": "stream",
          "name": "stdout",
          "text": [
            "AMBEV beta: 0.5864193877010117 alpha: -0.03722995000184679\n",
            "ODONTOPREV beta: 0.45451031039341405 alpha: 0.012062298116668934\n",
            "VIVO beta: 0.5292082621316375 alpha: -0.0032450753834640175\n",
            "PETROBRAS beta: 1.5147437251435631 alpha: 0.019317115790244095\n",
            "BBRASIL beta: 1.3750776847910828 alpha: -0.01952817708041144\n"
          ]
        }
      ]
    },
    {
      "cell_type": "code",
      "metadata": {
        "colab": {
          "base_uri": "https://localhost:8080/"
        },
        "id": "DWzIckjQ0BaW",
        "outputId": "b4cb280b-9a5f-4626-c260-024bfe47a249"
      },
      "source": [
        "np.array(alphas).mean() * 100"
      ],
      "execution_count": 39,
      "outputs": [
        {
          "output_type": "execute_result",
          "data": {
            "text/plain": [
              "-0.0057247577117618435"
            ]
          },
          "metadata": {},
          "execution_count": 39
        }
      ]
    },
    {
      "cell_type": "code",
      "metadata": {
        "colab": {
          "base_uri": "https://localhost:8080/"
        },
        "id": "RLSzsa2E1JHH",
        "outputId": "a4752bc2-5650-4bea-f988-6db48341483e"
      },
      "source": [
        "rm = dataset_taxa_retorno['BOVA'].mean() * 246\n",
        "taxa_selic_historico = np.array([12.75, 14.25, 12.25, 6.5, 5.0, 2.0]).mean() / 100\n",
        "rm, rf"
      ],
      "execution_count": 40,
      "outputs": [
        {
          "output_type": "execute_result",
          "data": {
            "text/plain": [
              "(0.1509725090877086, 0.08791666666666666)"
            ]
          },
          "metadata": {},
          "execution_count": 40
        }
      ]
    },
    {
      "cell_type": "code",
      "metadata": {
        "id": "jC2gYI5S0j09"
      },
      "source": [
        "capm_empresas = []\n",
        "for i, ativo in enumerate(dataset_taxa_retorno.columns[0:-1]):\n",
        "  capm_empresas.append(rf + (betas[i] * (rm - rf)))"
      ],
      "execution_count": 41,
      "outputs": []
    },
    {
      "cell_type": "code",
      "metadata": {
        "colab": {
          "base_uri": "https://localhost:8080/"
        },
        "id": "TT4I0tHO0l6q",
        "outputId": "3e007b25-d282-4468-e681-3b36158edcfd"
      },
      "source": [
        "# Se investirmos na AMBEV, ganharemos 12.5% de retorno para ser compensado pelo risco que corremos\n",
        "visualiza_capm(capm_empresas)"
      ],
      "execution_count": 42,
      "outputs": [
        {
          "output_type": "stream",
          "name": "stdout",
          "text": [
            "AMBEV CAPM: 12.489383517018554\n",
            "ODONTOPREV CAPM: 11.657619717757264\n",
            "VIVO CAPM: 12.128633945155265\n",
            "PETROBRAS CAPM: 18.34301083075812\n",
            "BBRASIL CAPM: 17.462334847554434\n"
          ]
        }
      ]
    },
    {
      "cell_type": "code",
      "metadata": {
        "id": "g35Qo4yt018A"
      },
      "source": [
        "pesos = np.array([0.2, 0.2, 0.2, 0.2, 0.2])"
      ],
      "execution_count": 43,
      "outputs": []
    },
    {
      "cell_type": "code",
      "metadata": {
        "colab": {
          "base_uri": "https://localhost:8080/"
        },
        "id": "QGlZxC_b1a94",
        "outputId": "7df9a5aa-bfb0-4ec7-def1-592a2302a68f"
      },
      "source": [
        "# Se investirmos no portfólio, ganharemos 14.4% de retorno para ser compensado pelo risco que corremos\n",
        "capm_portfólio = np.sum(capm_empresas * pesos) * 100\n",
        "capm_portfólio"
      ],
      "execution_count": 44,
      "outputs": [
        {
          "output_type": "execute_result",
          "data": {
            "text/plain": [
              "14.41619657164873"
            ]
          },
          "metadata": {},
          "execution_count": 44
        }
      ]
    }
  ]
}