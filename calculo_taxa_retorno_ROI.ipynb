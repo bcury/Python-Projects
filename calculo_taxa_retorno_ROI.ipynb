{
  "nbformat": 4,
  "nbformat_minor": 0,
  "metadata": {
    "colab": {
      "name": "calculo_taxa_retorno_ROI",
      "provenance": [],
      "collapsed_sections": [],
      "authorship_tag": "ABX9TyP+GSNt0gWIrkbN51c7/V0x",
      "include_colab_link": true
    },
    "kernelspec": {
      "name": "python3",
      "display_name": "Python 3"
    },
    "language_info": {
      "name": "python"
    }
  },
  "cells": [
    {
      "cell_type": "markdown",
      "metadata": {
        "id": "view-in-github",
        "colab_type": "text"
      },
      "source": [
        "<a href=\"https://colab.research.google.com/github/bcury/Python-Projects/blob/main/calculo_taxa_retorno_ROI.ipynb\" target=\"_parent\"><img src=\"https://colab.research.google.com/assets/colab-badge.svg\" alt=\"Open In Colab\"/></a>"
      ]
    },
    {
      "cell_type": "markdown",
      "source": [
        "***ROI = (Invest final - invest incial) / invest inicial***"
      ],
      "metadata": {
        "id": "CuyKbYRmk-7T"
      }
    },
    {
      "cell_type": "code",
      "source": [
        "import pandas as pd\n",
        "import numpy as np\n",
        "import seaborn as sns\n",
        "import matplotlib.pyplot as plt\n",
        "from pandas_datareader import data as wb\n",
        "import requests\n",
        "from bs4 import BeautifulSoup\n",
        "import datetime\n",
        "from dateutil.relativedelta import relativedelta\n",
        "import plotly.graph_objects as Dash\n"
      ],
      "metadata": {
        "id": "GzLxnSbvlPT8"
      },
      "execution_count": 10,
      "outputs": []
    },
    {
      "cell_type": "markdown",
      "source": [
        "vamos usar a API do Yahoo Finance neste caso como exemplo de 2017, já convertida para csv"
      ],
      "metadata": {
        "id": "F7PvQ3-ElxgG"
      }
    },
    {
      "cell_type": "code",
      "source": [
        "base = pd.read_csv('/content/AAPL.csv')"
      ],
      "metadata": {
        "id": "-pZP0sNu5Hht"
      },
      "execution_count": 39,
      "outputs": []
    },
    {
      "cell_type": "code",
      "source": [
        "pagina = requests.get(site)"
      ],
      "metadata": {
        "id": "rKRAgTyAoHwh"
      },
      "execution_count": 13,
      "outputs": []
    },
    {
      "cell_type": "code",
      "source": [
        "coleta = BeautifulSoup(pagina.text, 'html.parser')"
      ],
      "metadata": {
        "id": "jfFBEGAfoRy6"
      },
      "execution_count": 14,
      "outputs": []
    },
    {
      "cell_type": "code",
      "source": [
        "print(coleta.title)"
      ],
      "metadata": {
        "colab": {
          "base_uri": "https://localhost:8080/"
        },
        "id": "qoDIRfupoU2F",
        "outputId": "4aa3967c-8ebb-4ff5-afdc-d95c5ff89595"
      },
      "execution_count": 15,
      "outputs": [
        {
          "output_type": "stream",
          "name": "stdout",
          "text": [
            "<title>Yahoo</title>\n"
          ]
        }
      ]
    },
    {
      "cell_type": "code",
      "source": [
        "tabelas = coleta.find_all('table')"
      ],
      "metadata": {
        "id": "liOgAs50oXIa"
      },
      "execution_count": 32,
      "outputs": []
    },
    {
      "cell_type": "code",
      "source": [
        "print('Localizado:', len(tabelas),'tabelas')"
      ],
      "metadata": {
        "colab": {
          "base_uri": "https://localhost:8080/"
        },
        "id": "r5B3l71gonuI",
        "outputId": "9d537ee6-a4ec-47d7-d54f-a00f7b85d40f"
      },
      "execution_count": 33,
      "outputs": [
        {
          "output_type": "stream",
          "name": "stdout",
          "text": [
            "Localizado: 1 tabelas\n"
          ]
        }
      ]
    },
    {
      "cell_type": "code",
      "source": [
        "tabelas"
      ],
      "metadata": {
        "colab": {
          "base_uri": "https://localhost:8080/"
        },
        "id": "6aPrNavvor0G",
        "outputId": "a2a6abc3-90f4-4a3f-9611-450669a1d97b"
      },
      "execution_count": 36,
      "outputs": [
        {
          "output_type": "execute_result",
          "data": {
            "text/plain": [
              "[<table>\n",
              " <tbody><tr>\n",
              " <td>\n",
              " <img alt=\"Yahoo Logo\" src=\"https://s.yimg.com/rz/p/yahoo_frontpage_en-US_s_f_p_205x58_frontpage.png\"/>\n",
              " <h1 style=\"margin-top:20px;\">Will be right back...</h1>\n",
              " <p id=\"message-1\">Thank you for your patience.</p>\n",
              " <p id=\"message-2\">Our engineers are working quickly to resolve the issue.</p>\n",
              " </td>\n",
              " </tr>\n",
              " </tbody></table>]"
            ]
          },
          "metadata": {},
          "execution_count": 36
        }
      ]
    },
    {
      "cell_type": "code",
      "source": [
        "base.head()"
      ],
      "metadata": {
        "colab": {
          "base_uri": "https://localhost:8080/",
          "height": 206
        },
        "id": "3T_p3NVK4vCy",
        "outputId": "092caaa1-6e04-4d34-8dfd-cb1247a08d0f"
      },
      "execution_count": 40,
      "outputs": [
        {
          "output_type": "execute_result",
          "data": {
            "text/html": [
              "<div>\n",
              "<style scoped>\n",
              "    .dataframe tbody tr th:only-of-type {\n",
              "        vertical-align: middle;\n",
              "    }\n",
              "\n",
              "    .dataframe tbody tr th {\n",
              "        vertical-align: top;\n",
              "    }\n",
              "\n",
              "    .dataframe thead th {\n",
              "        text-align: right;\n",
              "    }\n",
              "</style>\n",
              "<table border=\"1\" class=\"dataframe\">\n",
              "  <thead>\n",
              "    <tr style=\"text-align: right;\">\n",
              "      <th></th>\n",
              "      <th>Date</th>\n",
              "      <th>Open</th>\n",
              "      <th>High</th>\n",
              "      <th>Low</th>\n",
              "      <th>Close</th>\n",
              "      <th>Adj Close</th>\n",
              "      <th>Volume</th>\n",
              "    </tr>\n",
              "  </thead>\n",
              "  <tbody>\n",
              "    <tr>\n",
              "      <th>0</th>\n",
              "      <td>2017-04-18</td>\n",
              "      <td>35.352501</td>\n",
              "      <td>35.509998</td>\n",
              "      <td>35.277500</td>\n",
              "      <td>35.299999</td>\n",
              "      <td>33.371307</td>\n",
              "      <td>58790000</td>\n",
              "    </tr>\n",
              "    <tr>\n",
              "      <th>1</th>\n",
              "      <td>2017-04-19</td>\n",
              "      <td>35.470001</td>\n",
              "      <td>35.500000</td>\n",
              "      <td>35.112499</td>\n",
              "      <td>35.169998</td>\n",
              "      <td>33.248409</td>\n",
              "      <td>69313600</td>\n",
              "    </tr>\n",
              "    <tr>\n",
              "      <th>2</th>\n",
              "      <td>2017-04-20</td>\n",
              "      <td>35.305000</td>\n",
              "      <td>35.730000</td>\n",
              "      <td>35.290001</td>\n",
              "      <td>35.610001</td>\n",
              "      <td>33.664371</td>\n",
              "      <td>93278400</td>\n",
              "    </tr>\n",
              "    <tr>\n",
              "      <th>3</th>\n",
              "      <td>2017-04-21</td>\n",
              "      <td>35.610001</td>\n",
              "      <td>35.669998</td>\n",
              "      <td>35.462502</td>\n",
              "      <td>35.567501</td>\n",
              "      <td>33.624195</td>\n",
              "      <td>69283600</td>\n",
              "    </tr>\n",
              "    <tr>\n",
              "      <th>4</th>\n",
              "      <td>2017-04-24</td>\n",
              "      <td>35.875000</td>\n",
              "      <td>35.987499</td>\n",
              "      <td>35.794998</td>\n",
              "      <td>35.910000</td>\n",
              "      <td>33.947987</td>\n",
              "      <td>68537200</td>\n",
              "    </tr>\n",
              "  </tbody>\n",
              "</table>\n",
              "</div>"
            ],
            "text/plain": [
              "         Date       Open       High        Low      Close  Adj Close    Volume\n",
              "0  2017-04-18  35.352501  35.509998  35.277500  35.299999  33.371307  58790000\n",
              "1  2017-04-19  35.470001  35.500000  35.112499  35.169998  33.248409  69313600\n",
              "2  2017-04-20  35.305000  35.730000  35.290001  35.610001  33.664371  93278400\n",
              "3  2017-04-21  35.610001  35.669998  35.462502  35.567501  33.624195  69283600\n",
              "4  2017-04-24  35.875000  35.987499  35.794998  35.910000  33.947987  68537200"
            ]
          },
          "metadata": {},
          "execution_count": 40
        }
      ]
    },
    {
      "cell_type": "markdown",
      "source": [
        "podemos mudar a equação do ROI: "
      ],
      "metadata": {
        "id": "xTN4Dzji6rSW"
      }
    },
    {
      "cell_type": "code",
      "source": [
        "base['ROI'] = (base['Adj Close'] / base['Adj Close'].shift(1)-1)"
      ],
      "metadata": {
        "id": "8XSdehTi6eY2"
      },
      "execution_count": 41,
      "outputs": []
    },
    {
      "cell_type": "code",
      "source": [
        "base.head()"
      ],
      "metadata": {
        "colab": {
          "base_uri": "https://localhost:8080/",
          "height": 206
        },
        "id": "C7m5w7d97H1M",
        "outputId": "d3c49c65-53aa-403c-ea7d-f7d0dc1e5ad4"
      },
      "execution_count": 42,
      "outputs": [
        {
          "output_type": "execute_result",
          "data": {
            "text/html": [
              "<div>\n",
              "<style scoped>\n",
              "    .dataframe tbody tr th:only-of-type {\n",
              "        vertical-align: middle;\n",
              "    }\n",
              "\n",
              "    .dataframe tbody tr th {\n",
              "        vertical-align: top;\n",
              "    }\n",
              "\n",
              "    .dataframe thead th {\n",
              "        text-align: right;\n",
              "    }\n",
              "</style>\n",
              "<table border=\"1\" class=\"dataframe\">\n",
              "  <thead>\n",
              "    <tr style=\"text-align: right;\">\n",
              "      <th></th>\n",
              "      <th>Date</th>\n",
              "      <th>Open</th>\n",
              "      <th>High</th>\n",
              "      <th>Low</th>\n",
              "      <th>Close</th>\n",
              "      <th>Adj Close</th>\n",
              "      <th>Volume</th>\n",
              "      <th>ROI</th>\n",
              "    </tr>\n",
              "  </thead>\n",
              "  <tbody>\n",
              "    <tr>\n",
              "      <th>0</th>\n",
              "      <td>2017-04-18</td>\n",
              "      <td>35.352501</td>\n",
              "      <td>35.509998</td>\n",
              "      <td>35.277500</td>\n",
              "      <td>35.299999</td>\n",
              "      <td>33.371307</td>\n",
              "      <td>58790000</td>\n",
              "      <td>NaN</td>\n",
              "    </tr>\n",
              "    <tr>\n",
              "      <th>1</th>\n",
              "      <td>2017-04-19</td>\n",
              "      <td>35.470001</td>\n",
              "      <td>35.500000</td>\n",
              "      <td>35.112499</td>\n",
              "      <td>35.169998</td>\n",
              "      <td>33.248409</td>\n",
              "      <td>69313600</td>\n",
              "      <td>-0.003683</td>\n",
              "    </tr>\n",
              "    <tr>\n",
              "      <th>2</th>\n",
              "      <td>2017-04-20</td>\n",
              "      <td>35.305000</td>\n",
              "      <td>35.730000</td>\n",
              "      <td>35.290001</td>\n",
              "      <td>35.610001</td>\n",
              "      <td>33.664371</td>\n",
              "      <td>93278400</td>\n",
              "      <td>0.012511</td>\n",
              "    </tr>\n",
              "    <tr>\n",
              "      <th>3</th>\n",
              "      <td>2017-04-21</td>\n",
              "      <td>35.610001</td>\n",
              "      <td>35.669998</td>\n",
              "      <td>35.462502</td>\n",
              "      <td>35.567501</td>\n",
              "      <td>33.624195</td>\n",
              "      <td>69283600</td>\n",
              "      <td>-0.001193</td>\n",
              "    </tr>\n",
              "    <tr>\n",
              "      <th>4</th>\n",
              "      <td>2017-04-24</td>\n",
              "      <td>35.875000</td>\n",
              "      <td>35.987499</td>\n",
              "      <td>35.794998</td>\n",
              "      <td>35.910000</td>\n",
              "      <td>33.947987</td>\n",
              "      <td>68537200</td>\n",
              "      <td>0.009630</td>\n",
              "    </tr>\n",
              "  </tbody>\n",
              "</table>\n",
              "</div>"
            ],
            "text/plain": [
              "         Date       Open       High  ...  Adj Close    Volume       ROI\n",
              "0  2017-04-18  35.352501  35.509998  ...  33.371307  58790000       NaN\n",
              "1  2017-04-19  35.470001  35.500000  ...  33.248409  69313600 -0.003683\n",
              "2  2017-04-20  35.305000  35.730000  ...  33.664371  93278400  0.012511\n",
              "3  2017-04-21  35.610001  35.669998  ...  33.624195  69283600 -0.001193\n",
              "4  2017-04-24  35.875000  35.987499  ...  33.947987  68537200  0.009630\n",
              "\n",
              "[5 rows x 8 columns]"
            ]
          },
          "metadata": {},
          "execution_count": 42
        }
      ]
    },
    {
      "cell_type": "markdown",
      "source": [
        "a função shift que vem do pandas, nos permite usar o valor do dia anterior de forma menos estatica, assim podemos encontrar o ROI de um dia para o outro, usando o valor atual sobre o valor do dia anterior"
      ],
      "metadata": {
        "id": "a39uz6VC7STE"
      }
    },
    {
      "cell_type": "code",
      "source": [
        "base.tail()"
      ],
      "metadata": {
        "colab": {
          "base_uri": "https://localhost:8080/",
          "height": 206
        },
        "id": "6pAWuCab9MkU",
        "outputId": "4363fa12-745e-41ba-c019-2f1b01bd021e"
      },
      "execution_count": 49,
      "outputs": [
        {
          "output_type": "execute_result",
          "data": {
            "text/html": [
              "<div>\n",
              "<style scoped>\n",
              "    .dataframe tbody tr th:only-of-type {\n",
              "        vertical-align: middle;\n",
              "    }\n",
              "\n",
              "    .dataframe tbody tr th {\n",
              "        vertical-align: top;\n",
              "    }\n",
              "\n",
              "    .dataframe thead th {\n",
              "        text-align: right;\n",
              "    }\n",
              "</style>\n",
              "<table border=\"1\" class=\"dataframe\">\n",
              "  <thead>\n",
              "    <tr style=\"text-align: right;\">\n",
              "      <th></th>\n",
              "      <th>Date</th>\n",
              "      <th>Open</th>\n",
              "      <th>High</th>\n",
              "      <th>Low</th>\n",
              "      <th>Close</th>\n",
              "      <th>Adj Close</th>\n",
              "      <th>Volume</th>\n",
              "      <th>ROI</th>\n",
              "    </tr>\n",
              "  </thead>\n",
              "  <tbody>\n",
              "    <tr>\n",
              "      <th>18</th>\n",
              "      <td>2017-05-12</td>\n",
              "      <td>38.674999</td>\n",
              "      <td>39.105000</td>\n",
              "      <td>38.667500</td>\n",
              "      <td>39.025002</td>\n",
              "      <td>37.045063</td>\n",
              "      <td>130108000</td>\n",
              "      <td>0.013966</td>\n",
              "    </tr>\n",
              "    <tr>\n",
              "      <th>19</th>\n",
              "      <td>2017-05-15</td>\n",
              "      <td>39.002499</td>\n",
              "      <td>39.162498</td>\n",
              "      <td>38.762501</td>\n",
              "      <td>38.924999</td>\n",
              "      <td>36.950138</td>\n",
              "      <td>104038800</td>\n",
              "      <td>-0.002562</td>\n",
              "    </tr>\n",
              "    <tr>\n",
              "      <th>20</th>\n",
              "      <td>2017-05-16</td>\n",
              "      <td>38.985001</td>\n",
              "      <td>39.014999</td>\n",
              "      <td>38.680000</td>\n",
              "      <td>38.867500</td>\n",
              "      <td>36.895554</td>\n",
              "      <td>80194000</td>\n",
              "      <td>-0.001477</td>\n",
              "    </tr>\n",
              "    <tr>\n",
              "      <th>21</th>\n",
              "      <td>2017-05-17</td>\n",
              "      <td>38.400002</td>\n",
              "      <td>38.642502</td>\n",
              "      <td>37.427502</td>\n",
              "      <td>37.562500</td>\n",
              "      <td>35.656765</td>\n",
              "      <td>203070800</td>\n",
              "      <td>-0.033576</td>\n",
              "    </tr>\n",
              "    <tr>\n",
              "      <th>22</th>\n",
              "      <td>2017-05-18</td>\n",
              "      <td>37.817501</td>\n",
              "      <td>38.334999</td>\n",
              "      <td>37.782501</td>\n",
              "      <td>38.134998</td>\n",
              "      <td>36.200214</td>\n",
              "      <td>134272800</td>\n",
              "      <td>0.015241</td>\n",
              "    </tr>\n",
              "  </tbody>\n",
              "</table>\n",
              "</div>"
            ],
            "text/plain": [
              "          Date       Open       High  ...  Adj Close     Volume       ROI\n",
              "18  2017-05-12  38.674999  39.105000  ...  37.045063  130108000  0.013966\n",
              "19  2017-05-15  39.002499  39.162498  ...  36.950138  104038800 -0.002562\n",
              "20  2017-05-16  38.985001  39.014999  ...  36.895554   80194000 -0.001477\n",
              "21  2017-05-17  38.400002  38.642502  ...  35.656765  203070800 -0.033576\n",
              "22  2017-05-18  37.817501  38.334999  ...  36.200214  134272800  0.015241\n",
              "\n",
              "[5 rows x 8 columns]"
            ]
          },
          "metadata": {},
          "execution_count": 49
        }
      ]
    },
    {
      "cell_type": "code",
      "source": [
        "#gráficos"
      ],
      "metadata": {
        "id": "W62KGVGa7Jvz"
      },
      "execution_count": 43,
      "outputs": []
    },
    {
      "cell_type": "code",
      "source": [
        "base['ROI'].plot(figsize = (10,5));\n"
      ],
      "metadata": {
        "colab": {
          "base_uri": "https://localhost:8080/",
          "height": 323
        },
        "id": "90GZ6pIl7wtM",
        "outputId": "bd8384ff-be8d-47c4-d8fd-9f7724900a04"
      },
      "execution_count": 45,
      "outputs": [
        {
          "output_type": "display_data",
          "data": {
            "image/png": "[encoded data removed]",
            "text/plain": [
              "<Figure size 720x360 with 1 Axes>"
            ]
          },
          "metadata": {
            "needs_background": "light"
          }
        }
      ]
    },
    {
      "cell_type": "markdown",
      "source": [
        "percebemos bastante oscilações"
      ],
      "metadata": {
        "id": "IWCZI6Ub8Gin"
      }
    },
    {
      "cell_type": "markdown",
      "source": [
        "Para uma melhor análise, vamos verificar a média desse retorno multiplicada pelos dias uteis no ano(%):"
      ],
      "metadata": {
        "id": "_n9Dh2KQ8Prp"
      }
    },
    {
      "cell_type": "code",
      "source": [
        "ROI_medio = round(base['ROI'].mean()*250,5)"
      ],
      "metadata": {
        "id": "x8k9sKm27-2d"
      },
      "execution_count": 46,
      "outputs": []
    },
    {
      "cell_type": "code",
      "source": [
        "ROI_medio"
      ],
      "metadata": {
        "colab": {
          "base_uri": "https://localhost:8080/"
        },
        "id": "O0qoWQvI8pV4",
        "outputId": "f7f27e82-4e72-4500-db38-60e47abd1689"
      },
      "execution_count": 47,
      "outputs": [
        {
          "output_type": "execute_result",
          "data": {
            "text/plain": [
              "0.9447"
            ]
          },
          "metadata": {},
          "execution_count": 47
        }
      ]
    },
    {
      "cell_type": "code",
      "source": [
        "print(str(round(ROI_medio*100,2))+'%')"
      ],
      "metadata": {
        "colab": {
          "base_uri": "https://localhost:8080/"
        },
        "id": "YohIeXzu8rLp",
        "outputId": "dc2c6b7a-cc74-4a77-cd8d-d349a600ff1d"
      },
      "execution_count": 48,
      "outputs": [
        {
          "output_type": "stream",
          "name": "stdout",
          "text": [
            "94.47%\n"
          ]
        }
      ]
    },
    {
      "cell_type": "markdown",
      "source": [
        "então temos considerando essa base de dados que tivemos o retorno de investimento de 94,47% em 2007"
      ],
      "metadata": {
        "id": "kkUTnKJs89bZ"
      }
    },
    {
      "cell_type": "markdown",
      "source": [
        "Para terminar, de forma geral, podemos obter valores da Microsoft , google, amazon, entre outras, mas aqui vou focar na AMAZON"
      ],
      "metadata": {
        "id": "mIycnzSq9ezb"
      }
    },
    {
      "cell_type": "code",
      "source": [
        "stickers = ['AMZN']"
      ],
      "metadata": {
        "id": "xIjW5N7185Q7"
      },
      "execution_count": 67,
      "outputs": []
    },
    {
      "cell_type": "code",
      "source": [
        "dados = pd.DataFrame()"
      ],
      "metadata": {
        "id": "dGACnhB-9zdc"
      },
      "execution_count": 68,
      "outputs": []
    },
    {
      "cell_type": "code",
      "source": [
        "for i in stickers:\n",
        "  dados[i] = base['Adj Close']"
      ],
      "metadata": {
        "id": "khf9JDR895Hk"
      },
      "execution_count": 69,
      "outputs": []
    },
    {
      "cell_type": "code",
      "source": [
        "#VISUALIZAR\n",
        "(dados/dados.iloc[0]*100).plot(figsize =(15,7))"
      ],
      "metadata": {
        "colab": {
          "base_uri": "https://localhost:8080/",
          "height": 436
        },
        "id": "IcbMMKjE-bgZ",
        "outputId": "1df6754b-ab6f-4baa-9e7e-88097684ed43"
      },
      "execution_count": 70,
      "outputs": [
        {
          "output_type": "execute_result",
          "data": {
            "text/plain": [
              "<matplotlib.axes._subplots.AxesSubplot at 0x7f3ac95b1ed0>"
            ]
          },
          "metadata": {},
          "execution_count": 70
        },
        {
          "output_type": "display_data",
          "data": {
            "image/png": "[encoded data removed]",
            "text/plain": [
              "<Figure size 1080x504 with 1 Axes>"
            ]
          },
          "metadata": {
            "needs_background": "light"
          }
        }
      ]
    },
    {
      "cell_type": "markdown",
      "source": [
        "aqui esta, o comportamento da ação da Amazon, agora vou calcular o seu ROI"
      ],
      "metadata": {
        "id": "4hnGDUPeAzJz"
      }
    },
    {
      "cell_type": "code",
      "source": [
        "roi_amazon = (dados/dados.shift(1))-1"
      ],
      "metadata": {
        "id": "q3FZ3uxZA_e2"
      },
      "execution_count": 71,
      "outputs": []
    },
    {
      "cell_type": "code",
      "source": [
        "roi_amazon.head()"
      ],
      "metadata": {
        "colab": {
          "base_uri": "https://localhost:8080/",
          "height": 206
        },
        "id": "xOUocBWTBKKP",
        "outputId": "3bd07081-3b2f-42d9-dbb6-243db93d791e"
      },
      "execution_count": 72,
      "outputs": [
        {
          "output_type": "execute_result",
          "data": {
            "text/html": [
              "<div>\n",
              "<style scoped>\n",
              "    .dataframe tbody tr th:only-of-type {\n",
              "        vertical-align: middle;\n",
              "    }\n",
              "\n",
              "    .dataframe tbody tr th {\n",
              "        vertical-align: top;\n",
              "    }\n",
              "\n",
              "    .dataframe thead th {\n",
              "        text-align: right;\n",
              "    }\n",
              "</style>\n",
              "<table border=\"1\" class=\"dataframe\">\n",
              "  <thead>\n",
              "    <tr style=\"text-align: right;\">\n",
              "      <th></th>\n",
              "      <th>AMZN</th>\n",
              "    </tr>\n",
              "  </thead>\n",
              "  <tbody>\n",
              "    <tr>\n",
              "      <th>0</th>\n",
              "      <td>NaN</td>\n",
              "    </tr>\n",
              "    <tr>\n",
              "      <th>1</th>\n",
              "      <td>-0.003683</td>\n",
              "    </tr>\n",
              "    <tr>\n",
              "      <th>2</th>\n",
              "      <td>0.012511</td>\n",
              "    </tr>\n",
              "    <tr>\n",
              "      <th>3</th>\n",
              "      <td>-0.001193</td>\n",
              "    </tr>\n",
              "    <tr>\n",
              "      <th>4</th>\n",
              "      <td>0.009630</td>\n",
              "    </tr>\n",
              "  </tbody>\n",
              "</table>\n",
              "</div>"
            ],
            "text/plain": [
              "       AMZN\n",
              "0       NaN\n",
              "1 -0.003683\n",
              "2  0.012511\n",
              "3 -0.001193\n",
              "4  0.009630"
            ]
          },
          "metadata": {},
          "execution_count": 72
        }
      ]
    },
    {
      "cell_type": "markdown",
      "source": [
        "pegando a média igual anteriormente"
      ],
      "metadata": {
        "id": "Hw8ZcsBWBPzE"
      }
    },
    {
      "cell_type": "code",
      "source": [
        "media_roi_amazon = round(roi_amazon.mean()*250,5)"
      ],
      "metadata": {
        "id": "fewPUOrjBNDx"
      },
      "execution_count": 73,
      "outputs": []
    },
    {
      "cell_type": "code",
      "source": [
        "print(str(round(media_roi_amazon*100,2)))"
      ],
      "metadata": {
        "colab": {
          "base_uri": "https://localhost:8080/"
        },
        "id": "L94wzouQBfNK",
        "outputId": "2b6a1eef-3e08-4b3b-91c9-55d2eacd240f"
      },
      "execution_count": 74,
      "outputs": [
        {
          "output_type": "stream",
          "name": "stdout",
          "text": [
            "AMZN    94.47\n",
            "dtype: float64\n"
          ]
        }
      ]
    },
    {
      "cell_type": "markdown",
      "source": [
        "Portanto a ação Amazon teve ROI de 94,47% neste ano em questão"
      ],
      "metadata": {
        "id": "RKFMVo4PBry1"
      }
    }
  ]
}